{
  "nbformat": 4,
  "nbformat_minor": 0,
  "metadata": {
    "colab": {
      "provenance": []
    },
    "kernelspec": {
      "name": "python3",
      "display_name": "Python 3"
    },
    "language_info": {
      "name": "python"
    }
  },
  "cells": [
    {
      "cell_type": "markdown",
      "source": [
        "#**SINGLE LAYER PERCEPTRON**"
      ],
      "metadata": {
        "id": "1zUIknWI735y"
      }
    },
    {
      "cell_type": "code",
      "execution_count": 1,
      "metadata": {
        "id": "28i7indtyVBt"
      },
      "outputs": [],
      "source": [
        "import numpy as np"
      ]
    },
    {
      "cell_type": "code",
      "source": [
        "class Perceptron:\n",
        "  def __init__(self, N, learning_rate = 0.1):\n",
        "    # initialize the weight matrix and store the learning rate\n",
        "    self.W = np.random.randn(N + 1) / np.sqrt(N)\n",
        "    self.learning_rate = learning_rate\n",
        "\n",
        "  def step(self, x):\n",
        "    # apply the step function\n",
        "    return 1 if x > 0 else 0 #mengembalikan nilai 1 jika x>0\n",
        "\n",
        "  def fit(self, X, y, epochs=10):\n",
        "    # insert a column of 1's as the last entry in the feature\n",
        "\t\t# matrix -- this little trick allows us to treat the bias\n",
        "\t\t# as a trainable parameter within the weight matrix\n",
        "    X = np.c_[X, np.ones((X.shape[0]))]\n",
        "\n",
        "    # loop over the desired number of epochs\n",
        "    for epoch in np.arange(0, epochs):\n",
        "\t\t\t# loop over each individual data point\n",
        "      for (x, target) in zip(X, y):\n",
        "\t\t\t\t# take the dot product between the input features\n",
        "\t\t\t\t# and the weight matrix, then pass this value\n",
        "\t\t\t\t# through the step function to obtain the prediction\n",
        "        p = self.step(np.dot(x, self.W)) #memperbarui bobot\n",
        "\t\t\t\t# only perform a weight update if our prediction\n",
        "\t\t\t\t# does not match the target\n",
        "        if p != target:\n",
        "\t\t\t\t\t# determine the error\n",
        "          error = p - target\n",
        "\t\t\t\t\t# update the weight matrix\n",
        "          self.W += -self.learning_rate * error * x\n",
        "\n",
        "  def predict(self, X, addBias=True):\n",
        "\t\t# ensure our input is a matrix\n",
        "    X = np.atleast_2d(X)\n",
        "\t\t# check to see if the bias column should be added\n",
        "    if addBias:\n",
        "\t\t\t# insert a column of 1's as the last entry in the feature\n",
        "\t\t\t# matrix (bias)\n",
        "      X = np.c_[X, np.ones((X.shape[0]))]\n",
        "\t\t# take the dot product between the input features and the\n",
        "\t\t# weight matrix, then pass the value through the step\n",
        "\t\t# function\n",
        "    return self.step(np.dot(X, self.W))"
      ],
      "metadata": {
        "id": "l-iiUijs1w90"
      },
      "execution_count": 2,
      "outputs": []
    },
    {
      "cell_type": "markdown",
      "source": [
        "**TES PADA MASALAH AND**"
      ],
      "metadata": {
        "id": "39YpXMV66SO-"
      }
    },
    {
      "cell_type": "code",
      "source": [
        "X = np.array([[0, 0], [0, 1], [1, 0], [1, 1]])\n",
        "y = np.array([[0], [0], [0], [1]])\n",
        "\n",
        "#define our perceptron and train\n",
        "print('[INFO] training perception...')\n",
        "p = Perceptron(X.shape[1], learning_rate = 0.1)\n",
        "p.fit(X, y, epochs = 10)\n",
        "\n",
        "#Evaluasi perceptron\n",
        "print('[INFO] testing perceptron...')\n",
        "for (x, target) in zip(X, y):\n",
        "  pred = p.predict(x)\n",
        "  print('[INFO] data={}, ground-truth={}, pred={}'.format(x, target[0], pred))"
      ],
      "metadata": {
        "colab": {
          "base_uri": "https://localhost:8080/"
        },
        "id": "zjn5h6b719F8",
        "outputId": "2ec5d3ce-0a54-40f5-b046-d0503afadef6"
      },
      "execution_count": 3,
      "outputs": [
        {
          "output_type": "stream",
          "name": "stdout",
          "text": [
            "[INFO] training perception...\n",
            "[INFO] testing perceptron...\n",
            "[INFO] data=[0 0], ground-truth=0, pred=0\n",
            "[INFO] data=[0 1], ground-truth=0, pred=1\n",
            "[INFO] data=[1 0], ground-truth=0, pred=1\n",
            "[INFO] data=[1 1], ground-truth=1, pred=1\n"
          ]
        }
      ]
    },
    {
      "cell_type": "markdown",
      "source": [
        "ground-truth = data seharusnya, pred = prediksi"
      ],
      "metadata": {
        "id": "YLGxOY0p4HGA"
      }
    },
    {
      "cell_type": "markdown",
      "source": [
        "**TES PADA MASALAH OR**"
      ],
      "metadata": {
        "id": "crD8Q2zr4NKO"
      }
    },
    {
      "cell_type": "code",
      "source": [
        "X = np.array([[0, 0], [0, 1], [1, 0], [1, 1]])\n",
        "y = np.array([[0], [1], [1], [1]])\n",
        "\n",
        "#define our perceptron an train\n",
        "print('[INFO] training perception...')\n",
        "p = Perceptron(X.shape[1], learning_rate = 0.1)\n",
        "p.fit(X, y, epochs = 20)\n",
        "\n",
        "#Evaluasi perceptron\n",
        "print('[INFO] testing perceptron...')\n",
        "for (x, target) in zip(X, y):\n",
        "  pred = p.predict(x)\n",
        "  print('[INFO] data={}, ground-truth={}, pred={}'.format(x, target[0], pred))"
      ],
      "metadata": {
        "colab": {
          "base_uri": "https://localhost:8080/"
        },
        "id": "ac5J6q1G3DVu",
        "outputId": "35ed72a9-f7dc-4070-840a-afba8be8708e"
      },
      "execution_count": 4,
      "outputs": [
        {
          "output_type": "stream",
          "name": "stdout",
          "text": [
            "[INFO] training perception...\n",
            "[INFO] testing perceptron...\n",
            "[INFO] data=[0 0], ground-truth=0, pred=0\n",
            "[INFO] data=[0 1], ground-truth=1, pred=1\n",
            "[INFO] data=[1 0], ground-truth=1, pred=1\n",
            "[INFO] data=[1 1], ground-truth=1, pred=1\n"
          ]
        }
      ]
    },
    {
      "cell_type": "markdown",
      "source": [
        "**TES PADA MASALAH XOR**"
      ],
      "metadata": {
        "id": "sQvXwLkv6BjO"
      }
    },
    {
      "cell_type": "code",
      "source": [
        "X = np.array([[0, 0], [0, 1], [1, 0], [1, 1]])\n",
        "y = np.array([[1], [1], [1], [0]])\n",
        "\n",
        "#define our perceptron an train\n",
        "print('[INFO] training perception...')\n",
        "p = Perceptron(X.shape[1], learning_rate = 0.1)\n",
        "p.fit(X, y, epochs = 20)\n",
        "\n",
        "#Evaluasi perceptron\n",
        "print('[INFO] testing perceptron...')\n",
        "for (x, target) in zip(X, y):\n",
        "  pred = p.predict(x)\n",
        "  print('[INFO] data={}, ground-truth={}, pred={}'.format(x, target[0], pred))"
      ],
      "metadata": {
        "colab": {
          "base_uri": "https://localhost:8080/"
        },
        "id": "q2pvwv8T4yr2",
        "outputId": "ea66ad78-cc29-4bee-b433-0d56de9dec3c"
      },
      "execution_count": null,
      "outputs": [
        {
          "output_type": "stream",
          "name": "stdout",
          "text": [
            "[INFO] training perception...\n",
            "[INFO] testing perceptron...\n",
            "[INFO] data=[0 0], ground-truth=1, pred=1\n",
            "[INFO] data=[0 1], ground-truth=1, pred=1\n",
            "[INFO] data=[1 0], ground-truth=1, pred=1\n",
            "[INFO] data=[1 1], ground-truth=0, pred=0\n"
          ]
        }
      ]
    },
    {
      "cell_type": "markdown",
      "source": [
        "#**MULTILAYER PERCEPTRON**"
      ],
      "metadata": {
        "id": "oSjbuPvS7-pq"
      }
    },
    {
      "cell_type": "code",
      "source": [
        "from sklearn.neural_network import MLPClassifier\n",
        "from sklearn.datasets import make_classification\n",
        "from sklearn.model_selection import train_test_split\n",
        "import numpy as np\n",
        "import seaborn as sns"
      ],
      "metadata": {
        "id": "5a3G1v7_6dmh"
      },
      "execution_count": 5,
      "outputs": []
    },
    {
      "cell_type": "code",
      "source": [
        "#Buat dataset dummy\n",
        "X, y = make_classification(n_samples=100, random_state=1)"
      ],
      "metadata": {
        "id": "TeK5CLfW8Zct"
      },
      "execution_count": 6,
      "outputs": []
    },
    {
      "cell_type": "code",
      "source": [
        "X.shape"
      ],
      "metadata": {
        "colab": {
          "base_uri": "https://localhost:8080/"
        },
        "id": "P7JRANXg8j_F",
        "outputId": "a888dcde-79b2-4ad9-f526-9396df6de522"
      },
      "execution_count": 7,
      "outputs": [
        {
          "output_type": "execute_result",
          "data": {
            "text/plain": [
              "(100, 20)"
            ]
          },
          "metadata": {},
          "execution_count": 7
        }
      ]
    },
    {
      "cell_type": "code",
      "source": [
        "y.shape"
      ],
      "metadata": {
        "colab": {
          "base_uri": "https://localhost:8080/"
        },
        "id": "GfZOdhQy8oRU",
        "outputId": "ccef8137-583e-4015-8702-f6d678bc7d26"
      },
      "execution_count": 8,
      "outputs": [
        {
          "output_type": "execute_result",
          "data": {
            "text/plain": [
              "(100,)"
            ]
          },
          "metadata": {},
          "execution_count": 8
        }
      ]
    },
    {
      "cell_type": "code",
      "source": [
        "#Nilai y dan jumlahnya\n",
        "np.unique(y, return_counts = True)"
      ],
      "metadata": {
        "colab": {
          "base_uri": "https://localhost:8080/"
        },
        "id": "1MT2bCWo8rky",
        "outputId": "55c8cf9b-221d-4174-bb9a-1ab7525e85c6"
      },
      "execution_count": 9,
      "outputs": [
        {
          "output_type": "execute_result",
          "data": {
            "text/plain": [
              "(array([0, 1]), array([51, 49]))"
            ]
          },
          "metadata": {},
          "execution_count": 9
        }
      ]
    },
    {
      "cell_type": "code",
      "source": [
        "X_train, X_test, y_train, y_test = train_test_split(X, y, test_size = 0.2, stratify = y, random_state =1)"
      ],
      "metadata": {
        "id": "1gOjlb4i86EF"
      },
      "execution_count": 10,
      "outputs": []
    },
    {
      "cell_type": "markdown",
      "source": [
        "statify = y --> nilai data train dan data test seimbang"
      ],
      "metadata": {
        "id": "oZvHUVBa-C50"
      }
    },
    {
      "cell_type": "code",
      "source": [
        "#Model MLP Classifier\n",
        "clf = MLPClassifier(hidden_layer_sizes = (100,100), random_state = 1, max_iter =300)\n",
        "clf = clf.fit(X_train, y_train)"
      ],
      "metadata": {
        "id": "1OVlhFu89X8U"
      },
      "execution_count": 11,
      "outputs": []
    },
    {
      "cell_type": "code",
      "source": [
        "#Prediksi model\n",
        "y_pred = clf.predict(X_test)"
      ],
      "metadata": {
        "id": "gc6rxder9yt6"
      },
      "execution_count": 12,
      "outputs": []
    },
    {
      "cell_type": "code",
      "source": [
        "#Evaluasi\n",
        "from sklearn.metrics import accuracy_score, classification_report, confusion_matrix"
      ],
      "metadata": {
        "id": "w0SxQFvNANeB"
      },
      "execution_count": 13,
      "outputs": []
    },
    {
      "cell_type": "code",
      "source": [
        "#Skor akurasi\n",
        "print(accuracy_score(y_test, y_pred))"
      ],
      "metadata": {
        "colab": {
          "base_uri": "https://localhost:8080/"
        },
        "id": "lEtlVjxBAZ1Q",
        "outputId": "e5dbe8bc-cc72-41cd-b07f-29b0aa736239"
      },
      "execution_count": 14,
      "outputs": [
        {
          "output_type": "stream",
          "name": "stdout",
          "text": [
            "0.9\n"
          ]
        }
      ]
    },
    {
      "cell_type": "code",
      "source": [
        "#Confusion matrix\n",
        "cm = np.array(confusion_matrix(y_test, y_pred, labels = [0,1]))\n",
        "sns.heatmap(cm, annot=True, fmt = 'g')"
      ],
      "metadata": {
        "colab": {
          "base_uri": "https://localhost:8080/",
          "height": 452
        },
        "id": "HX3RvlHrAgwY",
        "outputId": "9343d52f-b4cd-481b-cbdd-b97453a152ea"
      },
      "execution_count": 15,
      "outputs": [
        {
          "output_type": "execute_result",
          "data": {
            "text/plain": [
              "<Axes: >"
            ]
          },
          "metadata": {},
          "execution_count": 15
        },
        {
          "output_type": "display_data",
          "data": {
            "text/plain": [
              "<Figure size 640x480 with 2 Axes>"
            ],
            "image/png": "[encoded data removed]"
          },
          "metadata": {}
        }
      ]
    },
    {
      "cell_type": "code",
      "source": [
        "#Classifocation Report\n",
        "print(classification_report(y_test, y_pred))"
      ],
      "metadata": {
        "colab": {
          "base_uri": "https://localhost:8080/"
        },
        "id": "kVZkaaPSAwJt",
        "outputId": "97b9d4cf-5920-4fa1-df4d-a6684a2032e4"
      },
      "execution_count": 16,
      "outputs": [
        {
          "output_type": "stream",
          "name": "stdout",
          "text": [
            "              precision    recall  f1-score   support\n",
            "\n",
            "           0       0.83      1.00      0.91        10\n",
            "           1       1.00      0.80      0.89        10\n",
            "\n",
            "    accuracy                           0.90        20\n",
            "   macro avg       0.92      0.90      0.90        20\n",
            "weighted avg       0.92      0.90      0.90        20\n",
            "\n"
          ]
        }
      ]
    },
    {
      "cell_type": "markdown",
      "source": [
        "Nilai ringkasan evaluasi model klasofikasi yang telah dibuat"
      ],
      "metadata": {
        "id": "0vrNFBaOxV5W"
      }
    }
  ]
}