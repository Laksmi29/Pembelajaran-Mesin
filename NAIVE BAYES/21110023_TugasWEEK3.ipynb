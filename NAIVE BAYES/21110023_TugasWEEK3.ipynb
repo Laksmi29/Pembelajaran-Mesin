{
  "nbformat": 4,
  "nbformat_minor": 0,
  "metadata": {
    "colab": {
      "provenance": []
    },
    "kernelspec": {
      "name": "python3",
      "display_name": "Python 3"
    },
    "language_info": {
      "name": "python"
    }
  },
  "cells": [
    {
      "cell_type": "markdown",
      "source": [
        "# Nama: Laksmi Dyah Nurlita\n",
        "# NIM: 21110023\n",
        "# Kelas: S1SD02-A"
      ],
      "metadata": {
        "id": "SXYrAXYpGTsp"
      }
    },
    {
      "cell_type": "code",
      "execution_count": 2,
      "metadata": {
        "id": "2wiGnGMvGDyE"
      },
      "outputs": [],
      "source": [
        "import numpy as np\n",
        "import matplotlib.pyplot as plt\n",
        "import pandas as pd\n",
        "import seaborn as sns"
      ]
    },
    {
      "cell_type": "code",
      "source": [
        "#Import data\n",
        "data = pd.read_csv('data_pinjaman.csv')\n",
        "data.head()"
      ],
      "metadata": {
        "colab": {
          "base_uri": "https://localhost:8080/",
          "height": 206
        },
        "id": "vc_GeBY1GkVk",
        "outputId": "4db4e5a4-2e82-4ce4-96f2-3b538cbe3d08"
      },
      "execution_count": 3,
      "outputs": [
        {
          "output_type": "execute_result",
          "data": {
            "text/plain": [
              "   Umur  Pemasukan  Keluarga  Edukasi  Hipotek  Pinjaman Pribadi  \\\n",
              "0    35         81         3        2      104                 0   \n",
              "1    34        180         1        3        0                 1   \n",
              "2    38        130         4        3      134                 1   \n",
              "3    46        193         2        3        0                 1   \n",
              "4    56         25         4        2      111                 0   \n",
              "\n",
              "   Rekening Efek  Sertifikat Deposito  Online  Kartu Kredit  \n",
              "0              0                    0       1             0  \n",
              "1              0                    0       0             0  \n",
              "2              0                    0       0             0  \n",
              "3              0                    0       0             0  \n",
              "4              0                    0       1             0  "
            ],
            "text/html": [
              "\n",
              "  <div id=\"df-62d89dad-893b-41a2-86b3-744bf4adc1a7\">\n",
              "    <div class=\"colab-df-container\">\n",
              "      <div>\n",
              "<style scoped>\n",
              "    .dataframe tbody tr th:only-of-type {\n",
              "        vertical-align: middle;\n",
              "    }\n",
              "\n",
              "    .dataframe tbody tr th {\n",
              "        vertical-align: top;\n",
              "    }\n",
              "\n",
              "    .dataframe thead th {\n",
              "        text-align: right;\n",
              "    }\n",
              "</style>\n",
              "<table border=\"1\" class=\"dataframe\">\n",
              "  <thead>\n",
              "    <tr style=\"text-align: right;\">\n",
              "      <th></th>\n",
              "      <th>Umur</th>\n",
              "      <th>Pemasukan</th>\n",
              "      <th>Keluarga</th>\n",
              "      <th>Edukasi</th>\n",
              "      <th>Hipotek</th>\n",
              "      <th>Pinjaman Pribadi</th>\n",
              "      <th>Rekening Efek</th>\n",
              "      <th>Sertifikat Deposito</th>\n",
              "      <th>Online</th>\n",
              "      <th>Kartu Kredit</th>\n",
              "    </tr>\n",
              "  </thead>\n",
              "  <tbody>\n",
              "    <tr>\n",
              "      <th>0</th>\n",
              "      <td>35</td>\n",
              "      <td>81</td>\n",
              "      <td>3</td>\n",
              "      <td>2</td>\n",
              "      <td>104</td>\n",
              "      <td>0</td>\n",
              "      <td>0</td>\n",
              "      <td>0</td>\n",
              "      <td>1</td>\n",
              "      <td>0</td>\n",
              "    </tr>\n",
              "    <tr>\n",
              "      <th>1</th>\n",
              "      <td>34</td>\n",
              "      <td>180</td>\n",
              "      <td>1</td>\n",
              "      <td>3</td>\n",
              "      <td>0</td>\n",
              "      <td>1</td>\n",
              "      <td>0</td>\n",
              "      <td>0</td>\n",
              "      <td>0</td>\n",
              "      <td>0</td>\n",
              "    </tr>\n",
              "    <tr>\n",
              "      <th>2</th>\n",
              "      <td>38</td>\n",
              "      <td>130</td>\n",
              "      <td>4</td>\n",
              "      <td>3</td>\n",
              "      <td>134</td>\n",
              "      <td>1</td>\n",
              "      <td>0</td>\n",
              "      <td>0</td>\n",
              "      <td>0</td>\n",
              "      <td>0</td>\n",
              "    </tr>\n",
              "    <tr>\n",
              "      <th>3</th>\n",
              "      <td>46</td>\n",
              "      <td>193</td>\n",
              "      <td>2</td>\n",
              "      <td>3</td>\n",
              "      <td>0</td>\n",
              "      <td>1</td>\n",
              "      <td>0</td>\n",
              "      <td>0</td>\n",
              "      <td>0</td>\n",
              "      <td>0</td>\n",
              "    </tr>\n",
              "    <tr>\n",
              "      <th>4</th>\n",
              "      <td>56</td>\n",
              "      <td>25</td>\n",
              "      <td>4</td>\n",
              "      <td>2</td>\n",
              "      <td>111</td>\n",
              "      <td>0</td>\n",
              "      <td>0</td>\n",
              "      <td>0</td>\n",
              "      <td>1</td>\n",
              "      <td>0</td>\n",
              "    </tr>\n",
              "  </tbody>\n",
              "</table>\n",
              "</div>\n",
              "      <button class=\"colab-df-convert\" onclick=\"convertToInteractive('df-62d89dad-893b-41a2-86b3-744bf4adc1a7')\"\n",
              "              title=\"Convert this dataframe to an interactive table.\"\n",
              "              style=\"display:none;\">\n",
              "        \n",
              "  <svg xmlns=\"http://www.w3.org/2000/svg\" height=\"24px\"viewBox=\"0 0 24 24\"\n",
              "       width=\"24px\">\n",
              "    <path d=\"M0 0h24v24H0V0z\" fill=\"none\"/>\n",
              "    <path d=\"M18.56 5.44l.94 2.06.94-2.06 2.06-.94-2.06-.94-.94-2.06-.94 2.06-2.06.94zm-11 1L8.5 8.5l.94-2.06 2.06-.94-2.06-.94L8.5 2.5l-.94 2.06-2.06.94zm10 10l.94 2.06.94-2.06 2.06-.94-2.06-.94-.94-2.06-.94 2.06-2.06.94z\"/><path d=\"M17.41 7.96l-1.37-1.37c-.4-.4-.92-.59-1.43-.59-.52 0-1.04.2-1.43.59L10.3 9.45l-7.72 7.72c-.78.78-.78 2.05 0 2.83L4 21.41c.39.39.9.59 1.41.59.51 0 1.02-.2 1.41-.59l7.78-7.78 2.81-2.81c.8-.78.8-2.07 0-2.86zM5.41 20L4 18.59l7.72-7.72 1.47 1.35L5.41 20z\"/>\n",
              "  </svg>\n",
              "      </button>\n",
              "      \n",
              "  <style>\n",
              "    .colab-df-container {\n",
              "      display:flex;\n",
              "      flex-wrap:wrap;\n",
              "      gap: 12px;\n",
              "    }\n",
              "\n",
              "    .colab-df-convert {\n",
              "      background-color: #E8F0FE;\n",
              "      border: none;\n",
              "      border-radius: 50%;\n",
              "      cursor: pointer;\n",
              "      display: none;\n",
              "      fill: #1967D2;\n",
              "      height: 32px;\n",
              "      padding: 0 0 0 0;\n",
              "      width: 32px;\n",
              "    }\n",
              "\n",
              "    .colab-df-convert:hover {\n",
              "      background-color: #E2EBFA;\n",
              "      box-shadow: 0px 1px 2px rgba(60, 64, 67, 0.3), 0px 1px 3px 1px rgba(60, 64, 67, 0.15);\n",
              "      fill: #174EA6;\n",
              "    }\n",
              "\n",
              "    [theme=dark] .colab-df-convert {\n",
              "      background-color: #3B4455;\n",
              "      fill: #D2E3FC;\n",
              "    }\n",
              "\n",
              "    [theme=dark] .colab-df-convert:hover {\n",
              "      background-color: #434B5C;\n",
              "      box-shadow: 0px 1px 3px 1px rgba(0, 0, 0, 0.15);\n",
              "      filter: drop-shadow(0px 1px 2px rgba(0, 0, 0, 0.3));\n",
              "      fill: #FFFFFF;\n",
              "    }\n",
              "  </style>\n",
              "\n",
              "      <script>\n",
              "        const buttonEl =\n",
              "          document.querySelector('#df-62d89dad-893b-41a2-86b3-744bf4adc1a7 button.colab-df-convert');\n",
              "        buttonEl.style.display =\n",
              "          google.colab.kernel.accessAllowed ? 'block' : 'none';\n",
              "\n",
              "        async function convertToInteractive(key) {\n",
              "          const element = document.querySelector('#df-62d89dad-893b-41a2-86b3-744bf4adc1a7');\n",
              "          const dataTable =\n",
              "            await google.colab.kernel.invokeFunction('convertToInteractive',\n",
              "                                                     [key], {});\n",
              "          if (!dataTable) return;\n",
              "\n",
              "          const docLinkHtml = 'Like what you see? Visit the ' +\n",
              "            '<a target=\"_blank\" href=https://colab.research.google.com/notebooks/data_table.ipynb>data table notebook</a>'\n",
              "            + ' to learn more about interactive tables.';\n",
              "          element.innerHTML = '';\n",
              "          dataTable['output_type'] = 'display_data';\n",
              "          await google.colab.output.renderOutput(dataTable, element);\n",
              "          const docLink = document.createElement('div');\n",
              "          docLink.innerHTML = docLinkHtml;\n",
              "          element.appendChild(docLink);\n",
              "        }\n",
              "      </script>\n",
              "    </div>\n",
              "  </div>\n",
              "  "
            ]
          },
          "metadata": {},
          "execution_count": 3
        }
      ]
    },
    {
      "cell_type": "code",
      "source": [
        "#Dimensi data\n",
        "data.shape"
      ],
      "metadata": {
        "id": "KKu__vbvHLw5",
        "colab": {
          "base_uri": "https://localhost:8080/"
        },
        "outputId": "c601218e-e9d7-4379-d990-2eb45d44a973"
      },
      "execution_count": 5,
      "outputs": [
        {
          "output_type": "execute_result",
          "data": {
            "text/plain": [
              "(960, 10)"
            ]
          },
          "metadata": {},
          "execution_count": 5
        }
      ]
    },
    {
      "cell_type": "markdown",
      "source": [
        "Output: Terdiri dari 960 baris dan 10 kolom"
      ],
      "metadata": {
        "id": "U-0HVWKTe-XX"
      }
    },
    {
      "cell_type": "code",
      "source": [
        "#Informasi data\n",
        "data.info()"
      ],
      "metadata": {
        "colab": {
          "base_uri": "https://localhost:8080/"
        },
        "id": "irSJ4HiVTscY",
        "outputId": "83e075ba-7b02-485c-93cc-42add3f17f21"
      },
      "execution_count": 6,
      "outputs": [
        {
          "output_type": "stream",
          "name": "stdout",
          "text": [
            "<class 'pandas.core.frame.DataFrame'>\n",
            "RangeIndex: 960 entries, 0 to 959\n",
            "Data columns (total 10 columns):\n",
            " #   Column               Non-Null Count  Dtype\n",
            "---  ------               --------------  -----\n",
            " 0   Umur                 960 non-null    int64\n",
            " 1   Pemasukan            960 non-null    int64\n",
            " 2   Keluarga             960 non-null    int64\n",
            " 3   Edukasi              960 non-null    int64\n",
            " 4   Hipotek              960 non-null    int64\n",
            " 5   Pinjaman Pribadi     960 non-null    int64\n",
            " 6   Rekening Efek        960 non-null    int64\n",
            " 7   Sertifikat Deposito  960 non-null    int64\n",
            " 8   Online               960 non-null    int64\n",
            " 9   Kartu Kredit         960 non-null    int64\n",
            "dtypes: int64(10)\n",
            "memory usage: 75.1 KB\n"
          ]
        }
      ]
    },
    {
      "cell_type": "markdown",
      "source": [
        "Output: terdiri dari 960 baris dari index 0-959, memiliki total 10 kolom yg memiliki masing-masing data non-null. setiap kolom memiliki type data integer 64 bit"
      ],
      "metadata": {
        "id": "iTIw7iB7fLa6"
      }
    },
    {
      "cell_type": "code",
      "source": [
        "#Daskriptif statistik\n",
        "data.describe()"
      ],
      "metadata": {
        "colab": {
          "base_uri": "https://localhost:8080/",
          "height": 300
        },
        "id": "e-pRGWiiUJYJ",
        "outputId": "8aef6760-3b33-4c74-c38b-71100c61cb9e"
      },
      "execution_count": 7,
      "outputs": [
        {
          "output_type": "execute_result",
          "data": {
            "text/plain": [
              "             Umur   Pemasukan    Keluarga     Edukasi     Hipotek  \\\n",
              "count  960.000000  960.000000  960.000000  960.000000  960.000000   \n",
              "mean    45.308333  105.629167    2.492708    2.058333   75.584375   \n",
              "std     11.660059   53.940530    1.154376    0.812271  132.366844   \n",
              "min     23.000000    9.000000    1.000000    1.000000    0.000000   \n",
              "25%     35.000000   55.000000    1.000000    1.000000    0.000000   \n",
              "50%     45.000000  111.000000    3.000000    2.000000    0.000000   \n",
              "75%     55.000000  152.250000    4.000000    3.000000  118.250000   \n",
              "max     66.000000  203.000000    4.000000    3.000000  617.000000   \n",
              "\n",
              "       Pinjaman Pribadi  Rekening Efek  Sertifikat Deposito      Online  \\\n",
              "count        960.000000     960.000000           960.000000  960.000000   \n",
              "mean           0.500000       0.112500             0.164583    0.600000   \n",
              "std            0.500261       0.316145             0.370997    0.490153   \n",
              "min            0.000000       0.000000             0.000000    0.000000   \n",
              "25%            0.000000       0.000000             0.000000    0.000000   \n",
              "50%            0.500000       0.000000             0.000000    1.000000   \n",
              "75%            1.000000       0.000000             0.000000    1.000000   \n",
              "max            1.000000       1.000000             1.000000    1.000000   \n",
              "\n",
              "       Kartu Kredit  \n",
              "count    960.000000  \n",
              "mean       0.286458  \n",
              "std        0.452342  \n",
              "min        0.000000  \n",
              "25%        0.000000  \n",
              "50%        0.000000  \n",
              "75%        1.000000  \n",
              "max        1.000000  "
            ],
            "text/html": [
              "\n",
              "  <div id=\"df-141c647a-5e1c-4b6b-8f21-e707b66006c3\">\n",
              "    <div class=\"colab-df-container\">\n",
              "      <div>\n",
              "<style scoped>\n",
              "    .dataframe tbody tr th:only-of-type {\n",
              "        vertical-align: middle;\n",
              "    }\n",
              "\n",
              "    .dataframe tbody tr th {\n",
              "        vertical-align: top;\n",
              "    }\n",
              "\n",
              "    .dataframe thead th {\n",
              "        text-align: right;\n",
              "    }\n",
              "</style>\n",
              "<table border=\"1\" class=\"dataframe\">\n",
              "  <thead>\n",
              "    <tr style=\"text-align: right;\">\n",
              "      <th></th>\n",
              "      <th>Umur</th>\n",
              "      <th>Pemasukan</th>\n",
              "      <th>Keluarga</th>\n",
              "      <th>Edukasi</th>\n",
              "      <th>Hipotek</th>\n",
              "      <th>Pinjaman Pribadi</th>\n",
              "      <th>Rekening Efek</th>\n",
              "      <th>Sertifikat Deposito</th>\n",
              "      <th>Online</th>\n",
              "      <th>Kartu Kredit</th>\n",
              "    </tr>\n",
              "  </thead>\n",
              "  <tbody>\n",
              "    <tr>\n",
              "      <th>count</th>\n",
              "      <td>960.000000</td>\n",
              "      <td>960.000000</td>\n",
              "      <td>960.000000</td>\n",
              "      <td>960.000000</td>\n",
              "      <td>960.000000</td>\n",
              "      <td>960.000000</td>\n",
              "      <td>960.000000</td>\n",
              "      <td>960.000000</td>\n",
              "      <td>960.000000</td>\n",
              "      <td>960.000000</td>\n",
              "    </tr>\n",
              "    <tr>\n",
              "      <th>mean</th>\n",
              "      <td>45.308333</td>\n",
              "      <td>105.629167</td>\n",
              "      <td>2.492708</td>\n",
              "      <td>2.058333</td>\n",
              "      <td>75.584375</td>\n",
              "      <td>0.500000</td>\n",
              "      <td>0.112500</td>\n",
              "      <td>0.164583</td>\n",
              "      <td>0.600000</td>\n",
              "      <td>0.286458</td>\n",
              "    </tr>\n",
              "    <tr>\n",
              "      <th>std</th>\n",
              "      <td>11.660059</td>\n",
              "      <td>53.940530</td>\n",
              "      <td>1.154376</td>\n",
              "      <td>0.812271</td>\n",
              "      <td>132.366844</td>\n",
              "      <td>0.500261</td>\n",
              "      <td>0.316145</td>\n",
              "      <td>0.370997</td>\n",
              "      <td>0.490153</td>\n",
              "      <td>0.452342</td>\n",
              "    </tr>\n",
              "    <tr>\n",
              "      <th>min</th>\n",
              "      <td>23.000000</td>\n",
              "      <td>9.000000</td>\n",
              "      <td>1.000000</td>\n",
              "      <td>1.000000</td>\n",
              "      <td>0.000000</td>\n",
              "      <td>0.000000</td>\n",
              "      <td>0.000000</td>\n",
              "      <td>0.000000</td>\n",
              "      <td>0.000000</td>\n",
              "      <td>0.000000</td>\n",
              "    </tr>\n",
              "    <tr>\n",
              "      <th>25%</th>\n",
              "      <td>35.000000</td>\n",
              "      <td>55.000000</td>\n",
              "      <td>1.000000</td>\n",
              "      <td>1.000000</td>\n",
              "      <td>0.000000</td>\n",
              "      <td>0.000000</td>\n",
              "      <td>0.000000</td>\n",
              "      <td>0.000000</td>\n",
              "      <td>0.000000</td>\n",
              "      <td>0.000000</td>\n",
              "    </tr>\n",
              "    <tr>\n",
              "      <th>50%</th>\n",
              "      <td>45.000000</td>\n",
              "      <td>111.000000</td>\n",
              "      <td>3.000000</td>\n",
              "      <td>2.000000</td>\n",
              "      <td>0.000000</td>\n",
              "      <td>0.500000</td>\n",
              "      <td>0.000000</td>\n",
              "      <td>0.000000</td>\n",
              "      <td>1.000000</td>\n",
              "      <td>0.000000</td>\n",
              "    </tr>\n",
              "    <tr>\n",
              "      <th>75%</th>\n",
              "      <td>55.000000</td>\n",
              "      <td>152.250000</td>\n",
              "      <td>4.000000</td>\n",
              "      <td>3.000000</td>\n",
              "      <td>118.250000</td>\n",
              "      <td>1.000000</td>\n",
              "      <td>0.000000</td>\n",
              "      <td>0.000000</td>\n",
              "      <td>1.000000</td>\n",
              "      <td>1.000000</td>\n",
              "    </tr>\n",
              "    <tr>\n",
              "      <th>max</th>\n",
              "      <td>66.000000</td>\n",
              "      <td>203.000000</td>\n",
              "      <td>4.000000</td>\n",
              "      <td>3.000000</td>\n",
              "      <td>617.000000</td>\n",
              "      <td>1.000000</td>\n",
              "      <td>1.000000</td>\n",
              "      <td>1.000000</td>\n",
              "      <td>1.000000</td>\n",
              "      <td>1.000000</td>\n",
              "    </tr>\n",
              "  </tbody>\n",
              "</table>\n",
              "</div>\n",
              "      <button class=\"colab-df-convert\" onclick=\"convertToInteractive('df-141c647a-5e1c-4b6b-8f21-e707b66006c3')\"\n",
              "              title=\"Convert this dataframe to an interactive table.\"\n",
              "              style=\"display:none;\">\n",
              "        \n",
              "  <svg xmlns=\"http://www.w3.org/2000/svg\" height=\"24px\"viewBox=\"0 0 24 24\"\n",
              "       width=\"24px\">\n",
              "    <path d=\"M0 0h24v24H0V0z\" fill=\"none\"/>\n",
              "    <path d=\"M18.56 5.44l.94 2.06.94-2.06 2.06-.94-2.06-.94-.94-2.06-.94 2.06-2.06.94zm-11 1L8.5 8.5l.94-2.06 2.06-.94-2.06-.94L8.5 2.5l-.94 2.06-2.06.94zm10 10l.94 2.06.94-2.06 2.06-.94-2.06-.94-.94-2.06-.94 2.06-2.06.94z\"/><path d=\"M17.41 7.96l-1.37-1.37c-.4-.4-.92-.59-1.43-.59-.52 0-1.04.2-1.43.59L10.3 9.45l-7.72 7.72c-.78.78-.78 2.05 0 2.83L4 21.41c.39.39.9.59 1.41.59.51 0 1.02-.2 1.41-.59l7.78-7.78 2.81-2.81c.8-.78.8-2.07 0-2.86zM5.41 20L4 18.59l7.72-7.72 1.47 1.35L5.41 20z\"/>\n",
              "  </svg>\n",
              "      </button>\n",
              "      \n",
              "  <style>\n",
              "    .colab-df-container {\n",
              "      display:flex;\n",
              "      flex-wrap:wrap;\n",
              "      gap: 12px;\n",
              "    }\n",
              "\n",
              "    .colab-df-convert {\n",
              "      background-color: #E8F0FE;\n",
              "      border: none;\n",
              "      border-radius: 50%;\n",
              "      cursor: pointer;\n",
              "      display: none;\n",
              "      fill: #1967D2;\n",
              "      height: 32px;\n",
              "      padding: 0 0 0 0;\n",
              "      width: 32px;\n",
              "    }\n",
              "\n",
              "    .colab-df-convert:hover {\n",
              "      background-color: #E2EBFA;\n",
              "      box-shadow: 0px 1px 2px rgba(60, 64, 67, 0.3), 0px 1px 3px 1px rgba(60, 64, 67, 0.15);\n",
              "      fill: #174EA6;\n",
              "    }\n",
              "\n",
              "    [theme=dark] .colab-df-convert {\n",
              "      background-color: #3B4455;\n",
              "      fill: #D2E3FC;\n",
              "    }\n",
              "\n",
              "    [theme=dark] .colab-df-convert:hover {\n",
              "      background-color: #434B5C;\n",
              "      box-shadow: 0px 1px 3px 1px rgba(0, 0, 0, 0.15);\n",
              "      filter: drop-shadow(0px 1px 2px rgba(0, 0, 0, 0.3));\n",
              "      fill: #FFFFFF;\n",
              "    }\n",
              "  </style>\n",
              "\n",
              "      <script>\n",
              "        const buttonEl =\n",
              "          document.querySelector('#df-141c647a-5e1c-4b6b-8f21-e707b66006c3 button.colab-df-convert');\n",
              "        buttonEl.style.display =\n",
              "          google.colab.kernel.accessAllowed ? 'block' : 'none';\n",
              "\n",
              "        async function convertToInteractive(key) {\n",
              "          const element = document.querySelector('#df-141c647a-5e1c-4b6b-8f21-e707b66006c3');\n",
              "          const dataTable =\n",
              "            await google.colab.kernel.invokeFunction('convertToInteractive',\n",
              "                                                     [key], {});\n",
              "          if (!dataTable) return;\n",
              "\n",
              "          const docLinkHtml = 'Like what you see? Visit the ' +\n",
              "            '<a target=\"_blank\" href=https://colab.research.google.com/notebooks/data_table.ipynb>data table notebook</a>'\n",
              "            + ' to learn more about interactive tables.';\n",
              "          element.innerHTML = '';\n",
              "          dataTable['output_type'] = 'display_data';\n",
              "          await google.colab.output.renderOutput(dataTable, element);\n",
              "          const docLink = document.createElement('div');\n",
              "          docLink.innerHTML = docLinkHtml;\n",
              "          element.appendChild(docLink);\n",
              "        }\n",
              "      </script>\n",
              "    </div>\n",
              "  </div>\n",
              "  "
            ]
          },
          "metadata": {},
          "execution_count": 7
        }
      ]
    },
    {
      "cell_type": "code",
      "source": [
        "#Ubah kolom 'Pinjaman Pribadi\" menjadi kolom paling kanan\n",
        "\n",
        "#Menghapus data\n",
        "a = data.pop('Pinjaman Pribadi')\n",
        "\n",
        "#Insert data ke sebelah paling kanan\n",
        "data.insert(len(data.columns), 'Pinjaman Pribadi', a)\n",
        "\n",
        "data.head()"
      ],
      "metadata": {
        "colab": {
          "base_uri": "https://localhost:8080/",
          "height": 206
        },
        "id": "hFi-EraxURSb",
        "outputId": "2b3ce01e-f8c9-47dd-9c6f-958b49b8659a"
      },
      "execution_count": 8,
      "outputs": [
        {
          "output_type": "execute_result",
          "data": {
            "text/plain": [
              "   Umur  Pemasukan  Keluarga  Edukasi  Hipotek  Rekening Efek  \\\n",
              "0    35         81         3        2      104              0   \n",
              "1    34        180         1        3        0              0   \n",
              "2    38        130         4        3      134              0   \n",
              "3    46        193         2        3        0              0   \n",
              "4    56         25         4        2      111              0   \n",
              "\n",
              "   Sertifikat Deposito  Online  Kartu Kredit  Pinjaman Pribadi  \n",
              "0                    0       1             0                 0  \n",
              "1                    0       0             0                 1  \n",
              "2                    0       0             0                 1  \n",
              "3                    0       0             0                 1  \n",
              "4                    0       1             0                 0  "
            ],
            "text/html": [
              "\n",
              "  <div id=\"df-77f441ad-36ee-4baf-bd15-313bf84dddc7\">\n",
              "    <div class=\"colab-df-container\">\n",
              "      <div>\n",
              "<style scoped>\n",
              "    .dataframe tbody tr th:only-of-type {\n",
              "        vertical-align: middle;\n",
              "    }\n",
              "\n",
              "    .dataframe tbody tr th {\n",
              "        vertical-align: top;\n",
              "    }\n",
              "\n",
              "    .dataframe thead th {\n",
              "        text-align: right;\n",
              "    }\n",
              "</style>\n",
              "<table border=\"1\" class=\"dataframe\">\n",
              "  <thead>\n",
              "    <tr style=\"text-align: right;\">\n",
              "      <th></th>\n",
              "      <th>Umur</th>\n",
              "      <th>Pemasukan</th>\n",
              "      <th>Keluarga</th>\n",
              "      <th>Edukasi</th>\n",
              "      <th>Hipotek</th>\n",
              "      <th>Rekening Efek</th>\n",
              "      <th>Sertifikat Deposito</th>\n",
              "      <th>Online</th>\n",
              "      <th>Kartu Kredit</th>\n",
              "      <th>Pinjaman Pribadi</th>\n",
              "    </tr>\n",
              "  </thead>\n",
              "  <tbody>\n",
              "    <tr>\n",
              "      <th>0</th>\n",
              "      <td>35</td>\n",
              "      <td>81</td>\n",
              "      <td>3</td>\n",
              "      <td>2</td>\n",
              "      <td>104</td>\n",
              "      <td>0</td>\n",
              "      <td>0</td>\n",
              "      <td>1</td>\n",
              "      <td>0</td>\n",
              "      <td>0</td>\n",
              "    </tr>\n",
              "    <tr>\n",
              "      <th>1</th>\n",
              "      <td>34</td>\n",
              "      <td>180</td>\n",
              "      <td>1</td>\n",
              "      <td>3</td>\n",
              "      <td>0</td>\n",
              "      <td>0</td>\n",
              "      <td>0</td>\n",
              "      <td>0</td>\n",
              "      <td>0</td>\n",
              "      <td>1</td>\n",
              "    </tr>\n",
              "    <tr>\n",
              "      <th>2</th>\n",
              "      <td>38</td>\n",
              "      <td>130</td>\n",
              "      <td>4</td>\n",
              "      <td>3</td>\n",
              "      <td>134</td>\n",
              "      <td>0</td>\n",
              "      <td>0</td>\n",
              "      <td>0</td>\n",
              "      <td>0</td>\n",
              "      <td>1</td>\n",
              "    </tr>\n",
              "    <tr>\n",
              "      <th>3</th>\n",
              "      <td>46</td>\n",
              "      <td>193</td>\n",
              "      <td>2</td>\n",
              "      <td>3</td>\n",
              "      <td>0</td>\n",
              "      <td>0</td>\n",
              "      <td>0</td>\n",
              "      <td>0</td>\n",
              "      <td>0</td>\n",
              "      <td>1</td>\n",
              "    </tr>\n",
              "    <tr>\n",
              "      <th>4</th>\n",
              "      <td>56</td>\n",
              "      <td>25</td>\n",
              "      <td>4</td>\n",
              "      <td>2</td>\n",
              "      <td>111</td>\n",
              "      <td>0</td>\n",
              "      <td>0</td>\n",
              "      <td>1</td>\n",
              "      <td>0</td>\n",
              "      <td>0</td>\n",
              "    </tr>\n",
              "  </tbody>\n",
              "</table>\n",
              "</div>\n",
              "      <button class=\"colab-df-convert\" onclick=\"convertToInteractive('df-77f441ad-36ee-4baf-bd15-313bf84dddc7')\"\n",
              "              title=\"Convert this dataframe to an interactive table.\"\n",
              "              style=\"display:none;\">\n",
              "        \n",
              "  <svg xmlns=\"http://www.w3.org/2000/svg\" height=\"24px\"viewBox=\"0 0 24 24\"\n",
              "       width=\"24px\">\n",
              "    <path d=\"M0 0h24v24H0V0z\" fill=\"none\"/>\n",
              "    <path d=\"M18.56 5.44l.94 2.06.94-2.06 2.06-.94-2.06-.94-.94-2.06-.94 2.06-2.06.94zm-11 1L8.5 8.5l.94-2.06 2.06-.94-2.06-.94L8.5 2.5l-.94 2.06-2.06.94zm10 10l.94 2.06.94-2.06 2.06-.94-2.06-.94-.94-2.06-.94 2.06-2.06.94z\"/><path d=\"M17.41 7.96l-1.37-1.37c-.4-.4-.92-.59-1.43-.59-.52 0-1.04.2-1.43.59L10.3 9.45l-7.72 7.72c-.78.78-.78 2.05 0 2.83L4 21.41c.39.39.9.59 1.41.59.51 0 1.02-.2 1.41-.59l7.78-7.78 2.81-2.81c.8-.78.8-2.07 0-2.86zM5.41 20L4 18.59l7.72-7.72 1.47 1.35L5.41 20z\"/>\n",
              "  </svg>\n",
              "      </button>\n",
              "      \n",
              "  <style>\n",
              "    .colab-df-container {\n",
              "      display:flex;\n",
              "      flex-wrap:wrap;\n",
              "      gap: 12px;\n",
              "    }\n",
              "\n",
              "    .colab-df-convert {\n",
              "      background-color: #E8F0FE;\n",
              "      border: none;\n",
              "      border-radius: 50%;\n",
              "      cursor: pointer;\n",
              "      display: none;\n",
              "      fill: #1967D2;\n",
              "      height: 32px;\n",
              "      padding: 0 0 0 0;\n",
              "      width: 32px;\n",
              "    }\n",
              "\n",
              "    .colab-df-convert:hover {\n",
              "      background-color: #E2EBFA;\n",
              "      box-shadow: 0px 1px 2px rgba(60, 64, 67, 0.3), 0px 1px 3px 1px rgba(60, 64, 67, 0.15);\n",
              "      fill: #174EA6;\n",
              "    }\n",
              "\n",
              "    [theme=dark] .colab-df-convert {\n",
              "      background-color: #3B4455;\n",
              "      fill: #D2E3FC;\n",
              "    }\n",
              "\n",
              "    [theme=dark] .colab-df-convert:hover {\n",
              "      background-color: #434B5C;\n",
              "      box-shadow: 0px 1px 3px 1px rgba(0, 0, 0, 0.15);\n",
              "      filter: drop-shadow(0px 1px 2px rgba(0, 0, 0, 0.3));\n",
              "      fill: #FFFFFF;\n",
              "    }\n",
              "  </style>\n",
              "\n",
              "      <script>\n",
              "        const buttonEl =\n",
              "          document.querySelector('#df-77f441ad-36ee-4baf-bd15-313bf84dddc7 button.colab-df-convert');\n",
              "        buttonEl.style.display =\n",
              "          google.colab.kernel.accessAllowed ? 'block' : 'none';\n",
              "\n",
              "        async function convertToInteractive(key) {\n",
              "          const element = document.querySelector('#df-77f441ad-36ee-4baf-bd15-313bf84dddc7');\n",
              "          const dataTable =\n",
              "            await google.colab.kernel.invokeFunction('convertToInteractive',\n",
              "                                                     [key], {});\n",
              "          if (!dataTable) return;\n",
              "\n",
              "          const docLinkHtml = 'Like what you see? Visit the ' +\n",
              "            '<a target=\"_blank\" href=https://colab.research.google.com/notebooks/data_table.ipynb>data table notebook</a>'\n",
              "            + ' to learn more about interactive tables.';\n",
              "          element.innerHTML = '';\n",
              "          dataTable['output_type'] = 'display_data';\n",
              "          await google.colab.output.renderOutput(dataTable, element);\n",
              "          const docLink = document.createElement('div');\n",
              "          docLink.innerHTML = docLinkHtml;\n",
              "          element.appendChild(docLink);\n",
              "        }\n",
              "      </script>\n",
              "    </div>\n",
              "  </div>\n",
              "  "
            ]
          },
          "metadata": {},
          "execution_count": 8
        }
      ]
    },
    {
      "cell_type": "code",
      "source": [
        "x = data.iloc[:, :-1].values\n",
        "y = data.iloc[:, -1].values"
      ],
      "metadata": {
        "id": "gY-OHyfTUqab"
      },
      "execution_count": 9,
      "outputs": []
    },
    {
      "cell_type": "markdown",
      "source": [
        "output: Dalam memprediksi apakah seseorang memiliki pinjaman pribadi atau tidak\n",
        "> Variabel x: Umur, Pemasukan, Keluarga, Edukasi, Hipotek, Rekening Efek, Sertifikat Deposito, Online, Kartu kredit\n",
        "> variabel y: Pinjaman Online"
      ],
      "metadata": {
        "id": "kcuLQ6vFfq5V"
      }
    },
    {
      "cell_type": "code",
      "source": [
        "#Memisahkan data menjadi train dan test\n",
        "from sklearn.model_selection import train_test_split\n",
        "\n",
        "#Masukkan ukuran test sebesar 25% dan random state 42\n",
        "x_train, x_test, y_train, y_test = train_test_split(x, y, test_size = 0.25, random_state = 42)"
      ],
      "metadata": {
        "id": "Q8jYOqQbU066"
      },
      "execution_count": 39,
      "outputs": []
    },
    {
      "cell_type": "code",
      "source": [
        "from sklearn.preprocessing import StandardScaler\n",
        "\n",
        "#Scaling input data\n",
        "sc_x = StandardScaler()\n",
        "x_train = sc_x.fit_transform(x_train)\n",
        "x_test = sc_x.transform(x_test)"
      ],
      "metadata": {
        "id": "JtHu1jEeVZFL"
      },
      "execution_count": 40,
      "outputs": []
    },
    {
      "cell_type": "markdown",
      "source": [
        "**Bernoulli**"
      ],
      "metadata": {
        "id": "YHcAMPNJWQES"
      }
    },
    {
      "cell_type": "code",
      "source": [
        "from sklearn.naive_bayes import BernoulliNB\n",
        "\n",
        "#Buat objek classifier\n",
        "classifier_bern = BernoulliNB()\n",
        "\n",
        "#Training model\n",
        "classifier_bern.fit(x_train, y_train)\n",
        "\n",
        "#Testing model\n",
        "y_pred_bern = classifier_bern.predict(x_test)"
      ],
      "metadata": {
        "id": "jZxv7jhOWN1E"
      },
      "execution_count": 13,
      "outputs": []
    },
    {
      "cell_type": "markdown",
      "source": [
        "Output: sudah melatih model dgn data x_train dan y_train. Kemudian, memprediksi data x_test menggunakan model tersebut. Hasil disimpan dalam variabel y_pred_bern"
      ],
      "metadata": {
        "id": "LjoIOuxFgsYr"
      }
    },
    {
      "cell_type": "markdown",
      "source": [
        "Akurasi Bernoulli"
      ],
      "metadata": {
        "id": "LQYZl2DYWrAr"
      }
    },
    {
      "cell_type": "code",
      "source": [
        "from sklearn.metrics import accuracy_score\n",
        "\n",
        "#Print akurasi model\n",
        "print(accuracy_score(y_pred_bern, y_test))"
      ],
      "metadata": {
        "colab": {
          "base_uri": "https://localhost:8080/"
        },
        "id": "dysYQa0gWnOj",
        "outputId": "85a7f95e-27ea-4a5d-95ae-dd9eec18fd77"
      },
      "execution_count": 14,
      "outputs": [
        {
          "output_type": "stream",
          "name": "stdout",
          "text": [
            "0.875\n"
          ]
        }
      ]
    },
    {
      "cell_type": "markdown",
      "source": [
        "Output: Akurasi model dgn membandingkan hasil prediksi dengan hasil sesungguhnya dan mendapatkan nilai 0,875 atau 87,5%, yang berarti model dapat memprediksi 87,5% data secara akurat."
      ],
      "metadata": {
        "id": "QC-0ILBjgzbr"
      }
    },
    {
      "cell_type": "markdown",
      "source": [
        "Evaluasi Bernoulli"
      ],
      "metadata": {
        "id": "M0weceXWWz4M"
      }
    },
    {
      "cell_type": "code",
      "source": [
        "from sklearn.metrics import confusion_matrix\n",
        "\n",
        "#Membandingkan data test dan data prediksi\n",
        "cm = confusion_matrix(y_test, y_pred_bern)\n",
        "\n",
        "#Nilai data di setiap bagian matriks\n",
        "sns.heatmap(cm, annot = True)\n",
        "plt.savefig('Confusion_bern.png')"
      ],
      "metadata": {
        "colab": {
          "base_uri": "https://localhost:8080/",
          "height": 430
        },
        "id": "KdLUUNiQWxiV",
        "outputId": "9f8c2749-9711-4956-95cb-011c7183fa12"
      },
      "execution_count": 15,
      "outputs": [
        {
          "output_type": "display_data",
          "data": {
            "text/plain": [
              "<Figure size 640x480 with 2 Axes>"
            ],
            "image/png": "[encoded data removed]"
          },
          "metadata": {}
        }
      ]
    },
    {
      "cell_type": "markdown",
      "source": [
        "Output: Pada baris pertama kolom pertama terdapat 95 label '0' yang diprediksi dengan benar, pada baris pertama kolom kedua terdapat 18 label'0' yang diprediksi sebagai label '1', sehingga diprediksi dengan salah. Pada baris pertama kolom kedua terdapat 12 label '1' yang diprediksi dengan benar, pada baris pertama kolom kedua terdapat 1.2e+02 label '1' yang diprediksi dengan benar."
      ],
      "metadata": {
        "id": "dDfnr9PzhBxa"
      }
    },
    {
      "cell_type": "code",
      "source": [
        "from sklearn.metrics import classification_report\n",
        "\n",
        "#Tampilkan classification report bernoulli\n",
        "print(classification_report(y_test, y_pred_bern))"
      ],
      "metadata": {
        "colab": {
          "base_uri": "https://localhost:8080/"
        },
        "id": "37aLEmYoW9uX",
        "outputId": "72beb0f6-c4c3-43d0-e643-baf73358ea86"
      },
      "execution_count": 16,
      "outputs": [
        {
          "output_type": "stream",
          "name": "stdout",
          "text": [
            "              precision    recall  f1-score   support\n",
            "\n",
            "           0       0.89      0.84      0.86       113\n",
            "           1       0.86      0.91      0.88       127\n",
            "\n",
            "    accuracy                           0.88       240\n",
            "   macro avg       0.88      0.87      0.87       240\n",
            "weighted avg       0.88      0.88      0.87       240\n",
            "\n"
          ]
        }
      ]
    },
    {
      "cell_type": "markdown",
      "source": [
        "**Gaussian**"
      ],
      "metadata": {
        "id": "WCY3cYPGXJVM"
      }
    },
    {
      "cell_type": "code",
      "source": [
        "from sklearn.naive_bayes import GaussianNB\n",
        "\n",
        "#Buat objek classifier\n",
        "classifier_gaus = GaussianNB()\n",
        "\n",
        "#Training model\n",
        "classifier_gaus.fit(x_train, y_train)\n",
        "\n",
        "#Testing model\n",
        "y_pred_gaus = classifier_gaus.predict(x_test)"
      ],
      "metadata": {
        "id": "TB3nkPTaXGxA"
      },
      "execution_count": 17,
      "outputs": []
    },
    {
      "cell_type": "markdown",
      "source": [
        "Output: sudah melatih model dgn data x_train dan y_train. Kemudian, memprediksi data x_test menggunakan model tersebut. Hasil disimpan dalam variabel y_pred_gaus"
      ],
      "metadata": {
        "id": "xuBhoYuAhaMG"
      }
    },
    {
      "cell_type": "markdown",
      "source": [
        "Akurasi Gaussian"
      ],
      "metadata": {
        "id": "QV-rr9hlXR6S"
      }
    },
    {
      "cell_type": "code",
      "source": [
        "#Print akurasi model\n",
        "print(accuracy_score(y_test, y_pred_gaus))"
      ],
      "metadata": {
        "colab": {
          "base_uri": "https://localhost:8080/"
        },
        "id": "EcO5_LsMXQnr",
        "outputId": "f4c8d78e-18d5-4e5b-97dd-c5bfb0bfd24f"
      },
      "execution_count": 18,
      "outputs": [
        {
          "output_type": "stream",
          "name": "stdout",
          "text": [
            "0.8625\n"
          ]
        }
      ]
    },
    {
      "cell_type": "markdown",
      "source": [
        "Output: Akurasi model dgn membandingkan hasil prediksi dengan hasil sesungguhnya dan mendapatkan nilai 0,8625 atau 86,25%, yang berarti model dapat memprediksi 86,25% data secara akurat."
      ],
      "metadata": {
        "id": "QYRukRYehgWq"
      }
    },
    {
      "cell_type": "markdown",
      "source": [
        "Evaluasi Gaussian"
      ],
      "metadata": {
        "id": "9T-TuAbQXYzd"
      }
    },
    {
      "cell_type": "code",
      "source": [
        "#Membandingkan data test dan data prediksi\n",
        "cm = confusion_matrix(y_test, y_pred_gaus)\n",
        "\n",
        "#Nilai data di setiap bagian matriks\n",
        "sns.heatmap(cm, annot = True)\n",
        "plt.savefig('Confusion_gaus.png')"
      ],
      "metadata": {
        "colab": {
          "base_uri": "https://localhost:8080/",
          "height": 430
        },
        "id": "ZCejChjPXVjx",
        "outputId": "3c7dd669-bd62-4357-d66d-05d85393cc0a"
      },
      "execution_count": 19,
      "outputs": [
        {
          "output_type": "display_data",
          "data": {
            "text/plain": [
              "<Figure size 640x480 with 2 Axes>"
            ],
            "image/png": "[encoded data removed]"
          },
          "metadata": {}
        }
      ]
    },
    {
      "cell_type": "markdown",
      "source": [
        "Output: Pada baris pertama kolom pertama terdapat 1.1e+02 label '0' yang diprediksi dengan benar, pada baris pertama kolom kedua terdapat 6 label'0' yang diprediksi sebagai label '1', sehingga diprediksi dengan salah. Pada baris pertama kolom kedua terdapat 27 label '1' yang diprediksi dengan benar, pada baris pertama kolom kedua terdapat 1e+02 label'1' yang diprediksi dengan benar."
      ],
      "metadata": {
        "id": "mXQzkFHKho8g"
      }
    },
    {
      "cell_type": "code",
      "source": [
        "#Tampilkan classification report gausian\n",
        "print(classification_report(y_test, y_pred_gaus))"
      ],
      "metadata": {
        "colab": {
          "base_uri": "https://localhost:8080/"
        },
        "id": "xETKT5-qXcyq",
        "outputId": "27e3b10b-bcbf-467b-e1b3-2f279c5084a3"
      },
      "execution_count": 20,
      "outputs": [
        {
          "output_type": "stream",
          "name": "stdout",
          "text": [
            "              precision    recall  f1-score   support\n",
            "\n",
            "           0       0.80      0.95      0.87       113\n",
            "           1       0.94      0.79      0.86       127\n",
            "\n",
            "    accuracy                           0.86       240\n",
            "   macro avg       0.87      0.87      0.86       240\n",
            "weighted avg       0.88      0.86      0.86       240\n",
            "\n"
          ]
        }
      ]
    },
    {
      "cell_type": "markdown",
      "source": [
        "**Multinomial**"
      ],
      "metadata": {
        "id": "GvCo1aanXh53"
      }
    },
    {
      "cell_type": "code",
      "source": [
        "#Memisahkan data menjadi train dan test\n",
        "from sklearn.model_selection import train_test_split\n",
        "\n",
        "#Masukkan ukuran test sebesar 20% dan random state 42\n",
        "x_train, x_test, y_train, y_test = train_test_split(x, y, test_size = 0.2, random_state = 42)"
      ],
      "metadata": {
        "id": "MlU-UWX7Xgx5"
      },
      "execution_count": 25,
      "outputs": []
    },
    {
      "cell_type": "code",
      "source": [
        "#Buat model\n",
        "from sklearn.naive_bayes import MultinomialNB\n",
        "\n",
        "model = GaussianNB()\n",
        "\n",
        "#Melatih model\n",
        "model.fit(x_train, y_train)\n",
        "\n",
        "#Testing model\n",
        "y_pred_multi = model.predict(x_test)"
      ],
      "metadata": {
        "id": "RH7nC7GNYgWW"
      },
      "execution_count": 26,
      "outputs": []
    },
    {
      "cell_type": "markdown",
      "source": [
        "Akurasi Multinomial"
      ],
      "metadata": {
        "id": "8tMByxY7ZG5N"
      }
    },
    {
      "cell_type": "code",
      "source": [
        "print(accuracy_score(y_test, y_pred_multi))"
      ],
      "metadata": {
        "colab": {
          "base_uri": "https://localhost:8080/"
        },
        "id": "ne_d0lLuZC0b",
        "outputId": "ac7bf63b-74fa-40da-ced5-1e69454f2f8a"
      },
      "execution_count": 27,
      "outputs": [
        {
          "output_type": "stream",
          "name": "stdout",
          "text": [
            "0.8541666666666666\n"
          ]
        }
      ]
    },
    {
      "cell_type": "markdown",
      "source": [
        "Output: Akurasi model dgn membandingkan hasil prediksi dengan hasil sesungguhnya dan mendapatkan nilai 0,854 atau 85,4%, yang berarti model dapat memprediksi 85,4% data secara akurat."
      ],
      "metadata": {
        "id": "zOum77qRiEa9"
      }
    },
    {
      "cell_type": "markdown",
      "source": [
        "Evaluasi Multinomial"
      ],
      "metadata": {
        "id": "XZ0DU4CwZuO1"
      }
    },
    {
      "cell_type": "code",
      "source": [
        "#Membandingkan data test dan data prediksi\n",
        "cm = confusion_matrix(y_test, y_pred_multi)\n",
        "\n",
        "#Nilai data di setiap bagian matriks\n",
        "sns.heatmap(cm, annot = True)\n",
        "plt.savefig('Confusion_multi.png')"
      ],
      "metadata": {
        "colab": {
          "base_uri": "https://localhost:8080/",
          "height": 430
        },
        "id": "BfQQyiPrZN9c",
        "outputId": "4df776da-b159-4cca-d14f-caa3be412787"
      },
      "execution_count": 28,
      "outputs": [
        {
          "output_type": "display_data",
          "data": {
            "text/plain": [
              "<Figure size 640x480 with 2 Axes>"
            ],
            "image/png": "[encoded data removed]"
          },
          "metadata": {}
        }
      ]
    },
    {
      "cell_type": "markdown",
      "source": [
        "Output: Pada baris pertama kolom pertama terdapat 86 label '0' yang diprediksi dengan benar, pada baris pertama kolom kedua terdapat 5 label'0' yang diprediksi sebagai label '1', sehingga diprediksi dengan salah. Pada baris pertama kolom kedua terdapat 23 label '1' yang diprediksi dengan benar, pada baris pertama kolom kedua terdapat 78 label '1' yang diprediksi dengan benar."
      ],
      "metadata": {
        "id": "0FxQh90_iTMZ"
      }
    },
    {
      "cell_type": "code",
      "source": [
        "#Tampilkan classification report multinomial\n",
        "print(classification_report(y_test, y_pred_multi))"
      ],
      "metadata": {
        "colab": {
          "base_uri": "https://localhost:8080/"
        },
        "id": "5RVJtEMCZ_Vw",
        "outputId": "ae4f51e7-472d-4dfa-aab3-5f939001e722"
      },
      "execution_count": 29,
      "outputs": [
        {
          "output_type": "stream",
          "name": "stdout",
          "text": [
            "              precision    recall  f1-score   support\n",
            "\n",
            "           0       0.79      0.95      0.86        91\n",
            "           1       0.94      0.77      0.85       101\n",
            "\n",
            "    accuracy                           0.85       192\n",
            "   macro avg       0.86      0.86      0.85       192\n",
            "weighted avg       0.87      0.85      0.85       192\n",
            "\n"
          ]
        }
      ]
    },
    {
      "cell_type": "markdown",
      "source": [
        "**Prediksi**\n",
        "> Memprediksi data acak\n",
        "> Seseorang dengan kriteria: Umur, Pemasukan, Keluarga, Edukasi, Hipotek, Rekening Efek, Sertifikat Deposito, Online, dan Kartu Kredit\n",
        "\n",
        "> Model memprediksi 1 : Orang Tersebut memiliki pinjaman pribadi\n",
        "> Model memprediksi 0 : Orang tersebut tidak memiliki pinjaman pribadi"
      ],
      "metadata": {
        "id": "N2aWUNEmcPsb"
      }
    },
    {
      "cell_type": "code",
      "source": [
        "#Data untuk prediksi\n",
        "b = np.array([[45, 100, 3, 4, 80, 0, 0, 1, 1],\n",
        "              [50, 90, 4, 5, 100, 1, 1, 0, 1],\n",
        "              [60, 110, 4, 3, 90, 1, 0, 1, 0]])\n",
        "\n",
        "c = sc_x.transform(b)"
      ],
      "metadata": {
        "id": "sG2xNAMTa7Qx"
      },
      "execution_count": 41,
      "outputs": []
    },
    {
      "cell_type": "code",
      "source": [
        "bern = classifier_bern.predict(c)\n",
        "print(f'Hasil Prediksi Bernoulli : {bern}')\n",
        "print('\\n0 : Tidak Memiliki pinjaman Pribadi\\n1 : Memiliki Pinjaman Pribadi')"
      ],
      "metadata": {
        "colab": {
          "base_uri": "https://localhost:8080/"
        },
        "id": "xpdLlgpfc7v7",
        "outputId": "1adf8aa9-b1c6-4c7b-b970-7e6ac35a358a"
      },
      "execution_count": 45,
      "outputs": [
        {
          "output_type": "stream",
          "name": "stdout",
          "text": [
            "Hasil Prediksi Bernoulli : [0 1 1]\n",
            "\n",
            "0 : Tidak Memiliki pinjaman Pribadi\n",
            "1 : Memiliki Pinjaman Pribadi\n"
          ]
        }
      ]
    },
    {
      "cell_type": "code",
      "source": [
        "gaus = classifier_gaus.predict(c)\n",
        "print(f'Hasil Prediksi Gausian : {gaus}')\n",
        "print('\\n0 : Tidak Memiliki pinjaman Pribadi\\n1 : Memiliki Pinjaman Pribadi')"
      ],
      "metadata": {
        "colab": {
          "base_uri": "https://localhost:8080/"
        },
        "id": "PdhShagGd2MR",
        "outputId": "2d24a95c-4e10-4a88-b3df-0a6605a8be13"
      },
      "execution_count": 47,
      "outputs": [
        {
          "output_type": "stream",
          "name": "stdout",
          "text": [
            "Hasil Prediksi Gausian : [0 1 1]\n",
            "\n",
            "0 : Tidak Memiliki pinjaman Pribadi\n",
            "1 : Memiliki Pinjaman Pribadi\n"
          ]
        }
      ]
    },
    {
      "cell_type": "code",
      "source": [
        "multi = model.predict(c)\n",
        "print(f'Hasil Prediksi Multinomial : {multi}')\n",
        "print('\\n0 : Tidak Memiliki pinjaman Pribadi\\n1 : Memiliki Pinjaman Pribadi')"
      ],
      "metadata": {
        "colab": {
          "base_uri": "https://localhost:8080/"
        },
        "id": "3dHcphogegM7",
        "outputId": "a8a87e4a-b5d8-48cb-eefd-d149ef65b81d"
      },
      "execution_count": 48,
      "outputs": [
        {
          "output_type": "stream",
          "name": "stdout",
          "text": [
            "Hasil Prediksi Multinomial : [0 1 0]\n",
            "\n",
            "0 : Tidak Memiliki pinjaman Pribadi\n",
            "1 : Memiliki Pinjaman Pribadi\n"
          ]
        }
      ]
    }
  ]
}