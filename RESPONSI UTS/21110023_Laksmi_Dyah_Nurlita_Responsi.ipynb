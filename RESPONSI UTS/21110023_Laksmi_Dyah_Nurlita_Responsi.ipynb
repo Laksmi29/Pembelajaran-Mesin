{
  "nbformat": 4,
  "nbformat_minor": 0,
  "metadata": {
    "colab": {
      "provenance": []
    },
    "kernelspec": {
      "name": "python3",
      "display_name": "Python 3"
    },
    "language_info": {
      "name": "python"
    }
  },
  "cells": [
    {
      "cell_type": "markdown",
      "source": [
        "# Nama: Laksmi Dyah Nurlita\n",
        "# NIM: 21110023\n",
        "# Kelas:S1SD02-A"
      ],
      "metadata": {
        "id": "CWqaOtODcJ2s"
      }
    },
    {
      "cell_type": "markdown",
      "source": [
        "# **SOAL A (DATASET REGRESI)**\n",
        "> Langkah terdiri atas:\n",
        "1. EDA\n",
        "2. Data Preprocessing\n",
        "3. Modelling\n",
        "4. Evaluasi Data"
      ],
      "metadata": {
        "id": "Ckr5YZYpcVBh"
      }
    },
    {
      "cell_type": "code",
      "execution_count": 1,
      "metadata": {
        "id": "Jf96sJC_FWc2"
      },
      "outputs": [],
      "source": [
        "import pandas as pd\n",
        "import numpy as np\n",
        "import matplotlib.pyplot as plt\n",
        "import seaborn as sns"
      ]
    },
    {
      "cell_type": "code",
      "source": [
        "#Load data\n",
        "df = pd.read_csv('/content/drive/MyDrive/LAKSMI/dataset_regresi.csv')\n",
        "df.head()"
      ],
      "metadata": {
        "colab": {
          "base_uri": "https://localhost:8080/",
          "height": 206
        },
        "id": "0Dnr2jjLbyoj",
        "outputId": "a6748120-5862-479c-89f0-463c5e24f4b4"
      },
      "execution_count": 2,
      "outputs": [
        {
          "output_type": "execute_result",
          "data": {
            "text/plain": [
              "   Umur  Tinggi  Berat  Kalori\n",
              "0    46     177     63  1287.1\n",
              "1    27     179     77  3095.5\n",
              "2    24     154     42  2792.4\n",
              "3    20     153     50  1835.5\n",
              "4    29     177     61  2787.1"
            ],
            "text/html": [
              "\n",
              "  <div id=\"df-4a165576-7730-4a02-b0df-6b9ee200b5ef\">\n",
              "    <div class=\"colab-df-container\">\n",
              "      <div>\n",
              "<style scoped>\n",
              "    .dataframe tbody tr th:only-of-type {\n",
              "        vertical-align: middle;\n",
              "    }\n",
              "\n",
              "    .dataframe tbody tr th {\n",
              "        vertical-align: top;\n",
              "    }\n",
              "\n",
              "    .dataframe thead th {\n",
              "        text-align: right;\n",
              "    }\n",
              "</style>\n",
              "<table border=\"1\" class=\"dataframe\">\n",
              "  <thead>\n",
              "    <tr style=\"text-align: right;\">\n",
              "      <th></th>\n",
              "      <th>Umur</th>\n",
              "      <th>Tinggi</th>\n",
              "      <th>Berat</th>\n",
              "      <th>Kalori</th>\n",
              "    </tr>\n",
              "  </thead>\n",
              "  <tbody>\n",
              "    <tr>\n",
              "      <th>0</th>\n",
              "      <td>46</td>\n",
              "      <td>177</td>\n",
              "      <td>63</td>\n",
              "      <td>1287.1</td>\n",
              "    </tr>\n",
              "    <tr>\n",
              "      <th>1</th>\n",
              "      <td>27</td>\n",
              "      <td>179</td>\n",
              "      <td>77</td>\n",
              "      <td>3095.5</td>\n",
              "    </tr>\n",
              "    <tr>\n",
              "      <th>2</th>\n",
              "      <td>24</td>\n",
              "      <td>154</td>\n",
              "      <td>42</td>\n",
              "      <td>2792.4</td>\n",
              "    </tr>\n",
              "    <tr>\n",
              "      <th>3</th>\n",
              "      <td>20</td>\n",
              "      <td>153</td>\n",
              "      <td>50</td>\n",
              "      <td>1835.5</td>\n",
              "    </tr>\n",
              "    <tr>\n",
              "      <th>4</th>\n",
              "      <td>29</td>\n",
              "      <td>177</td>\n",
              "      <td>61</td>\n",
              "      <td>2787.1</td>\n",
              "    </tr>\n",
              "  </tbody>\n",
              "</table>\n",
              "</div>\n",
              "      <button class=\"colab-df-convert\" onclick=\"convertToInteractive('df-4a165576-7730-4a02-b0df-6b9ee200b5ef')\"\n",
              "              title=\"Convert this dataframe to an interactive table.\"\n",
              "              style=\"display:none;\">\n",
              "        \n",
              "  <svg xmlns=\"http://www.w3.org/2000/svg\" height=\"24px\"viewBox=\"0 0 24 24\"\n",
              "       width=\"24px\">\n",
              "    <path d=\"M0 0h24v24H0V0z\" fill=\"none\"/>\n",
              "    <path d=\"M18.56 5.44l.94 2.06.94-2.06 2.06-.94-2.06-.94-.94-2.06-.94 2.06-2.06.94zm-11 1L8.5 8.5l.94-2.06 2.06-.94-2.06-.94L8.5 2.5l-.94 2.06-2.06.94zm10 10l.94 2.06.94-2.06 2.06-.94-2.06-.94-.94-2.06-.94 2.06-2.06.94z\"/><path d=\"M17.41 7.96l-1.37-1.37c-.4-.4-.92-.59-1.43-.59-.52 0-1.04.2-1.43.59L10.3 9.45l-7.72 7.72c-.78.78-.78 2.05 0 2.83L4 21.41c.39.39.9.59 1.41.59.51 0 1.02-.2 1.41-.59l7.78-7.78 2.81-2.81c.8-.78.8-2.07 0-2.86zM5.41 20L4 18.59l7.72-7.72 1.47 1.35L5.41 20z\"/>\n",
              "  </svg>\n",
              "      </button>\n",
              "      \n",
              "  <style>\n",
              "    .colab-df-container {\n",
              "      display:flex;\n",
              "      flex-wrap:wrap;\n",
              "      gap: 12px;\n",
              "    }\n",
              "\n",
              "    .colab-df-convert {\n",
              "      background-color: #E8F0FE;\n",
              "      border: none;\n",
              "      border-radius: 50%;\n",
              "      cursor: pointer;\n",
              "      display: none;\n",
              "      fill: #1967D2;\n",
              "      height: 32px;\n",
              "      padding: 0 0 0 0;\n",
              "      width: 32px;\n",
              "    }\n",
              "\n",
              "    .colab-df-convert:hover {\n",
              "      background-color: #E2EBFA;\n",
              "      box-shadow: 0px 1px 2px rgba(60, 64, 67, 0.3), 0px 1px 3px 1px rgba(60, 64, 67, 0.15);\n",
              "      fill: #174EA6;\n",
              "    }\n",
              "\n",
              "    [theme=dark] .colab-df-convert {\n",
              "      background-color: #3B4455;\n",
              "      fill: #D2E3FC;\n",
              "    }\n",
              "\n",
              "    [theme=dark] .colab-df-convert:hover {\n",
              "      background-color: #434B5C;\n",
              "      box-shadow: 0px 1px 3px 1px rgba(0, 0, 0, 0.15);\n",
              "      filter: drop-shadow(0px 1px 2px rgba(0, 0, 0, 0.3));\n",
              "      fill: #FFFFFF;\n",
              "    }\n",
              "  </style>\n",
              "\n",
              "      <script>\n",
              "        const buttonEl =\n",
              "          document.querySelector('#df-4a165576-7730-4a02-b0df-6b9ee200b5ef button.colab-df-convert');\n",
              "        buttonEl.style.display =\n",
              "          google.colab.kernel.accessAllowed ? 'block' : 'none';\n",
              "\n",
              "        async function convertToInteractive(key) {\n",
              "          const element = document.querySelector('#df-4a165576-7730-4a02-b0df-6b9ee200b5ef');\n",
              "          const dataTable =\n",
              "            await google.colab.kernel.invokeFunction('convertToInteractive',\n",
              "                                                     [key], {});\n",
              "          if (!dataTable) return;\n",
              "\n",
              "          const docLinkHtml = 'Like what you see? Visit the ' +\n",
              "            '<a target=\"_blank\" href=https://colab.research.google.com/notebooks/data_table.ipynb>data table notebook</a>'\n",
              "            + ' to learn more about interactive tables.';\n",
              "          element.innerHTML = '';\n",
              "          dataTable['output_type'] = 'display_data';\n",
              "          await google.colab.output.renderOutput(dataTable, element);\n",
              "          const docLink = document.createElement('div');\n",
              "          docLink.innerHTML = docLinkHtml;\n",
              "          element.appendChild(docLink);\n",
              "        }\n",
              "      </script>\n",
              "    </div>\n",
              "  </div>\n",
              "  "
            ]
          },
          "metadata": {},
          "execution_count": 2
        }
      ]
    },
    {
      "cell_type": "markdown",
      "source": [
        "**EDA**"
      ],
      "metadata": {
        "id": "Kp8cDtV2c6pH"
      }
    },
    {
      "cell_type": "code",
      "source": [
        "df.head()"
      ],
      "metadata": {
        "colab": {
          "base_uri": "https://localhost:8080/",
          "height": 206
        },
        "id": "AcInKlG2cIRM",
        "outputId": "5f653734-aa3c-4bb0-8eb4-f1fba26b3ae2"
      },
      "execution_count": 3,
      "outputs": [
        {
          "output_type": "execute_result",
          "data": {
            "text/plain": [
              "   Umur  Tinggi  Berat  Kalori\n",
              "0    46     177     63  1287.1\n",
              "1    27     179     77  3095.5\n",
              "2    24     154     42  2792.4\n",
              "3    20     153     50  1835.5\n",
              "4    29     177     61  2787.1"
            ],
            "text/html": [
              "\n",
              "  <div id=\"df-e2cdb9df-c41d-4a57-99c1-60c499df0ef6\">\n",
              "    <div class=\"colab-df-container\">\n",
              "      <div>\n",
              "<style scoped>\n",
              "    .dataframe tbody tr th:only-of-type {\n",
              "        vertical-align: middle;\n",
              "    }\n",
              "\n",
              "    .dataframe tbody tr th {\n",
              "        vertical-align: top;\n",
              "    }\n",
              "\n",
              "    .dataframe thead th {\n",
              "        text-align: right;\n",
              "    }\n",
              "</style>\n",
              "<table border=\"1\" class=\"dataframe\">\n",
              "  <thead>\n",
              "    <tr style=\"text-align: right;\">\n",
              "      <th></th>\n",
              "      <th>Umur</th>\n",
              "      <th>Tinggi</th>\n",
              "      <th>Berat</th>\n",
              "      <th>Kalori</th>\n",
              "    </tr>\n",
              "  </thead>\n",
              "  <tbody>\n",
              "    <tr>\n",
              "      <th>0</th>\n",
              "      <td>46</td>\n",
              "      <td>177</td>\n",
              "      <td>63</td>\n",
              "      <td>1287.1</td>\n",
              "    </tr>\n",
              "    <tr>\n",
              "      <th>1</th>\n",
              "      <td>27</td>\n",
              "      <td>179</td>\n",
              "      <td>77</td>\n",
              "      <td>3095.5</td>\n",
              "    </tr>\n",
              "    <tr>\n",
              "      <th>2</th>\n",
              "      <td>24</td>\n",
              "      <td>154</td>\n",
              "      <td>42</td>\n",
              "      <td>2792.4</td>\n",
              "    </tr>\n",
              "    <tr>\n",
              "      <th>3</th>\n",
              "      <td>20</td>\n",
              "      <td>153</td>\n",
              "      <td>50</td>\n",
              "      <td>1835.5</td>\n",
              "    </tr>\n",
              "    <tr>\n",
              "      <th>4</th>\n",
              "      <td>29</td>\n",
              "      <td>177</td>\n",
              "      <td>61</td>\n",
              "      <td>2787.1</td>\n",
              "    </tr>\n",
              "  </tbody>\n",
              "</table>\n",
              "</div>\n",
              "      <button class=\"colab-df-convert\" onclick=\"convertToInteractive('df-e2cdb9df-c41d-4a57-99c1-60c499df0ef6')\"\n",
              "              title=\"Convert this dataframe to an interactive table.\"\n",
              "              style=\"display:none;\">\n",
              "        \n",
              "  <svg xmlns=\"http://www.w3.org/2000/svg\" height=\"24px\"viewBox=\"0 0 24 24\"\n",
              "       width=\"24px\">\n",
              "    <path d=\"M0 0h24v24H0V0z\" fill=\"none\"/>\n",
              "    <path d=\"M18.56 5.44l.94 2.06.94-2.06 2.06-.94-2.06-.94-.94-2.06-.94 2.06-2.06.94zm-11 1L8.5 8.5l.94-2.06 2.06-.94-2.06-.94L8.5 2.5l-.94 2.06-2.06.94zm10 10l.94 2.06.94-2.06 2.06-.94-2.06-.94-.94-2.06-.94 2.06-2.06.94z\"/><path d=\"M17.41 7.96l-1.37-1.37c-.4-.4-.92-.59-1.43-.59-.52 0-1.04.2-1.43.59L10.3 9.45l-7.72 7.72c-.78.78-.78 2.05 0 2.83L4 21.41c.39.39.9.59 1.41.59.51 0 1.02-.2 1.41-.59l7.78-7.78 2.81-2.81c.8-.78.8-2.07 0-2.86zM5.41 20L4 18.59l7.72-7.72 1.47 1.35L5.41 20z\"/>\n",
              "  </svg>\n",
              "      </button>\n",
              "      \n",
              "  <style>\n",
              "    .colab-df-container {\n",
              "      display:flex;\n",
              "      flex-wrap:wrap;\n",
              "      gap: 12px;\n",
              "    }\n",
              "\n",
              "    .colab-df-convert {\n",
              "      background-color: #E8F0FE;\n",
              "      border: none;\n",
              "      border-radius: 50%;\n",
              "      cursor: pointer;\n",
              "      display: none;\n",
              "      fill: #1967D2;\n",
              "      height: 32px;\n",
              "      padding: 0 0 0 0;\n",
              "      width: 32px;\n",
              "    }\n",
              "\n",
              "    .colab-df-convert:hover {\n",
              "      background-color: #E2EBFA;\n",
              "      box-shadow: 0px 1px 2px rgba(60, 64, 67, 0.3), 0px 1px 3px 1px rgba(60, 64, 67, 0.15);\n",
              "      fill: #174EA6;\n",
              "    }\n",
              "\n",
              "    [theme=dark] .colab-df-convert {\n",
              "      background-color: #3B4455;\n",
              "      fill: #D2E3FC;\n",
              "    }\n",
              "\n",
              "    [theme=dark] .colab-df-convert:hover {\n",
              "      background-color: #434B5C;\n",
              "      box-shadow: 0px 1px 3px 1px rgba(0, 0, 0, 0.15);\n",
              "      filter: drop-shadow(0px 1px 2px rgba(0, 0, 0, 0.3));\n",
              "      fill: #FFFFFF;\n",
              "    }\n",
              "  </style>\n",
              "\n",
              "      <script>\n",
              "        const buttonEl =\n",
              "          document.querySelector('#df-e2cdb9df-c41d-4a57-99c1-60c499df0ef6 button.colab-df-convert');\n",
              "        buttonEl.style.display =\n",
              "          google.colab.kernel.accessAllowed ? 'block' : 'none';\n",
              "\n",
              "        async function convertToInteractive(key) {\n",
              "          const element = document.querySelector('#df-e2cdb9df-c41d-4a57-99c1-60c499df0ef6');\n",
              "          const dataTable =\n",
              "            await google.colab.kernel.invokeFunction('convertToInteractive',\n",
              "                                                     [key], {});\n",
              "          if (!dataTable) return;\n",
              "\n",
              "          const docLinkHtml = 'Like what you see? Visit the ' +\n",
              "            '<a target=\"_blank\" href=https://colab.research.google.com/notebooks/data_table.ipynb>data table notebook</a>'\n",
              "            + ' to learn more about interactive tables.';\n",
              "          element.innerHTML = '';\n",
              "          dataTable['output_type'] = 'display_data';\n",
              "          await google.colab.output.renderOutput(dataTable, element);\n",
              "          const docLink = document.createElement('div');\n",
              "          docLink.innerHTML = docLinkHtml;\n",
              "          element.appendChild(docLink);\n",
              "        }\n",
              "      </script>\n",
              "    </div>\n",
              "  </div>\n",
              "  "
            ]
          },
          "metadata": {},
          "execution_count": 3
        }
      ]
    },
    {
      "cell_type": "code",
      "source": [
        "df.info()"
      ],
      "metadata": {
        "colab": {
          "base_uri": "https://localhost:8080/"
        },
        "id": "uJ07CKABdFfn",
        "outputId": "b8b3b169-45af-4d21-b9ca-53e92ee97b28"
      },
      "execution_count": 4,
      "outputs": [
        {
          "output_type": "stream",
          "name": "stdout",
          "text": [
            "<class 'pandas.core.frame.DataFrame'>\n",
            "RangeIndex: 100 entries, 0 to 99\n",
            "Data columns (total 4 columns):\n",
            " #   Column  Non-Null Count  Dtype  \n",
            "---  ------  --------------  -----  \n",
            " 0   Umur    100 non-null    int64  \n",
            " 1   Tinggi  100 non-null    int64  \n",
            " 2   Berat   100 non-null    int64  \n",
            " 3   Kalori  100 non-null    float64\n",
            "dtypes: float64(1), int64(3)\n",
            "memory usage: 3.2 KB\n"
          ]
        }
      ]
    },
    {
      "cell_type": "code",
      "source": [
        "df.describe()"
      ],
      "metadata": {
        "colab": {
          "base_uri": "https://localhost:8080/",
          "height": 300
        },
        "id": "xRfdGlMNdHKu",
        "outputId": "c8cae31c-493a-49d9-84e8-1b7bce974a3d"
      },
      "execution_count": 5,
      "outputs": [
        {
          "output_type": "execute_result",
          "data": {
            "text/plain": [
              "             Umur      Tinggi       Berat       Kalori\n",
              "count  100.000000  100.000000  100.000000   100.000000\n",
              "mean    39.750000  170.430000   66.070000  2109.081000\n",
              "std     11.514045   11.339798   17.207736   551.254391\n",
              "min     20.000000  150.000000   40.000000  1200.300000\n",
              "25%     29.000000  161.500000   50.000000  1638.200000\n",
              "50%     40.500000  173.000000   63.500000  2126.750000\n",
              "75%     50.000000  180.000000   80.250000  2499.475000\n",
              "max     58.000000  189.000000   99.000000  3165.200000"
            ],
            "text/html": [
              "\n",
              "  <div id=\"df-d26f5615-6a0e-4d11-961b-9f6df3bad2dd\">\n",
              "    <div class=\"colab-df-container\">\n",
              "      <div>\n",
              "<style scoped>\n",
              "    .dataframe tbody tr th:only-of-type {\n",
              "        vertical-align: middle;\n",
              "    }\n",
              "\n",
              "    .dataframe tbody tr th {\n",
              "        vertical-align: top;\n",
              "    }\n",
              "\n",
              "    .dataframe thead th {\n",
              "        text-align: right;\n",
              "    }\n",
              "</style>\n",
              "<table border=\"1\" class=\"dataframe\">\n",
              "  <thead>\n",
              "    <tr style=\"text-align: right;\">\n",
              "      <th></th>\n",
              "      <th>Umur</th>\n",
              "      <th>Tinggi</th>\n",
              "      <th>Berat</th>\n",
              "      <th>Kalori</th>\n",
              "    </tr>\n",
              "  </thead>\n",
              "  <tbody>\n",
              "    <tr>\n",
              "      <th>count</th>\n",
              "      <td>100.000000</td>\n",
              "      <td>100.000000</td>\n",
              "      <td>100.000000</td>\n",
              "      <td>100.000000</td>\n",
              "    </tr>\n",
              "    <tr>\n",
              "      <th>mean</th>\n",
              "      <td>39.750000</td>\n",
              "      <td>170.430000</td>\n",
              "      <td>66.070000</td>\n",
              "      <td>2109.081000</td>\n",
              "    </tr>\n",
              "    <tr>\n",
              "      <th>std</th>\n",
              "      <td>11.514045</td>\n",
              "      <td>11.339798</td>\n",
              "      <td>17.207736</td>\n",
              "      <td>551.254391</td>\n",
              "    </tr>\n",
              "    <tr>\n",
              "      <th>min</th>\n",
              "      <td>20.000000</td>\n",
              "      <td>150.000000</td>\n",
              "      <td>40.000000</td>\n",
              "      <td>1200.300000</td>\n",
              "    </tr>\n",
              "    <tr>\n",
              "      <th>25%</th>\n",
              "      <td>29.000000</td>\n",
              "      <td>161.500000</td>\n",
              "      <td>50.000000</td>\n",
              "      <td>1638.200000</td>\n",
              "    </tr>\n",
              "    <tr>\n",
              "      <th>50%</th>\n",
              "      <td>40.500000</td>\n",
              "      <td>173.000000</td>\n",
              "      <td>63.500000</td>\n",
              "      <td>2126.750000</td>\n",
              "    </tr>\n",
              "    <tr>\n",
              "      <th>75%</th>\n",
              "      <td>50.000000</td>\n",
              "      <td>180.000000</td>\n",
              "      <td>80.250000</td>\n",
              "      <td>2499.475000</td>\n",
              "    </tr>\n",
              "    <tr>\n",
              "      <th>max</th>\n",
              "      <td>58.000000</td>\n",
              "      <td>189.000000</td>\n",
              "      <td>99.000000</td>\n",
              "      <td>3165.200000</td>\n",
              "    </tr>\n",
              "  </tbody>\n",
              "</table>\n",
              "</div>\n",
              "      <button class=\"colab-df-convert\" onclick=\"convertToInteractive('df-d26f5615-6a0e-4d11-961b-9f6df3bad2dd')\"\n",
              "              title=\"Convert this dataframe to an interactive table.\"\n",
              "              style=\"display:none;\">\n",
              "        \n",
              "  <svg xmlns=\"http://www.w3.org/2000/svg\" height=\"24px\"viewBox=\"0 0 24 24\"\n",
              "       width=\"24px\">\n",
              "    <path d=\"M0 0h24v24H0V0z\" fill=\"none\"/>\n",
              "    <path d=\"M18.56 5.44l.94 2.06.94-2.06 2.06-.94-2.06-.94-.94-2.06-.94 2.06-2.06.94zm-11 1L8.5 8.5l.94-2.06 2.06-.94-2.06-.94L8.5 2.5l-.94 2.06-2.06.94zm10 10l.94 2.06.94-2.06 2.06-.94-2.06-.94-.94-2.06-.94 2.06-2.06.94z\"/><path d=\"M17.41 7.96l-1.37-1.37c-.4-.4-.92-.59-1.43-.59-.52 0-1.04.2-1.43.59L10.3 9.45l-7.72 7.72c-.78.78-.78 2.05 0 2.83L4 21.41c.39.39.9.59 1.41.59.51 0 1.02-.2 1.41-.59l7.78-7.78 2.81-2.81c.8-.78.8-2.07 0-2.86zM5.41 20L4 18.59l7.72-7.72 1.47 1.35L5.41 20z\"/>\n",
              "  </svg>\n",
              "      </button>\n",
              "      \n",
              "  <style>\n",
              "    .colab-df-container {\n",
              "      display:flex;\n",
              "      flex-wrap:wrap;\n",
              "      gap: 12px;\n",
              "    }\n",
              "\n",
              "    .colab-df-convert {\n",
              "      background-color: #E8F0FE;\n",
              "      border: none;\n",
              "      border-radius: 50%;\n",
              "      cursor: pointer;\n",
              "      display: none;\n",
              "      fill: #1967D2;\n",
              "      height: 32px;\n",
              "      padding: 0 0 0 0;\n",
              "      width: 32px;\n",
              "    }\n",
              "\n",
              "    .colab-df-convert:hover {\n",
              "      background-color: #E2EBFA;\n",
              "      box-shadow: 0px 1px 2px rgba(60, 64, 67, 0.3), 0px 1px 3px 1px rgba(60, 64, 67, 0.15);\n",
              "      fill: #174EA6;\n",
              "    }\n",
              "\n",
              "    [theme=dark] .colab-df-convert {\n",
              "      background-color: #3B4455;\n",
              "      fill: #D2E3FC;\n",
              "    }\n",
              "\n",
              "    [theme=dark] .colab-df-convert:hover {\n",
              "      background-color: #434B5C;\n",
              "      box-shadow: 0px 1px 3px 1px rgba(0, 0, 0, 0.15);\n",
              "      filter: drop-shadow(0px 1px 2px rgba(0, 0, 0, 0.3));\n",
              "      fill: #FFFFFF;\n",
              "    }\n",
              "  </style>\n",
              "\n",
              "      <script>\n",
              "        const buttonEl =\n",
              "          document.querySelector('#df-d26f5615-6a0e-4d11-961b-9f6df3bad2dd button.colab-df-convert');\n",
              "        buttonEl.style.display =\n",
              "          google.colab.kernel.accessAllowed ? 'block' : 'none';\n",
              "\n",
              "        async function convertToInteractive(key) {\n",
              "          const element = document.querySelector('#df-d26f5615-6a0e-4d11-961b-9f6df3bad2dd');\n",
              "          const dataTable =\n",
              "            await google.colab.kernel.invokeFunction('convertToInteractive',\n",
              "                                                     [key], {});\n",
              "          if (!dataTable) return;\n",
              "\n",
              "          const docLinkHtml = 'Like what you see? Visit the ' +\n",
              "            '<a target=\"_blank\" href=https://colab.research.google.com/notebooks/data_table.ipynb>data table notebook</a>'\n",
              "            + ' to learn more about interactive tables.';\n",
              "          element.innerHTML = '';\n",
              "          dataTable['output_type'] = 'display_data';\n",
              "          await google.colab.output.renderOutput(dataTable, element);\n",
              "          const docLink = document.createElement('div');\n",
              "          docLink.innerHTML = docLinkHtml;\n",
              "          element.appendChild(docLink);\n",
              "        }\n",
              "      </script>\n",
              "    </div>\n",
              "  </div>\n",
              "  "
            ]
          },
          "metadata": {},
          "execution_count": 5
        }
      ]
    },
    {
      "cell_type": "code",
      "source": [
        "#Mengecek data apakah ada data yg kosong (NULL)\n",
        "df.isna().sum()"
      ],
      "metadata": {
        "colab": {
          "base_uri": "https://localhost:8080/"
        },
        "id": "3SUDqdZcdKpE",
        "outputId": "32fcb48d-c88d-495b-fd91-16169e5d9a88"
      },
      "execution_count": 7,
      "outputs": [
        {
          "output_type": "execute_result",
          "data": {
            "text/plain": [
              "Umur      0\n",
              "Tinggi    0\n",
              "Berat     0\n",
              "Kalori    0\n",
              "dtype: int64"
            ]
          },
          "metadata": {},
          "execution_count": 7
        }
      ]
    },
    {
      "cell_type": "markdown",
      "source": [
        "Tidak terdapat data yang kosong (NULL)"
      ],
      "metadata": {
        "id": "xKefXXSOeOXw"
      }
    },
    {
      "cell_type": "code",
      "source": [
        "# Visualisasi data untuk melihat sebaran data\n",
        "plt.figure(figsize = (8,3))\n",
        "plt.subplot(1, 2, 1)\n",
        "plt.title('Sebelum Scalling')\n",
        "sns.scatterplot(data = df.drop(columns = 'Kalori'), color = 'Red')\n",
        "\n",
        "plt.legend()\n",
        "plt.show()"
      ],
      "metadata": {
        "colab": {
          "base_uri": "https://localhost:8080/",
          "height": 314
        },
        "id": "9Mef_078eKcn",
        "outputId": "71e91525-9029-4772-94f4-aee48464168f"
      },
      "execution_count": 10,
      "outputs": [
        {
          "output_type": "display_data",
          "data": {
            "text/plain": [
              "<Figure size 800x300 with 1 Axes>"
            ],
            "image/png": "[encoded data removed]"
          },
          "metadata": {}
        }
      ]
    },
    {
      "cell_type": "markdown",
      "source": [
        "**Data Preprocessing**"
      ],
      "metadata": {
        "id": "iCS4kWXHiMQI"
      }
    },
    {
      "cell_type": "code",
      "source": [
        "#Data X\n",
        "X = df.drop(columns = 'Kalori', axis = 1)\n",
        "X.head()"
      ],
      "metadata": {
        "colab": {
          "base_uri": "https://localhost:8080/",
          "height": 206
        },
        "id": "xAs6Y2W4iAss",
        "outputId": "a0d8eb86-2ee9-4fec-baa3-2d43085040d3"
      },
      "execution_count": 11,
      "outputs": [
        {
          "output_type": "execute_result",
          "data": {
            "text/plain": [
              "   Umur  Tinggi  Berat\n",
              "0    46     177     63\n",
              "1    27     179     77\n",
              "2    24     154     42\n",
              "3    20     153     50\n",
              "4    29     177     61"
            ],
            "text/html": [
              "\n",
              "  <div id=\"df-55111003-885f-4253-a961-1d6e7d8fc014\">\n",
              "    <div class=\"colab-df-container\">\n",
              "      <div>\n",
              "<style scoped>\n",
              "    .dataframe tbody tr th:only-of-type {\n",
              "        vertical-align: middle;\n",
              "    }\n",
              "\n",
              "    .dataframe tbody tr th {\n",
              "        vertical-align: top;\n",
              "    }\n",
              "\n",
              "    .dataframe thead th {\n",
              "        text-align: right;\n",
              "    }\n",
              "</style>\n",
              "<table border=\"1\" class=\"dataframe\">\n",
              "  <thead>\n",
              "    <tr style=\"text-align: right;\">\n",
              "      <th></th>\n",
              "      <th>Umur</th>\n",
              "      <th>Tinggi</th>\n",
              "      <th>Berat</th>\n",
              "    </tr>\n",
              "  </thead>\n",
              "  <tbody>\n",
              "    <tr>\n",
              "      <th>0</th>\n",
              "      <td>46</td>\n",
              "      <td>177</td>\n",
              "      <td>63</td>\n",
              "    </tr>\n",
              "    <tr>\n",
              "      <th>1</th>\n",
              "      <td>27</td>\n",
              "      <td>179</td>\n",
              "      <td>77</td>\n",
              "    </tr>\n",
              "    <tr>\n",
              "      <th>2</th>\n",
              "      <td>24</td>\n",
              "      <td>154</td>\n",
              "      <td>42</td>\n",
              "    </tr>\n",
              "    <tr>\n",
              "      <th>3</th>\n",
              "      <td>20</td>\n",
              "      <td>153</td>\n",
              "      <td>50</td>\n",
              "    </tr>\n",
              "    <tr>\n",
              "      <th>4</th>\n",
              "      <td>29</td>\n",
              "      <td>177</td>\n",
              "      <td>61</td>\n",
              "    </tr>\n",
              "  </tbody>\n",
              "</table>\n",
              "</div>\n",
              "      <button class=\"colab-df-convert\" onclick=\"convertToInteractive('df-55111003-885f-4253-a961-1d6e7d8fc014')\"\n",
              "              title=\"Convert this dataframe to an interactive table.\"\n",
              "              style=\"display:none;\">\n",
              "        \n",
              "  <svg xmlns=\"http://www.w3.org/2000/svg\" height=\"24px\"viewBox=\"0 0 24 24\"\n",
              "       width=\"24px\">\n",
              "    <path d=\"M0 0h24v24H0V0z\" fill=\"none\"/>\n",
              "    <path d=\"M18.56 5.44l.94 2.06.94-2.06 2.06-.94-2.06-.94-.94-2.06-.94 2.06-2.06.94zm-11 1L8.5 8.5l.94-2.06 2.06-.94-2.06-.94L8.5 2.5l-.94 2.06-2.06.94zm10 10l.94 2.06.94-2.06 2.06-.94-2.06-.94-.94-2.06-.94 2.06-2.06.94z\"/><path d=\"M17.41 7.96l-1.37-1.37c-.4-.4-.92-.59-1.43-.59-.52 0-1.04.2-1.43.59L10.3 9.45l-7.72 7.72c-.78.78-.78 2.05 0 2.83L4 21.41c.39.39.9.59 1.41.59.51 0 1.02-.2 1.41-.59l7.78-7.78 2.81-2.81c.8-.78.8-2.07 0-2.86zM5.41 20L4 18.59l7.72-7.72 1.47 1.35L5.41 20z\"/>\n",
              "  </svg>\n",
              "      </button>\n",
              "      \n",
              "  <style>\n",
              "    .colab-df-container {\n",
              "      display:flex;\n",
              "      flex-wrap:wrap;\n",
              "      gap: 12px;\n",
              "    }\n",
              "\n",
              "    .colab-df-convert {\n",
              "      background-color: #E8F0FE;\n",
              "      border: none;\n",
              "      border-radius: 50%;\n",
              "      cursor: pointer;\n",
              "      display: none;\n",
              "      fill: #1967D2;\n",
              "      height: 32px;\n",
              "      padding: 0 0 0 0;\n",
              "      width: 32px;\n",
              "    }\n",
              "\n",
              "    .colab-df-convert:hover {\n",
              "      background-color: #E2EBFA;\n",
              "      box-shadow: 0px 1px 2px rgba(60, 64, 67, 0.3), 0px 1px 3px 1px rgba(60, 64, 67, 0.15);\n",
              "      fill: #174EA6;\n",
              "    }\n",
              "\n",
              "    [theme=dark] .colab-df-convert {\n",
              "      background-color: #3B4455;\n",
              "      fill: #D2E3FC;\n",
              "    }\n",
              "\n",
              "    [theme=dark] .colab-df-convert:hover {\n",
              "      background-color: #434B5C;\n",
              "      box-shadow: 0px 1px 3px 1px rgba(0, 0, 0, 0.15);\n",
              "      filter: drop-shadow(0px 1px 2px rgba(0, 0, 0, 0.3));\n",
              "      fill: #FFFFFF;\n",
              "    }\n",
              "  </style>\n",
              "\n",
              "      <script>\n",
              "        const buttonEl =\n",
              "          document.querySelector('#df-55111003-885f-4253-a961-1d6e7d8fc014 button.colab-df-convert');\n",
              "        buttonEl.style.display =\n",
              "          google.colab.kernel.accessAllowed ? 'block' : 'none';\n",
              "\n",
              "        async function convertToInteractive(key) {\n",
              "          const element = document.querySelector('#df-55111003-885f-4253-a961-1d6e7d8fc014');\n",
              "          const dataTable =\n",
              "            await google.colab.kernel.invokeFunction('convertToInteractive',\n",
              "                                                     [key], {});\n",
              "          if (!dataTable) return;\n",
              "\n",
              "          const docLinkHtml = 'Like what you see? Visit the ' +\n",
              "            '<a target=\"_blank\" href=https://colab.research.google.com/notebooks/data_table.ipynb>data table notebook</a>'\n",
              "            + ' to learn more about interactive tables.';\n",
              "          element.innerHTML = '';\n",
              "          dataTable['output_type'] = 'display_data';\n",
              "          await google.colab.output.renderOutput(dataTable, element);\n",
              "          const docLink = document.createElement('div');\n",
              "          docLink.innerHTML = docLinkHtml;\n",
              "          element.appendChild(docLink);\n",
              "        }\n",
              "      </script>\n",
              "    </div>\n",
              "  </div>\n",
              "  "
            ]
          },
          "metadata": {},
          "execution_count": 11
        }
      ]
    },
    {
      "cell_type": "code",
      "source": [
        "#Data Y\n",
        "y = df['Kalori']\n",
        "y.head()"
      ],
      "metadata": {
        "colab": {
          "base_uri": "https://localhost:8080/"
        },
        "id": "Ybrde0_yic7c",
        "outputId": "7a55f048-7480-4ad7-ff8a-d72f1357e6eb"
      },
      "execution_count": 12,
      "outputs": [
        {
          "output_type": "execute_result",
          "data": {
            "text/plain": [
              "0    1287.1\n",
              "1    3095.5\n",
              "2    2792.4\n",
              "3    1835.5\n",
              "4    2787.1\n",
              "Name: Kalori, dtype: float64"
            ]
          },
          "metadata": {},
          "execution_count": 12
        }
      ]
    },
    {
      "cell_type": "markdown",
      "source": [
        "Jumlah data yang digunakan sedikit serta range data sangat jauh, maka tidak dilakukan 'Split Data'. Karena akan menghasilkan nolai R Squared negatif."
      ],
      "metadata": {
        "id": "t1FhwyRNkAQd"
      }
    },
    {
      "cell_type": "code",
      "source": [
        "#Scaling Data\n",
        "from sklearn.preprocessing import MinMaxScaler\n",
        "scale = MinMaxScaler()\n",
        "\n",
        "scale.fit(X)\n",
        "scaled_X = scale.transform(X)"
      ],
      "metadata": {
        "id": "2cEjTBVliiwN"
      },
      "execution_count": 13,
      "outputs": []
    },
    {
      "cell_type": "code",
      "source": [
        "#Visualisasi\n",
        "plt.figure(figsize = (8,3))\n",
        "plt.subplot(1, 2, 1)\n",
        "plt.title('Sesudah Scalling')\n",
        "sns.scatterplot(data = scaled_X, color = 'Red')\n",
        "\n",
        "plt.legend()\n",
        "plt.show()"
      ],
      "metadata": {
        "colab": {
          "base_uri": "https://localhost:8080/",
          "height": 314
        },
        "id": "alL4KG62jinM",
        "outputId": "ec421d48-3ed8-4ef7-c94a-508da6877e27"
      },
      "execution_count": 14,
      "outputs": [
        {
          "output_type": "display_data",
          "data": {
            "text/plain": [
              "<Figure size 800x300 with 1 Axes>"
            ],
            "image/png": "[encoded data removed]"
          },
          "metadata": {}
        }
      ]
    },
    {
      "cell_type": "markdown",
      "source": [
        "> Dari hasil grafik diatas, dapat dilihat data yang acak dan tidak konsisten.\n",
        "\n",
        "> Setelah melakukan beberapa fitur scaling, tidak ada yang memberikan hasil yang baik, nilai R Square kecil."
      ],
      "metadata": {
        "id": "DV0-ZhFzkU_b"
      }
    },
    {
      "cell_type": "markdown",
      "source": [
        "**Modelling --> Multiple Linear Regression**"
      ],
      "metadata": {
        "id": "LdJNI2o8k6fF"
      }
    },
    {
      "cell_type": "code",
      "source": [
        "from sklearn.linear_model import LinearRegression\n",
        "\n",
        "lr = LinearRegression()\n",
        "lr.fit(scaled_X, y)"
      ],
      "metadata": {
        "colab": {
          "base_uri": "https://localhost:8080/",
          "height": 74
        },
        "id": "YdS9w-mTj1Jz",
        "outputId": "ee612952-3b86-4084-be2d-2520fd9fc94f"
      },
      "execution_count": 15,
      "outputs": [
        {
          "output_type": "execute_result",
          "data": {
            "text/plain": [
              "LinearRegression()"
            ],
            "text/html": [
              "<style>#sk-container-id-1 {color: black;background-color: white;}#sk-container-id-1 pre{padding: 0;}#sk-container-id-1 div.sk-toggleable {background-color: white;}#sk-container-id-1 label.sk-toggleable__label {cursor: pointer;display: block;width: 100%;margin-bottom: 0;padding: 0.3em;box-sizing: border-box;text-align: center;}#sk-container-id-1 label.sk-toggleable__label-arrow:before {content: \"▸\";float: left;margin-right: 0.25em;color: #696969;}#sk-container-id-1 label.sk-toggleable__label-arrow:hover:before {color: black;}#sk-container-id-1 div.sk-estimator:hover label.sk-toggleable__label-arrow:before {color: black;}#sk-container-id-1 div.sk-toggleable__content {max-height: 0;max-width: 0;overflow: hidden;text-align: left;background-color: #f0f8ff;}#sk-container-id-1 div.sk-toggleable__content pre {margin: 0.2em;color: black;border-radius: 0.25em;background-color: #f0f8ff;}#sk-container-id-1 input.sk-toggleable__control:checked~div.sk-toggleable__content {max-height: 200px;max-width: 100%;overflow: auto;}#sk-container-id-1 input.sk-toggleable__control:checked~label.sk-toggleable__label-arrow:before {content: \"▾\";}#sk-container-id-1 div.sk-estimator input.sk-toggleable__control:checked~label.sk-toggleable__label {background-color: #d4ebff;}#sk-container-id-1 div.sk-label input.sk-toggleable__control:checked~label.sk-toggleable__label {background-color: #d4ebff;}#sk-container-id-1 input.sk-hidden--visually {border: 0;clip: rect(1px 1px 1px 1px);clip: rect(1px, 1px, 1px, 1px);height: 1px;margin: -1px;overflow: hidden;padding: 0;position: absolute;width: 1px;}#sk-container-id-1 div.sk-estimator {font-family: monospace;background-color: #f0f8ff;border: 1px dotted black;border-radius: 0.25em;box-sizing: border-box;margin-bottom: 0.5em;}#sk-container-id-1 div.sk-estimator:hover {background-color: #d4ebff;}#sk-container-id-1 div.sk-parallel-item::after {content: \"\";width: 100%;border-bottom: 1px solid gray;flex-grow: 1;}#sk-container-id-1 div.sk-label:hover label.sk-toggleable__label {background-color: #d4ebff;}#sk-container-id-1 div.sk-serial::before {content: \"\";position: absolute;border-left: 1px solid gray;box-sizing: border-box;top: 0;bottom: 0;left: 50%;z-index: 0;}#sk-container-id-1 div.sk-serial {display: flex;flex-direction: column;align-items: center;background-color: white;padding-right: 0.2em;padding-left: 0.2em;position: relative;}#sk-container-id-1 div.sk-item {position: relative;z-index: 1;}#sk-container-id-1 div.sk-parallel {display: flex;align-items: stretch;justify-content: center;background-color: white;position: relative;}#sk-container-id-1 div.sk-item::before, #sk-container-id-1 div.sk-parallel-item::before {content: \"\";position: absolute;border-left: 1px solid gray;box-sizing: border-box;top: 0;bottom: 0;left: 50%;z-index: -1;}#sk-container-id-1 div.sk-parallel-item {display: flex;flex-direction: column;z-index: 1;position: relative;background-color: white;}#sk-container-id-1 div.sk-parallel-item:first-child::after {align-self: flex-end;width: 50%;}#sk-container-id-1 div.sk-parallel-item:last-child::after {align-self: flex-start;width: 50%;}#sk-container-id-1 div.sk-parallel-item:only-child::after {width: 0;}#sk-container-id-1 div.sk-dashed-wrapped {border: 1px dashed gray;margin: 0 0.4em 0.5em 0.4em;box-sizing: border-box;padding-bottom: 0.4em;background-color: white;}#sk-container-id-1 div.sk-label label {font-family: monospace;font-weight: bold;display: inline-block;line-height: 1.2em;}#sk-container-id-1 div.sk-label-container {text-align: center;}#sk-container-id-1 div.sk-container {/* jupyter's `normalize.less` sets `[hidden] { display: none; }` but bootstrap.min.css set `[hidden] { display: none !important; }` so we also need the `!important` here to be able to override the default hidden behavior on the sphinx rendered scikit-learn.org. See: https://github.com/scikit-learn/scikit-learn/issues/21755 */display: inline-block !important;position: relative;}#sk-container-id-1 div.sk-text-repr-fallback {display: none;}</style><div id=\"sk-container-id-1\" class=\"sk-top-container\"><div class=\"sk-text-repr-fallback\"><pre>LinearRegression()</pre><b>In a Jupyter environment, please rerun this cell to show the HTML representation or trust the notebook. <br />On GitHub, the HTML representation is unable to render, please try loading this page with nbviewer.org.</b></div><div class=\"sk-container\" hidden><div class=\"sk-item\"><div class=\"sk-estimator sk-toggleable\"><input class=\"sk-toggleable__control sk-hidden--visually\" id=\"sk-estimator-id-1\" type=\"checkbox\" checked><label for=\"sk-estimator-id-1\" class=\"sk-toggleable__label sk-toggleable__label-arrow\">LinearRegression</label><div class=\"sk-toggleable__content\"><pre>LinearRegression()</pre></div></div></div></div></div>"
            ]
          },
          "metadata": {},
          "execution_count": 15
        }
      ]
    },
    {
      "cell_type": "code",
      "source": [
        "#Buat y prediksi\n",
        "y_pred = lr.predict(scaled_X)"
      ],
      "metadata": {
        "id": "bk_f8IZZlWMX"
      },
      "execution_count": 16,
      "outputs": []
    },
    {
      "cell_type": "markdown",
      "source": [
        "**Evaluasi**"
      ],
      "metadata": {
        "id": "OBs6vknAlrpH"
      }
    },
    {
      "cell_type": "code",
      "source": [
        "from sklearn.metrics import r2_score, mean_squared_error\n",
        "\n",
        "#Hitung Mean Squared Error\n",
        "mse = mean_squared_error(y, y_pred)\n",
        "\n",
        "#Hitung R Square\n",
        "rsq = r2_score(y, y_pred)\n",
        "\n",
        "print('Mean Squared Error: ', mse)\n",
        "print('R Square: ', rsq)"
      ],
      "metadata": {
        "colab": {
          "base_uri": "https://localhost:8080/"
        },
        "id": "EbbipXJpldn-",
        "outputId": "d41c957a-ac16-4bff-e70c-e511909d3e98"
      },
      "execution_count": 18,
      "outputs": [
        {
          "output_type": "stream",
          "name": "stdout",
          "text": [
            "Mean Squared Error:  300513.01387161476\n",
            "R Square:  0.0010955100055882738\n"
          ]
        }
      ]
    },
    {
      "cell_type": "markdown",
      "source": [
        "Diperoleh nilai R Square sebesar 0,001 atau 0,1%. Variabel independen (Umur, Tinggi, dan Berat) hanya mampu mempengaruhi variabel dependen (kalori) sebesar 0,1%.\n",
        "> Dapat disimpulkan bahwa data tersebut kurang cocok jika diprediksi menggunakan Linear Regression."
      ],
      "metadata": {
        "id": "a-6zFG1ssmPS"
      }
    },
    {
      "cell_type": "markdown",
      "source": [
        "**Interpretasi Model**"
      ],
      "metadata": {
        "id": "WTzHBYZxtkb_"
      }
    },
    {
      "cell_type": "code",
      "source": [
        "#Nilai intercept dan koefisien\n",
        "print('Nilai Intercept: ', lr.intercept_)\n",
        "print('Nilai Koefisien: ', lr.coef_)"
      ],
      "metadata": {
        "colab": {
          "base_uri": "https://localhost:8080/"
        },
        "id": "QK3NV2OXmcxG",
        "outputId": "65f8c0c1-600b-4ac9-d7a4-de3dee2b81d4"
      },
      "execution_count": 19,
      "outputs": [
        {
          "output_type": "stream",
          "name": "stdout",
          "text": [
            "Nilai Intercept:  2156.014675982103\n",
            "Nilai Koefisien:  [-57.07058782 -20.62330666 -14.63921719]\n"
          ]
        }
      ]
    },
    {
      "cell_type": "markdown",
      "source": [
        "y = intercept + coef(i)*X(i) </br>\n",
        "y = 2156.014675982103 - 57.07058782X1 - 20.62330666X2 - 14.63921719X3\n",
        "\n",
        "> interpretasi: </br>\n",
        "dari model tersebut, dapat dilihat bahwa ketiga variabel mempunyai pengaruh negatif. Setiap kenailan 1% Umur, mampu menurunkan kalori sebesar -57.07058782. Setiap kenaikan 1% Tinggi, mampu menurunkan kalori sebesar -20.62330666. Serta setiap kenaikan 1% variabel Berat, mampu menurunkan kalori -14.63921719. Diantara ketiga variabel, yang mempunyai pengaruh paling tinggi adalah variabel Umur sebesar -57.07058782.\n",
        "\n",
        "\n"
      ],
      "metadata": {
        "id": "Lh0BGuH_trta"
      }
    },
    {
      "cell_type": "markdown",
      "source": [
        "**Modelling --> KNN Regression**"
      ],
      "metadata": {
        "id": "S5Gwu6y4vSEI"
      }
    },
    {
      "cell_type": "code",
      "source": [
        "#Split Data\n",
        "from sklearn.model_selection import train_test_split\n",
        "\n",
        "x = df[['Umur', 'Tinggi', 'Berat']]\n",
        "y = df['Kalori']\n",
        "\n",
        "# Split data jadi traindan test dengan ukuran tes 20% dan random state 0\n",
        "x_train, x_test, y_train, y_test = train_test_split(x, y, test_size = 0.2, random_state = 0)"
      ],
      "metadata": {
        "id": "nfTlO5Kcr7nm"
      },
      "execution_count": 21,
      "outputs": []
    },
    {
      "cell_type": "markdown",
      "source": [
        "Saat split dijalankan, R square yang diperoleh bernilai minus. Maka, split tidak digunakan"
      ],
      "metadata": {
        "id": "eoX3EMFYxJuT"
      }
    },
    {
      "cell_type": "code",
      "source": [
        "from sklearn.neighbors import KNeighborsRegressor\n",
        "\n",
        "#Training model menggunakan k = 2\n",
        "knn_r = KNeighborsRegressor(n_neighbors = 2)\n",
        "knn_r.fit(scaled_X, y)"
      ],
      "metadata": {
        "colab": {
          "base_uri": "https://localhost:8080/",
          "height": 74
        },
        "id": "qAgUGTjFxG1_",
        "outputId": "592f6733-3a86-40ff-a0c3-afccc855999f"
      },
      "execution_count": 22,
      "outputs": [
        {
          "output_type": "execute_result",
          "data": {
            "text/plain": [
              "KNeighborsRegressor(n_neighbors=2)"
            ],
            "text/html": [
              "<style>#sk-container-id-2 {color: black;background-color: white;}#sk-container-id-2 pre{padding: 0;}#sk-container-id-2 div.sk-toggleable {background-color: white;}#sk-container-id-2 label.sk-toggleable__label {cursor: pointer;display: block;width: 100%;margin-bottom: 0;padding: 0.3em;box-sizing: border-box;text-align: center;}#sk-container-id-2 label.sk-toggleable__label-arrow:before {content: \"▸\";float: left;margin-right: 0.25em;color: #696969;}#sk-container-id-2 label.sk-toggleable__label-arrow:hover:before {color: black;}#sk-container-id-2 div.sk-estimator:hover label.sk-toggleable__label-arrow:before {color: black;}#sk-container-id-2 div.sk-toggleable__content {max-height: 0;max-width: 0;overflow: hidden;text-align: left;background-color: #f0f8ff;}#sk-container-id-2 div.sk-toggleable__content pre {margin: 0.2em;color: black;border-radius: 0.25em;background-color: #f0f8ff;}#sk-container-id-2 input.sk-toggleable__control:checked~div.sk-toggleable__content {max-height: 200px;max-width: 100%;overflow: auto;}#sk-container-id-2 input.sk-toggleable__control:checked~label.sk-toggleable__label-arrow:before {content: \"▾\";}#sk-container-id-2 div.sk-estimator input.sk-toggleable__control:checked~label.sk-toggleable__label {background-color: #d4ebff;}#sk-container-id-2 div.sk-label input.sk-toggleable__control:checked~label.sk-toggleable__label {background-color: #d4ebff;}#sk-container-id-2 input.sk-hidden--visually {border: 0;clip: rect(1px 1px 1px 1px);clip: rect(1px, 1px, 1px, 1px);height: 1px;margin: -1px;overflow: hidden;padding: 0;position: absolute;width: 1px;}#sk-container-id-2 div.sk-estimator {font-family: monospace;background-color: #f0f8ff;border: 1px dotted black;border-radius: 0.25em;box-sizing: border-box;margin-bottom: 0.5em;}#sk-container-id-2 div.sk-estimator:hover {background-color: #d4ebff;}#sk-container-id-2 div.sk-parallel-item::after {content: \"\";width: 100%;border-bottom: 1px solid gray;flex-grow: 1;}#sk-container-id-2 div.sk-label:hover label.sk-toggleable__label {background-color: #d4ebff;}#sk-container-id-2 div.sk-serial::before {content: \"\";position: absolute;border-left: 1px solid gray;box-sizing: border-box;top: 0;bottom: 0;left: 50%;z-index: 0;}#sk-container-id-2 div.sk-serial {display: flex;flex-direction: column;align-items: center;background-color: white;padding-right: 0.2em;padding-left: 0.2em;position: relative;}#sk-container-id-2 div.sk-item {position: relative;z-index: 1;}#sk-container-id-2 div.sk-parallel {display: flex;align-items: stretch;justify-content: center;background-color: white;position: relative;}#sk-container-id-2 div.sk-item::before, #sk-container-id-2 div.sk-parallel-item::before {content: \"\";position: absolute;border-left: 1px solid gray;box-sizing: border-box;top: 0;bottom: 0;left: 50%;z-index: -1;}#sk-container-id-2 div.sk-parallel-item {display: flex;flex-direction: column;z-index: 1;position: relative;background-color: white;}#sk-container-id-2 div.sk-parallel-item:first-child::after {align-self: flex-end;width: 50%;}#sk-container-id-2 div.sk-parallel-item:last-child::after {align-self: flex-start;width: 50%;}#sk-container-id-2 div.sk-parallel-item:only-child::after {width: 0;}#sk-container-id-2 div.sk-dashed-wrapped {border: 1px dashed gray;margin: 0 0.4em 0.5em 0.4em;box-sizing: border-box;padding-bottom: 0.4em;background-color: white;}#sk-container-id-2 div.sk-label label {font-family: monospace;font-weight: bold;display: inline-block;line-height: 1.2em;}#sk-container-id-2 div.sk-label-container {text-align: center;}#sk-container-id-2 div.sk-container {/* jupyter's `normalize.less` sets `[hidden] { display: none; }` but bootstrap.min.css set `[hidden] { display: none !important; }` so we also need the `!important` here to be able to override the default hidden behavior on the sphinx rendered scikit-learn.org. See: https://github.com/scikit-learn/scikit-learn/issues/21755 */display: inline-block !important;position: relative;}#sk-container-id-2 div.sk-text-repr-fallback {display: none;}</style><div id=\"sk-container-id-2\" class=\"sk-top-container\"><div class=\"sk-text-repr-fallback\"><pre>KNeighborsRegressor(n_neighbors=2)</pre><b>In a Jupyter environment, please rerun this cell to show the HTML representation or trust the notebook. <br />On GitHub, the HTML representation is unable to render, please try loading this page with nbviewer.org.</b></div><div class=\"sk-container\" hidden><div class=\"sk-item\"><div class=\"sk-estimator sk-toggleable\"><input class=\"sk-toggleable__control sk-hidden--visually\" id=\"sk-estimator-id-2\" type=\"checkbox\" checked><label for=\"sk-estimator-id-2\" class=\"sk-toggleable__label sk-toggleable__label-arrow\">KNeighborsRegressor</label><div class=\"sk-toggleable__content\"><pre>KNeighborsRegressor(n_neighbors=2)</pre></div></div></div></div></div>"
            ]
          },
          "metadata": {},
          "execution_count": 22
        }
      ]
    },
    {
      "cell_type": "code",
      "source": [
        "#Prediksi\n",
        "y_pred = knn_r.predict(scaled_X)"
      ],
      "metadata": {
        "id": "0HFUBy3OycNc"
      },
      "execution_count": 23,
      "outputs": []
    },
    {
      "cell_type": "markdown",
      "source": [
        "**Evaluasi**"
      ],
      "metadata": {
        "id": "2APBzJMLykRB"
      }
    },
    {
      "cell_type": "code",
      "source": [
        "from sklearn.metrics import mean_squared_error, r2_score, mean_absolute_error\n",
        "\n",
        "#Mean Squared Error\n",
        "mse = mean_squared_error(y, y_pred)\n",
        "print('MSE: ', mse)\n",
        "\n",
        "#Root Mean Squared Error\n",
        "rmse = np.sqrt(mse)\n",
        "print('RMSE: ', rmse)\n",
        "\n",
        "#R Squared\n",
        "r2 = r2_score(y, y_pred)\n",
        "print('R Squared', r2)\n",
        "\n",
        "#Mean Absolute Error\n",
        "mae = mean_absolute_error(y, y_pred)\n",
        "print('MAE: ', mae)"
      ],
      "metadata": {
        "colab": {
          "base_uri": "https://localhost:8080/"
        },
        "id": "dzUipHobyjmt",
        "outputId": "a8cc674e-dc65-41bb-c773-3091c632728f"
      },
      "execution_count": 24,
      "outputs": [
        {
          "output_type": "stream",
          "name": "stdout",
          "text": [
            "MSE:  153350.1912\n",
            "RMSE:  391.599529111055\n",
            "R Squared 0.49026435641611155\n",
            "MAE:  320.415\n"
          ]
        }
      ]
    },
    {
      "cell_type": "markdown",
      "source": [
        "Diperoleh nilai R Square sebesar 0.49 atau 49% yang berarti, dimana variabel independen mampu menjelaskan variabel sebesar 49%."
      ],
      "metadata": {
        "id": "0TgwRPLh0LLb"
      }
    },
    {
      "cell_type": "code",
      "source": [
        "#Mencari Jumlah K terbaik\n",
        "mse_val = []\n",
        "k = []\n",
        "\n",
        "#Looping train model dgn k 1-50\n",
        "for i in range (1, 51):\n",
        "  k.append(i)\n",
        "  knn_r = KNeighborsRegressor(i)\n",
        "  knn_r.fit(scaled_X, y)\n",
        "  #Prediksi\n",
        "  y_pred = knn_r.predict(scaled_X)\n",
        "  #Evaluasi\n",
        "  mse = mean_squared_error(y, y_pred)\n",
        "  mse_val.append(mse)\n",
        "  print('n-neighbors: ' + str(i) + ', MSE: ' + str(mse))"
      ],
      "metadata": {
        "colab": {
          "base_uri": "https://localhost:8080/"
        },
        "id": "UwHqciSs0Ewz",
        "outputId": "865d7fea-93f9-49fe-9a0a-f23ddec2b9b6"
      },
      "execution_count": 25,
      "outputs": [
        {
          "output_type": "stream",
          "name": "stdout",
          "text": [
            "n-neighbors: 1, MSE: 0.0\n",
            "n-neighbors: 2, MSE: 153350.1912\n",
            "n-neighbors: 3, MSE: 170596.74275555558\n",
            "n-neighbors: 4, MSE: 205671.1769625\n",
            "n-neighbors: 5, MSE: 228958.14555599997\n",
            "n-neighbors: 6, MSE: 254788.41306111112\n",
            "n-neighbors: 7, MSE: 270133.33538367343\n",
            "n-neighbors: 8, MSE: 277117.77329531254\n",
            "n-neighbors: 9, MSE: 279593.85573456786\n",
            "n-neighbors: 10, MSE: 290025.08254800003\n",
            "n-neighbors: 11, MSE: 298453.57398512395\n",
            "n-neighbors: 12, MSE: 300597.0849256944\n",
            "n-neighbors: 13, MSE: 299751.6159627219\n",
            "n-neighbors: 14, MSE: 306094.2214413265\n",
            "n-neighbors: 15, MSE: 304847.23649599997\n",
            "n-neighbors: 16, MSE: 302050.15963281255\n",
            "n-neighbors: 17, MSE: 305912.0780809689\n",
            "n-neighbors: 18, MSE: 299410.83566419757\n",
            "n-neighbors: 19, MSE: 296764.4368545706\n",
            "n-neighbors: 20, MSE: 298683.6336475001\n",
            "n-neighbors: 21, MSE: 296236.5248689342\n",
            "n-neighbors: 22, MSE: 298349.3582599173\n",
            "n-neighbors: 23, MSE: 299510.147021361\n",
            "n-neighbors: 24, MSE: 299140.80118888884\n",
            "n-neighbors: 25, MSE: 298595.86877632\n",
            "n-neighbors: 26, MSE: 295720.74150458584\n",
            "n-neighbors: 27, MSE: 294100.66143717425\n",
            "n-neighbors: 28, MSE: 293475.78646186227\n",
            "n-neighbors: 29, MSE: 294305.7625692034\n",
            "n-neighbors: 30, MSE: 294582.58336355555\n",
            "n-neighbors: 31, MSE: 294216.8948420395\n",
            "n-neighbors: 32, MSE: 295037.91205439455\n",
            "n-neighbors: 33, MSE: 296783.7611623507\n",
            "n-neighbors: 34, MSE: 296721.68878468854\n",
            "n-neighbors: 35, MSE: 294577.564600898\n",
            "n-neighbors: 36, MSE: 296558.17620987655\n",
            "n-neighbors: 37, MSE: 296691.6777770635\n",
            "n-neighbors: 38, MSE: 298678.0189103879\n",
            "n-neighbors: 39, MSE: 300541.2235899408\n",
            "n-neighbors: 40, MSE: 302008.66797300003\n",
            "n-neighbors: 41, MSE: 300686.2716566924\n",
            "n-neighbors: 42, MSE: 299098.2201041383\n",
            "n-neighbors: 43, MSE: 301077.1222054625\n",
            "n-neighbors: 44, MSE: 302410.52258698345\n",
            "n-neighbors: 45, MSE: 304258.679644395\n",
            "n-neighbors: 46, MSE: 302637.0678069471\n",
            "n-neighbors: 47, MSE: 302577.035287234\n",
            "n-neighbors: 48, MSE: 304270.2616416233\n",
            "n-neighbors: 49, MSE: 304688.2851745523\n",
            "n-neighbors: 50, MSE: 306150.51080016\n"
          ]
        }
      ]
    },
    {
      "cell_type": "code",
      "source": [
        "#Visualisasi Hasi MSE\n",
        "plt.plot(k, mse_val)\n",
        "plt.title('MSE vs k')\n",
        "plt.xlabel('n_neighbor(k)')\n",
        "plt.ylabel('MSE')"
      ],
      "metadata": {
        "colab": {
          "base_uri": "https://localhost:8080/",
          "height": 489
        },
        "id": "8nYaM_Ud1WrU",
        "outputId": "dbaaed32-babb-4dcc-b451-d9d3a1000ac9"
      },
      "execution_count": 26,
      "outputs": [
        {
          "output_type": "execute_result",
          "data": {
            "text/plain": [
              "Text(0, 0.5, 'MSE')"
            ]
          },
          "metadata": {},
          "execution_count": 26
        },
        {
          "output_type": "display_data",
          "data": {
            "text/plain": [
              "<Figure size 640x480 with 1 Axes>"
            ],
            "image/png": "[encoded data removed]"
          },
          "metadata": {}
        }
      ]
    },
    {
      "cell_type": "markdown",
      "source": [
        "Diperoleh k terbaik, yaitu k = 2 dengan nilai MSE sebesar 153350.1912"
      ],
      "metadata": {
        "id": "p01EMUUk12B4"
      }
    },
    {
      "cell_type": "markdown",
      "source": [
        "**Perbedaan Linear Regression dan KNN**\n",
        "> Pada Linear Regression diperoleh R Square sebesar 0.1%, sedangkan pada KNN diperoleh R Square sebesar 0.4%.\n",
        "> Dapat disimpulkan bahwa dengan menggunakan KNN lebih baik untuk memprediksi Kalori berdasarkan Umur, Berat, dan Tinggi."
      ],
      "metadata": {
        "id": "b81s82Wu2K3c"
      }
    },
    {
      "cell_type": "markdown",
      "source": [
        "# **SOAL B**"
      ],
      "metadata": {
        "id": "HUt5fe6b3Lp4"
      }
    },
    {
      "cell_type": "code",
      "source": [
        "#import library yang dibutuhkan\n",
        "from sklearn.neural_network import MLPClassifier\n",
        "from sklearn.datasets import make_classification\n",
        "from sklearn.model_selection import train_test_split\n",
        "import numpy as np\n",
        "import seaborn as sns"
      ],
      "metadata": {
        "id": "mWK3UzTw1xuQ"
      },
      "execution_count": 27,
      "outputs": []
    },
    {
      "cell_type": "code",
      "source": [
        "data = pd.read_csv('/content/drive/MyDrive/LAKSMI/train.csv')"
      ],
      "metadata": {
        "id": "8hz3_Cp03Wty"
      },
      "execution_count": 28,
      "outputs": []
    },
    {
      "cell_type": "markdown",
      "source": [
        "**EDA**"
      ],
      "metadata": {
        "id": "1Bp1MZvh3lsf"
      }
    },
    {
      "cell_type": "code",
      "source": [
        "data.head()"
      ],
      "metadata": {
        "colab": {
          "base_uri": "https://localhost:8080/",
          "height": 299
        },
        "id": "IM30TjCw3f8y",
        "outputId": "749c4a3a-1395-424e-e693-ac9218734405"
      },
      "execution_count": 29,
      "outputs": [
        {
          "output_type": "execute_result",
          "data": {
            "text/plain": [
              "         X1        X2        X3        X4        X5        X6        X7  \\\n",
              "0  1.945555 -1.016304  0.202932  0.239453 -0.101111 -0.334786 -1.805850   \n",
              "1  0.654257  1.051849 -2.483526 -1.567193 -0.619941  0.042943 -1.084717   \n",
              "2 -1.192323 -0.037059 -0.760178 -0.738796  2.365061  0.702868 -0.051502   \n",
              "3 -0.254714  0.088775 -1.858713  0.874019 -0.110565 -0.892969 -0.394713   \n",
              "4 -0.570131  1.360070  0.387162 -0.865268 -1.233768  0.943654 -0.263902   \n",
              "\n",
              "         X8        X9       X10  ...       X12       X13       X14       X15  \\\n",
              "0  0.048545  0.045663  0.085785  ...  0.087040  1.541526 -0.498667  0.323126   \n",
              "1 -1.704654 -1.720863  1.684433  ...  0.205246  0.768783 -1.276237 -0.461104   \n",
              "2 -0.164028  0.711604  0.482474  ...  0.238371  0.244745 -0.484853 -0.323788   \n",
              "3 -1.889068  0.373585  0.963552  ...  0.890959 -0.226851  0.237959 -1.737111   \n",
              "4  1.012036  0.439330  0.340239  ...  1.104235 -0.731008 -1.956339 -1.974099   \n",
              "\n",
              "        X16       X17       X18       X19       X20  y  \n",
              "0  0.378722  0.659902 -0.493005 -0.765309  1.590061  0  \n",
              "1  0.613060  0.046744  0.459072 -0.543170  0.662766  0  \n",
              "2  2.776135 -0.486273 -0.146642  0.051576 -0.418848  1  \n",
              "3 -1.273344  0.445285  0.302280 -1.074715 -0.980943  0  \n",
              "4  0.110919  0.536349  1.800659 -0.980357  1.458631  0  \n",
              "\n",
              "[5 rows x 21 columns]"
            ],
            "text/html": [
              "\n",
              "  <div id=\"df-e11d0fe4-604f-4541-b186-1e0ac235d242\">\n",
              "    <div class=\"colab-df-container\">\n",
              "      <div>\n",
              "<style scoped>\n",
              "    .dataframe tbody tr th:only-of-type {\n",
              "        vertical-align: middle;\n",
              "    }\n",
              "\n",
              "    .dataframe tbody tr th {\n",
              "        vertical-align: top;\n",
              "    }\n",
              "\n",
              "    .dataframe thead th {\n",
              "        text-align: right;\n",
              "    }\n",
              "</style>\n",
              "<table border=\"1\" class=\"dataframe\">\n",
              "  <thead>\n",
              "    <tr style=\"text-align: right;\">\n",
              "      <th></th>\n",
              "      <th>X1</th>\n",
              "      <th>X2</th>\n",
              "      <th>X3</th>\n",
              "      <th>X4</th>\n",
              "      <th>X5</th>\n",
              "      <th>X6</th>\n",
              "      <th>X7</th>\n",
              "      <th>X8</th>\n",
              "      <th>X9</th>\n",
              "      <th>X10</th>\n",
              "      <th>...</th>\n",
              "      <th>X12</th>\n",
              "      <th>X13</th>\n",
              "      <th>X14</th>\n",
              "      <th>X15</th>\n",
              "      <th>X16</th>\n",
              "      <th>X17</th>\n",
              "      <th>X18</th>\n",
              "      <th>X19</th>\n",
              "      <th>X20</th>\n",
              "      <th>y</th>\n",
              "    </tr>\n",
              "  </thead>\n",
              "  <tbody>\n",
              "    <tr>\n",
              "      <th>0</th>\n",
              "      <td>1.945555</td>\n",
              "      <td>-1.016304</td>\n",
              "      <td>0.202932</td>\n",
              "      <td>0.239453</td>\n",
              "      <td>-0.101111</td>\n",
              "      <td>-0.334786</td>\n",
              "      <td>-1.805850</td>\n",
              "      <td>0.048545</td>\n",
              "      <td>0.045663</td>\n",
              "      <td>0.085785</td>\n",
              "      <td>...</td>\n",
              "      <td>0.087040</td>\n",
              "      <td>1.541526</td>\n",
              "      <td>-0.498667</td>\n",
              "      <td>0.323126</td>\n",
              "      <td>0.378722</td>\n",
              "      <td>0.659902</td>\n",
              "      <td>-0.493005</td>\n",
              "      <td>-0.765309</td>\n",
              "      <td>1.590061</td>\n",
              "      <td>0</td>\n",
              "    </tr>\n",
              "    <tr>\n",
              "      <th>1</th>\n",
              "      <td>0.654257</td>\n",
              "      <td>1.051849</td>\n",
              "      <td>-2.483526</td>\n",
              "      <td>-1.567193</td>\n",
              "      <td>-0.619941</td>\n",
              "      <td>0.042943</td>\n",
              "      <td>-1.084717</td>\n",
              "      <td>-1.704654</td>\n",
              "      <td>-1.720863</td>\n",
              "      <td>1.684433</td>\n",
              "      <td>...</td>\n",
              "      <td>0.205246</td>\n",
              "      <td>0.768783</td>\n",
              "      <td>-1.276237</td>\n",
              "      <td>-0.461104</td>\n",
              "      <td>0.613060</td>\n",
              "      <td>0.046744</td>\n",
              "      <td>0.459072</td>\n",
              "      <td>-0.543170</td>\n",
              "      <td>0.662766</td>\n",
              "      <td>0</td>\n",
              "    </tr>\n",
              "    <tr>\n",
              "      <th>2</th>\n",
              "      <td>-1.192323</td>\n",
              "      <td>-0.037059</td>\n",
              "      <td>-0.760178</td>\n",
              "      <td>-0.738796</td>\n",
              "      <td>2.365061</td>\n",
              "      <td>0.702868</td>\n",
              "      <td>-0.051502</td>\n",
              "      <td>-0.164028</td>\n",
              "      <td>0.711604</td>\n",
              "      <td>0.482474</td>\n",
              "      <td>...</td>\n",
              "      <td>0.238371</td>\n",
              "      <td>0.244745</td>\n",
              "      <td>-0.484853</td>\n",
              "      <td>-0.323788</td>\n",
              "      <td>2.776135</td>\n",
              "      <td>-0.486273</td>\n",
              "      <td>-0.146642</td>\n",
              "      <td>0.051576</td>\n",
              "      <td>-0.418848</td>\n",
              "      <td>1</td>\n",
              "    </tr>\n",
              "    <tr>\n",
              "      <th>3</th>\n",
              "      <td>-0.254714</td>\n",
              "      <td>0.088775</td>\n",
              "      <td>-1.858713</td>\n",
              "      <td>0.874019</td>\n",
              "      <td>-0.110565</td>\n",
              "      <td>-0.892969</td>\n",
              "      <td>-0.394713</td>\n",
              "      <td>-1.889068</td>\n",
              "      <td>0.373585</td>\n",
              "      <td>0.963552</td>\n",
              "      <td>...</td>\n",
              "      <td>0.890959</td>\n",
              "      <td>-0.226851</td>\n",
              "      <td>0.237959</td>\n",
              "      <td>-1.737111</td>\n",
              "      <td>-1.273344</td>\n",
              "      <td>0.445285</td>\n",
              "      <td>0.302280</td>\n",
              "      <td>-1.074715</td>\n",
              "      <td>-0.980943</td>\n",
              "      <td>0</td>\n",
              "    </tr>\n",
              "    <tr>\n",
              "      <th>4</th>\n",
              "      <td>-0.570131</td>\n",
              "      <td>1.360070</td>\n",
              "      <td>0.387162</td>\n",
              "      <td>-0.865268</td>\n",
              "      <td>-1.233768</td>\n",
              "      <td>0.943654</td>\n",
              "      <td>-0.263902</td>\n",
              "      <td>1.012036</td>\n",
              "      <td>0.439330</td>\n",
              "      <td>0.340239</td>\n",
              "      <td>...</td>\n",
              "      <td>1.104235</td>\n",
              "      <td>-0.731008</td>\n",
              "      <td>-1.956339</td>\n",
              "      <td>-1.974099</td>\n",
              "      <td>0.110919</td>\n",
              "      <td>0.536349</td>\n",
              "      <td>1.800659</td>\n",
              "      <td>-0.980357</td>\n",
              "      <td>1.458631</td>\n",
              "      <td>0</td>\n",
              "    </tr>\n",
              "  </tbody>\n",
              "</table>\n",
              "<p>5 rows × 21 columns</p>\n",
              "</div>\n",
              "      <button class=\"colab-df-convert\" onclick=\"convertToInteractive('df-e11d0fe4-604f-4541-b186-1e0ac235d242')\"\n",
              "              title=\"Convert this dataframe to an interactive table.\"\n",
              "              style=\"display:none;\">\n",
              "        \n",
              "  <svg xmlns=\"http://www.w3.org/2000/svg\" height=\"24px\"viewBox=\"0 0 24 24\"\n",
              "       width=\"24px\">\n",
              "    <path d=\"M0 0h24v24H0V0z\" fill=\"none\"/>\n",
              "    <path d=\"M18.56 5.44l.94 2.06.94-2.06 2.06-.94-2.06-.94-.94-2.06-.94 2.06-2.06.94zm-11 1L8.5 8.5l.94-2.06 2.06-.94-2.06-.94L8.5 2.5l-.94 2.06-2.06.94zm10 10l.94 2.06.94-2.06 2.06-.94-2.06-.94-.94-2.06-.94 2.06-2.06.94z\"/><path d=\"M17.41 7.96l-1.37-1.37c-.4-.4-.92-.59-1.43-.59-.52 0-1.04.2-1.43.59L10.3 9.45l-7.72 7.72c-.78.78-.78 2.05 0 2.83L4 21.41c.39.39.9.59 1.41.59.51 0 1.02-.2 1.41-.59l7.78-7.78 2.81-2.81c.8-.78.8-2.07 0-2.86zM5.41 20L4 18.59l7.72-7.72 1.47 1.35L5.41 20z\"/>\n",
              "  </svg>\n",
              "      </button>\n",
              "      \n",
              "  <style>\n",
              "    .colab-df-container {\n",
              "      display:flex;\n",
              "      flex-wrap:wrap;\n",
              "      gap: 12px;\n",
              "    }\n",
              "\n",
              "    .colab-df-convert {\n",
              "      background-color: #E8F0FE;\n",
              "      border: none;\n",
              "      border-radius: 50%;\n",
              "      cursor: pointer;\n",
              "      display: none;\n",
              "      fill: #1967D2;\n",
              "      height: 32px;\n",
              "      padding: 0 0 0 0;\n",
              "      width: 32px;\n",
              "    }\n",
              "\n",
              "    .colab-df-convert:hover {\n",
              "      background-color: #E2EBFA;\n",
              "      box-shadow: 0px 1px 2px rgba(60, 64, 67, 0.3), 0px 1px 3px 1px rgba(60, 64, 67, 0.15);\n",
              "      fill: #174EA6;\n",
              "    }\n",
              "\n",
              "    [theme=dark] .colab-df-convert {\n",
              "      background-color: #3B4455;\n",
              "      fill: #D2E3FC;\n",
              "    }\n",
              "\n",
              "    [theme=dark] .colab-df-convert:hover {\n",
              "      background-color: #434B5C;\n",
              "      box-shadow: 0px 1px 3px 1px rgba(0, 0, 0, 0.15);\n",
              "      filter: drop-shadow(0px 1px 2px rgba(0, 0, 0, 0.3));\n",
              "      fill: #FFFFFF;\n",
              "    }\n",
              "  </style>\n",
              "\n",
              "      <script>\n",
              "        const buttonEl =\n",
              "          document.querySelector('#df-e11d0fe4-604f-4541-b186-1e0ac235d242 button.colab-df-convert');\n",
              "        buttonEl.style.display =\n",
              "          google.colab.kernel.accessAllowed ? 'block' : 'none';\n",
              "\n",
              "        async function convertToInteractive(key) {\n",
              "          const element = document.querySelector('#df-e11d0fe4-604f-4541-b186-1e0ac235d242');\n",
              "          const dataTable =\n",
              "            await google.colab.kernel.invokeFunction('convertToInteractive',\n",
              "                                                     [key], {});\n",
              "          if (!dataTable) return;\n",
              "\n",
              "          const docLinkHtml = 'Like what you see? Visit the ' +\n",
              "            '<a target=\"_blank\" href=https://colab.research.google.com/notebooks/data_table.ipynb>data table notebook</a>'\n",
              "            + ' to learn more about interactive tables.';\n",
              "          element.innerHTML = '';\n",
              "          dataTable['output_type'] = 'display_data';\n",
              "          await google.colab.output.renderOutput(dataTable, element);\n",
              "          const docLink = document.createElement('div');\n",
              "          docLink.innerHTML = docLinkHtml;\n",
              "          element.appendChild(docLink);\n",
              "        }\n",
              "      </script>\n",
              "    </div>\n",
              "  </div>\n",
              "  "
            ]
          },
          "metadata": {},
          "execution_count": 29
        }
      ]
    },
    {
      "cell_type": "code",
      "source": [
        "data.info()"
      ],
      "metadata": {
        "colab": {
          "base_uri": "https://localhost:8080/"
        },
        "id": "aUelZBrz3owX",
        "outputId": "87b40868-6e1c-4d34-878b-35fd3f4ffb35"
      },
      "execution_count": 30,
      "outputs": [
        {
          "output_type": "stream",
          "name": "stdout",
          "text": [
            "<class 'pandas.core.frame.DataFrame'>\n",
            "RangeIndex: 40000 entries, 0 to 39999\n",
            "Data columns (total 21 columns):\n",
            " #   Column  Non-Null Count  Dtype  \n",
            "---  ------  --------------  -----  \n",
            " 0   X1      40000 non-null  float64\n",
            " 1   X2      40000 non-null  float64\n",
            " 2   X3      40000 non-null  float64\n",
            " 3   X4      40000 non-null  float64\n",
            " 4   X5      40000 non-null  float64\n",
            " 5   X6      40000 non-null  float64\n",
            " 6   X7      40000 non-null  float64\n",
            " 7   X8      40000 non-null  float64\n",
            " 8   X9      40000 non-null  float64\n",
            " 9   X10     40000 non-null  float64\n",
            " 10  X11     40000 non-null  float64\n",
            " 11  X12     40000 non-null  float64\n",
            " 12  X13     40000 non-null  float64\n",
            " 13  X14     40000 non-null  float64\n",
            " 14  X15     40000 non-null  float64\n",
            " 15  X16     40000 non-null  float64\n",
            " 16  X17     40000 non-null  float64\n",
            " 17  X18     40000 non-null  float64\n",
            " 18  X19     40000 non-null  float64\n",
            " 19  X20     40000 non-null  float64\n",
            " 20  y       40000 non-null  int64  \n",
            "dtypes: float64(20), int64(1)\n",
            "memory usage: 6.4 MB\n"
          ]
        }
      ]
    },
    {
      "cell_type": "code",
      "source": [
        "data.describe()"
      ],
      "metadata": {
        "colab": {
          "base_uri": "https://localhost:8080/",
          "height": 393
        },
        "id": "obxXAxZu3qpC",
        "outputId": "ede88a23-2595-4853-f7dd-37063fb4bcba"
      },
      "execution_count": 31,
      "outputs": [
        {
          "output_type": "execute_result",
          "data": {
            "text/plain": [
              "                 X1            X2            X3            X4            X5  \\\n",
              "count  40000.000000  40000.000000  40000.000000  40000.000000  40000.000000   \n",
              "mean       0.001555     -0.005395     -0.434075      0.000896     -0.001206   \n",
              "std        1.003099      1.000902      1.268174      1.005950      1.001857   \n",
              "min       -4.295688     -4.031385     -6.207460     -4.410187     -4.028216   \n",
              "25%       -0.679885     -0.679958     -1.201478     -0.686920     -0.679621   \n",
              "50%       -0.002068     -0.003925     -0.418181     -0.002206     -0.003937   \n",
              "75%        0.677054      0.667813      0.362877      0.684975      0.679601   \n",
              "max        4.474327      3.976449      5.741914      4.469424      3.973521   \n",
              "\n",
              "                 X6            X7            X8            X9           X10  \\\n",
              "count  40000.000000  40000.000000  40000.000000  40000.000000  40000.000000   \n",
              "mean       0.078868      0.010926     -0.279659      0.003471      0.243042   \n",
              "std        1.182581      1.008307      1.259904      0.997098      0.928928   \n",
              "min       -4.944611     -3.874637     -6.015929     -4.058806     -4.692449   \n",
              "25%       -0.711933     -0.666786     -1.089624     -0.670618     -0.248465   \n",
              "50%        0.104603      0.006390     -0.250041     -0.002378      0.253484   \n",
              "75%        0.887342      0.691908      0.593365      0.674291      0.820807   \n",
              "max        5.617003      4.035779      5.655429      4.836956      4.360675   \n",
              "\n",
              "       ...           X12           X13           X14           X15  \\\n",
              "count  ...  40000.000000  40000.000000  40000.000000  40000.000000   \n",
              "mean   ...     -0.008901      0.003604     -0.083067     -0.009668   \n",
              "std    ...      1.005186      1.001055      1.252816      1.001171   \n",
              "min    ...     -4.308618     -3.982968     -5.079725     -3.960667   \n",
              "25%    ...     -0.683744     -0.674012     -0.928525     -0.684791   \n",
              "50%    ...     -0.015696     -0.001635     -0.080693     -0.010851   \n",
              "75%    ...      0.669553      0.680269      0.765493      0.666883   \n",
              "max    ...      3.912316      3.976569      4.710651      4.489546   \n",
              "\n",
              "                X16           X17           X18           X19           X20  \\\n",
              "count  40000.000000  40000.000000  40000.000000  40000.000000  40000.000000   \n",
              "mean       0.001908      0.000147      0.001898      0.008535     -0.004284   \n",
              "std        1.002175      0.998021      0.996840      1.001312      1.003866   \n",
              "min       -4.084951     -3.878464     -4.251726     -3.971091     -4.252604   \n",
              "25%       -0.674195     -0.665590     -0.675483     -0.663131     -0.684622   \n",
              "50%        0.008605     -0.002707      0.000091      0.015015     -0.000296   \n",
              "75%        0.673619      0.665249      0.677543      0.685363      0.674835   \n",
              "max        3.728837      3.915494      4.201447      3.849052      3.940802   \n",
              "\n",
              "                  y  \n",
              "count  40000.000000  \n",
              "mean       0.182900  \n",
              "std        0.386589  \n",
              "min        0.000000  \n",
              "25%        0.000000  \n",
              "50%        0.000000  \n",
              "75%        0.000000  \n",
              "max        1.000000  \n",
              "\n",
              "[8 rows x 21 columns]"
            ],
            "text/html": [
              "\n",
              "  <div id=\"df-8296f368-8598-49d0-8c82-f9fe71bff72e\">\n",
              "    <div class=\"colab-df-container\">\n",
              "      <div>\n",
              "<style scoped>\n",
              "    .dataframe tbody tr th:only-of-type {\n",
              "        vertical-align: middle;\n",
              "    }\n",
              "\n",
              "    .dataframe tbody tr th {\n",
              "        vertical-align: top;\n",
              "    }\n",
              "\n",
              "    .dataframe thead th {\n",
              "        text-align: right;\n",
              "    }\n",
              "</style>\n",
              "<table border=\"1\" class=\"dataframe\">\n",
              "  <thead>\n",
              "    <tr style=\"text-align: right;\">\n",
              "      <th></th>\n",
              "      <th>X1</th>\n",
              "      <th>X2</th>\n",
              "      <th>X3</th>\n",
              "      <th>X4</th>\n",
              "      <th>X5</th>\n",
              "      <th>X6</th>\n",
              "      <th>X7</th>\n",
              "      <th>X8</th>\n",
              "      <th>X9</th>\n",
              "      <th>X10</th>\n",
              "      <th>...</th>\n",
              "      <th>X12</th>\n",
              "      <th>X13</th>\n",
              "      <th>X14</th>\n",
              "      <th>X15</th>\n",
              "      <th>X16</th>\n",
              "      <th>X17</th>\n",
              "      <th>X18</th>\n",
              "      <th>X19</th>\n",
              "      <th>X20</th>\n",
              "      <th>y</th>\n",
              "    </tr>\n",
              "  </thead>\n",
              "  <tbody>\n",
              "    <tr>\n",
              "      <th>count</th>\n",
              "      <td>40000.000000</td>\n",
              "      <td>40000.000000</td>\n",
              "      <td>40000.000000</td>\n",
              "      <td>40000.000000</td>\n",
              "      <td>40000.000000</td>\n",
              "      <td>40000.000000</td>\n",
              "      <td>40000.000000</td>\n",
              "      <td>40000.000000</td>\n",
              "      <td>40000.000000</td>\n",
              "      <td>40000.000000</td>\n",
              "      <td>...</td>\n",
              "      <td>40000.000000</td>\n",
              "      <td>40000.000000</td>\n",
              "      <td>40000.000000</td>\n",
              "      <td>40000.000000</td>\n",
              "      <td>40000.000000</td>\n",
              "      <td>40000.000000</td>\n",
              "      <td>40000.000000</td>\n",
              "      <td>40000.000000</td>\n",
              "      <td>40000.000000</td>\n",
              "      <td>40000.000000</td>\n",
              "    </tr>\n",
              "    <tr>\n",
              "      <th>mean</th>\n",
              "      <td>0.001555</td>\n",
              "      <td>-0.005395</td>\n",
              "      <td>-0.434075</td>\n",
              "      <td>0.000896</td>\n",
              "      <td>-0.001206</td>\n",
              "      <td>0.078868</td>\n",
              "      <td>0.010926</td>\n",
              "      <td>-0.279659</td>\n",
              "      <td>0.003471</td>\n",
              "      <td>0.243042</td>\n",
              "      <td>...</td>\n",
              "      <td>-0.008901</td>\n",
              "      <td>0.003604</td>\n",
              "      <td>-0.083067</td>\n",
              "      <td>-0.009668</td>\n",
              "      <td>0.001908</td>\n",
              "      <td>0.000147</td>\n",
              "      <td>0.001898</td>\n",
              "      <td>0.008535</td>\n",
              "      <td>-0.004284</td>\n",
              "      <td>0.182900</td>\n",
              "    </tr>\n",
              "    <tr>\n",
              "      <th>std</th>\n",
              "      <td>1.003099</td>\n",
              "      <td>1.000902</td>\n",
              "      <td>1.268174</td>\n",
              "      <td>1.005950</td>\n",
              "      <td>1.001857</td>\n",
              "      <td>1.182581</td>\n",
              "      <td>1.008307</td>\n",
              "      <td>1.259904</td>\n",
              "      <td>0.997098</td>\n",
              "      <td>0.928928</td>\n",
              "      <td>...</td>\n",
              "      <td>1.005186</td>\n",
              "      <td>1.001055</td>\n",
              "      <td>1.252816</td>\n",
              "      <td>1.001171</td>\n",
              "      <td>1.002175</td>\n",
              "      <td>0.998021</td>\n",
              "      <td>0.996840</td>\n",
              "      <td>1.001312</td>\n",
              "      <td>1.003866</td>\n",
              "      <td>0.386589</td>\n",
              "    </tr>\n",
              "    <tr>\n",
              "      <th>min</th>\n",
              "      <td>-4.295688</td>\n",
              "      <td>-4.031385</td>\n",
              "      <td>-6.207460</td>\n",
              "      <td>-4.410187</td>\n",
              "      <td>-4.028216</td>\n",
              "      <td>-4.944611</td>\n",
              "      <td>-3.874637</td>\n",
              "      <td>-6.015929</td>\n",
              "      <td>-4.058806</td>\n",
              "      <td>-4.692449</td>\n",
              "      <td>...</td>\n",
              "      <td>-4.308618</td>\n",
              "      <td>-3.982968</td>\n",
              "      <td>-5.079725</td>\n",
              "      <td>-3.960667</td>\n",
              "      <td>-4.084951</td>\n",
              "      <td>-3.878464</td>\n",
              "      <td>-4.251726</td>\n",
              "      <td>-3.971091</td>\n",
              "      <td>-4.252604</td>\n",
              "      <td>0.000000</td>\n",
              "    </tr>\n",
              "    <tr>\n",
              "      <th>25%</th>\n",
              "      <td>-0.679885</td>\n",
              "      <td>-0.679958</td>\n",
              "      <td>-1.201478</td>\n",
              "      <td>-0.686920</td>\n",
              "      <td>-0.679621</td>\n",
              "      <td>-0.711933</td>\n",
              "      <td>-0.666786</td>\n",
              "      <td>-1.089624</td>\n",
              "      <td>-0.670618</td>\n",
              "      <td>-0.248465</td>\n",
              "      <td>...</td>\n",
              "      <td>-0.683744</td>\n",
              "      <td>-0.674012</td>\n",
              "      <td>-0.928525</td>\n",
              "      <td>-0.684791</td>\n",
              "      <td>-0.674195</td>\n",
              "      <td>-0.665590</td>\n",
              "      <td>-0.675483</td>\n",
              "      <td>-0.663131</td>\n",
              "      <td>-0.684622</td>\n",
              "      <td>0.000000</td>\n",
              "    </tr>\n",
              "    <tr>\n",
              "      <th>50%</th>\n",
              "      <td>-0.002068</td>\n",
              "      <td>-0.003925</td>\n",
              "      <td>-0.418181</td>\n",
              "      <td>-0.002206</td>\n",
              "      <td>-0.003937</td>\n",
              "      <td>0.104603</td>\n",
              "      <td>0.006390</td>\n",
              "      <td>-0.250041</td>\n",
              "      <td>-0.002378</td>\n",
              "      <td>0.253484</td>\n",
              "      <td>...</td>\n",
              "      <td>-0.015696</td>\n",
              "      <td>-0.001635</td>\n",
              "      <td>-0.080693</td>\n",
              "      <td>-0.010851</td>\n",
              "      <td>0.008605</td>\n",
              "      <td>-0.002707</td>\n",
              "      <td>0.000091</td>\n",
              "      <td>0.015015</td>\n",
              "      <td>-0.000296</td>\n",
              "      <td>0.000000</td>\n",
              "    </tr>\n",
              "    <tr>\n",
              "      <th>75%</th>\n",
              "      <td>0.677054</td>\n",
              "      <td>0.667813</td>\n",
              "      <td>0.362877</td>\n",
              "      <td>0.684975</td>\n",
              "      <td>0.679601</td>\n",
              "      <td>0.887342</td>\n",
              "      <td>0.691908</td>\n",
              "      <td>0.593365</td>\n",
              "      <td>0.674291</td>\n",
              "      <td>0.820807</td>\n",
              "      <td>...</td>\n",
              "      <td>0.669553</td>\n",
              "      <td>0.680269</td>\n",
              "      <td>0.765493</td>\n",
              "      <td>0.666883</td>\n",
              "      <td>0.673619</td>\n",
              "      <td>0.665249</td>\n",
              "      <td>0.677543</td>\n",
              "      <td>0.685363</td>\n",
              "      <td>0.674835</td>\n",
              "      <td>0.000000</td>\n",
              "    </tr>\n",
              "    <tr>\n",
              "      <th>max</th>\n",
              "      <td>4.474327</td>\n",
              "      <td>3.976449</td>\n",
              "      <td>5.741914</td>\n",
              "      <td>4.469424</td>\n",
              "      <td>3.973521</td>\n",
              "      <td>5.617003</td>\n",
              "      <td>4.035779</td>\n",
              "      <td>5.655429</td>\n",
              "      <td>4.836956</td>\n",
              "      <td>4.360675</td>\n",
              "      <td>...</td>\n",
              "      <td>3.912316</td>\n",
              "      <td>3.976569</td>\n",
              "      <td>4.710651</td>\n",
              "      <td>4.489546</td>\n",
              "      <td>3.728837</td>\n",
              "      <td>3.915494</td>\n",
              "      <td>4.201447</td>\n",
              "      <td>3.849052</td>\n",
              "      <td>3.940802</td>\n",
              "      <td>1.000000</td>\n",
              "    </tr>\n",
              "  </tbody>\n",
              "</table>\n",
              "<p>8 rows × 21 columns</p>\n",
              "</div>\n",
              "      <button class=\"colab-df-convert\" onclick=\"convertToInteractive('df-8296f368-8598-49d0-8c82-f9fe71bff72e')\"\n",
              "              title=\"Convert this dataframe to an interactive table.\"\n",
              "              style=\"display:none;\">\n",
              "        \n",
              "  <svg xmlns=\"http://www.w3.org/2000/svg\" height=\"24px\"viewBox=\"0 0 24 24\"\n",
              "       width=\"24px\">\n",
              "    <path d=\"M0 0h24v24H0V0z\" fill=\"none\"/>\n",
              "    <path d=\"M18.56 5.44l.94 2.06.94-2.06 2.06-.94-2.06-.94-.94-2.06-.94 2.06-2.06.94zm-11 1L8.5 8.5l.94-2.06 2.06-.94-2.06-.94L8.5 2.5l-.94 2.06-2.06.94zm10 10l.94 2.06.94-2.06 2.06-.94-2.06-.94-.94-2.06-.94 2.06-2.06.94z\"/><path d=\"M17.41 7.96l-1.37-1.37c-.4-.4-.92-.59-1.43-.59-.52 0-1.04.2-1.43.59L10.3 9.45l-7.72 7.72c-.78.78-.78 2.05 0 2.83L4 21.41c.39.39.9.59 1.41.59.51 0 1.02-.2 1.41-.59l7.78-7.78 2.81-2.81c.8-.78.8-2.07 0-2.86zM5.41 20L4 18.59l7.72-7.72 1.47 1.35L5.41 20z\"/>\n",
              "  </svg>\n",
              "      </button>\n",
              "      \n",
              "  <style>\n",
              "    .colab-df-container {\n",
              "      display:flex;\n",
              "      flex-wrap:wrap;\n",
              "      gap: 12px;\n",
              "    }\n",
              "\n",
              "    .colab-df-convert {\n",
              "      background-color: #E8F0FE;\n",
              "      border: none;\n",
              "      border-radius: 50%;\n",
              "      cursor: pointer;\n",
              "      display: none;\n",
              "      fill: #1967D2;\n",
              "      height: 32px;\n",
              "      padding: 0 0 0 0;\n",
              "      width: 32px;\n",
              "    }\n",
              "\n",
              "    .colab-df-convert:hover {\n",
              "      background-color: #E2EBFA;\n",
              "      box-shadow: 0px 1px 2px rgba(60, 64, 67, 0.3), 0px 1px 3px 1px rgba(60, 64, 67, 0.15);\n",
              "      fill: #174EA6;\n",
              "    }\n",
              "\n",
              "    [theme=dark] .colab-df-convert {\n",
              "      background-color: #3B4455;\n",
              "      fill: #D2E3FC;\n",
              "    }\n",
              "\n",
              "    [theme=dark] .colab-df-convert:hover {\n",
              "      background-color: #434B5C;\n",
              "      box-shadow: 0px 1px 3px 1px rgba(0, 0, 0, 0.15);\n",
              "      filter: drop-shadow(0px 1px 2px rgba(0, 0, 0, 0.3));\n",
              "      fill: #FFFFFF;\n",
              "    }\n",
              "  </style>\n",
              "\n",
              "      <script>\n",
              "        const buttonEl =\n",
              "          document.querySelector('#df-8296f368-8598-49d0-8c82-f9fe71bff72e button.colab-df-convert');\n",
              "        buttonEl.style.display =\n",
              "          google.colab.kernel.accessAllowed ? 'block' : 'none';\n",
              "\n",
              "        async function convertToInteractive(key) {\n",
              "          const element = document.querySelector('#df-8296f368-8598-49d0-8c82-f9fe71bff72e');\n",
              "          const dataTable =\n",
              "            await google.colab.kernel.invokeFunction('convertToInteractive',\n",
              "                                                     [key], {});\n",
              "          if (!dataTable) return;\n",
              "\n",
              "          const docLinkHtml = 'Like what you see? Visit the ' +\n",
              "            '<a target=\"_blank\" href=https://colab.research.google.com/notebooks/data_table.ipynb>data table notebook</a>'\n",
              "            + ' to learn more about interactive tables.';\n",
              "          element.innerHTML = '';\n",
              "          dataTable['output_type'] = 'display_data';\n",
              "          await google.colab.output.renderOutput(dataTable, element);\n",
              "          const docLink = document.createElement('div');\n",
              "          docLink.innerHTML = docLinkHtml;\n",
              "          element.appendChild(docLink);\n",
              "        }\n",
              "      </script>\n",
              "    </div>\n",
              "  </div>\n",
              "  "
            ]
          },
          "metadata": {},
          "execution_count": 31
        }
      ]
    },
    {
      "cell_type": "code",
      "source": [
        "#Mengecek data apakah ada data yg kosong (NULL)\n",
        "data.isna().sum()"
      ],
      "metadata": {
        "colab": {
          "base_uri": "https://localhost:8080/"
        },
        "id": "5d53Ti0O3txC",
        "outputId": "c5f50e17-b24d-4b67-91f6-aa12225f1587"
      },
      "execution_count": 32,
      "outputs": [
        {
          "output_type": "execute_result",
          "data": {
            "text/plain": [
              "X1     0\n",
              "X2     0\n",
              "X3     0\n",
              "X4     0\n",
              "X5     0\n",
              "X6     0\n",
              "X7     0\n",
              "X8     0\n",
              "X9     0\n",
              "X10    0\n",
              "X11    0\n",
              "X12    0\n",
              "X13    0\n",
              "X14    0\n",
              "X15    0\n",
              "X16    0\n",
              "X17    0\n",
              "X18    0\n",
              "X19    0\n",
              "X20    0\n",
              "y      0\n",
              "dtype: int64"
            ]
          },
          "metadata": {},
          "execution_count": 32
        }
      ]
    },
    {
      "cell_type": "markdown",
      "source": [
        "**Data Preprocessing**"
      ],
      "metadata": {
        "id": "i_mv32C_32ek"
      }
    },
    {
      "cell_type": "code",
      "source": [
        "X2 = data.drop(columns = 'y')\n",
        "y2 = data['y']"
      ],
      "metadata": {
        "id": "J1Kznkle31D7"
      },
      "execution_count": 34,
      "outputs": []
    },
    {
      "cell_type": "code",
      "source": [
        "#Split data\n",
        "X_train2, X_test2, y_train2, y_test2 = train_test_split(X2, y2, test_size = 0.25, random_state = 1)"
      ],
      "metadata": {
        "id": "8o--iLTs4E4k"
      },
      "execution_count": 35,
      "outputs": []
    },
    {
      "cell_type": "markdown",
      "source": [
        "**Modelling**"
      ],
      "metadata": {
        "id": "Jn0HHFRC4jEx"
      }
    },
    {
      "cell_type": "code",
      "source": [
        "clf = MLPClassifier(hidden_layer_sizes = (100, 100), random_state = 1, max_iter = 300)\n",
        "clf = clf.fit(X_train2, y_train2)"
      ],
      "metadata": {
        "colab": {
          "base_uri": "https://localhost:8080/"
        },
        "id": "MJoUNDKw4eec",
        "outputId": "6217ac20-7333-4584-dc41-d7f93d8f60b4"
      },
      "execution_count": 36,
      "outputs": [
        {
          "output_type": "stream",
          "name": "stderr",
          "text": [
            "/usr/local/lib/python3.10/dist-packages/sklearn/neural_network/_multilayer_perceptron.py:686: ConvergenceWarning: Stochastic Optimizer: Maximum iterations (300) reached and the optimization hasn't converged yet.\n",
            "  warnings.warn(\n"
          ]
        }
      ]
    },
    {
      "cell_type": "markdown",
      "source": [
        "**Evaluasi**"
      ],
      "metadata": {
        "id": "bXojTvcV5Qxm"
      }
    },
    {
      "cell_type": "code",
      "source": [
        "y_pred = clf.predict(X_test2)\n",
        "\n",
        "from sklearn.metrics import accuracy_score, classification_report, confusion_matrix\n",
        "\n",
        "print('Skor Akurasi: ', accuracy_score(y_test2, y_pred))"
      ],
      "metadata": {
        "colab": {
          "base_uri": "https://localhost:8080/"
        },
        "id": "dqGhGCEF5O4A",
        "outputId": "7892a451-55aa-4a55-8d41-9b5b07664ab7"
      },
      "execution_count": 38,
      "outputs": [
        {
          "output_type": "stream",
          "name": "stdout",
          "text": [
            "Skor Akurasi:  0.8515\n"
          ]
        }
      ]
    },
    {
      "cell_type": "markdown",
      "source": [
        "Diperoleh nilai akurasi sebesar 0.8515 atau 85%"
      ],
      "metadata": {
        "id": "cAuJw6UA6a65"
      }
    },
    {
      "cell_type": "code",
      "source": [
        "#Menampilkan Classification Report\n",
        "print(classification_report(y_test2, y_pred))"
      ],
      "metadata": {
        "colab": {
          "base_uri": "https://localhost:8080/"
        },
        "id": "ijHf-gt55uJj",
        "outputId": "602b9ac7-0ef1-43b5-b270-a24fff8e6024"
      },
      "execution_count": 39,
      "outputs": [
        {
          "output_type": "stream",
          "name": "stdout",
          "text": [
            "              precision    recall  f1-score   support\n",
            "\n",
            "           0       0.91      0.91      0.91      8184\n",
            "           1       0.59      0.61      0.60      1816\n",
            "\n",
            "    accuracy                           0.85     10000\n",
            "   macro avg       0.75      0.76      0.75     10000\n",
            "weighted avg       0.85      0.85      0.85     10000\n",
            "\n"
          ]
        }
      ]
    },
    {
      "cell_type": "markdown",
      "source": [
        "1. Precision untuk kelas 0 adalah 0.91, sedangkan untuk kelas 1 adalah 0.59. Berarti, model cenderung lebih akurat dalam memprediksi contoh kelas 0 daripada kelas 1.\n",
        "2. Recall untuk kelas 0 adalah 0.91, sedangkan untuk kelas 1 adalah 0.61. Artinya, model cenderung lebih baik dalam mengidentifikasi contoh kelas 0 daripada kelas 1.\n",
        "3. F1-Score untuk kelas 0 adalah 0.91, sedangkan untuk kelas 1 adalah 0.60. F1-Score biasanya menjadi metrik evaluasi yang lebih baik dibandingkan dengan akurasi pada dataset yang tidak seimbang.\n",
        "3. Accuracy yang diperoleh adalah 0.85, artinya model berhasil memprediksi dengan benar 85% dari total data test.\n",
        "4. Macro avg untuk dataset ini adalah 0.75.\n",
        "5. Weighted avg untuk dataset ini adalah 0.85.\n",
        "\n",
        "> Dapat disimpulkan, prediksi yang dilakukan sudah cukup baik dan tidak memerlukan transformasi data"
      ],
      "metadata": {
        "id": "BY9rOZ5f6oTy"
      }
    },
    {
      "cell_type": "code",
      "source": [
        "#Menampilkan Confussion Matrix\n",
        "cm = np.array(confusion_matrix(y_test2, y_pred, labels = [0,1]))\n",
        "sns.heatmap(cm, annot = True, fmt = 'g')"
      ],
      "metadata": {
        "colab": {
          "base_uri": "https://localhost:8080/",
          "height": 447
        },
        "id": "nj0NzhiL59aD",
        "outputId": "ed3cd031-75f4-4ed1-eece-257760e880e1"
      },
      "execution_count": 41,
      "outputs": [
        {
          "output_type": "execute_result",
          "data": {
            "text/plain": [
              "<Axes: >"
            ]
          },
          "metadata": {},
          "execution_count": 41
        },
        {
          "output_type": "display_data",
          "data": {
            "text/plain": [
              "<Figure size 640x480 with 2 Axes>"
            ],
            "image/png": "[encoded data removed]"
          },
          "metadata": {}
        }
      ]
    },
    {
      "cell_type": "markdown",
      "source": [
        "1. Pada model memprediksi True (1) dengan data aslli True (1) sebesar 1102\n",
        "2. Pada model memprediksi False (0) dengan data asli False (0) sebesar 7413\n",
        "3. Pada model memprediksi True (1) dan data asli False (0) sebesar 714\n",
        "4. Pada model memprediksi False (0) dan data asli True (1) sebesar 771"
      ],
      "metadata": {
        "id": "1RLChbtP7SUL"
      }
    },
    {
      "cell_type": "code",
      "source": [
        "#Perbandingan data prediksi dengan data sebenarnya\n",
        "per_data = pd.DataFrame({'Data Sebenarnya' : y_test2, 'Data Prediksi' : y_pred})\n",
        "per_data"
      ],
      "metadata": {
        "colab": {
          "base_uri": "https://localhost:8080/",
          "height": 423
        },
        "id": "iqGNjUp_6liJ",
        "outputId": "4fe3bc86-d498-44ac-c267-0e9693c578c4"
      },
      "execution_count": 42,
      "outputs": [
        {
          "output_type": "execute_result",
          "data": {
            "text/plain": [
              "       Data Sebenarnya  Data Prediksi\n",
              "3841                 0              0\n",
              "12898                0              0\n",
              "15032                0              0\n",
              "36781                0              0\n",
              "9201                 0              0\n",
              "...                ...            ...\n",
              "56                   0              0\n",
              "11647                0              0\n",
              "25221                1              1\n",
              "31701                0              0\n",
              "31289                0              0\n",
              "\n",
              "[10000 rows x 2 columns]"
            ],
            "text/html": [
              "\n",
              "  <div id=\"df-3f93a9af-6909-46bd-a7cb-2ba7ebcdcdcb\">\n",
              "    <div class=\"colab-df-container\">\n",
              "      <div>\n",
              "<style scoped>\n",
              "    .dataframe tbody tr th:only-of-type {\n",
              "        vertical-align: middle;\n",
              "    }\n",
              "\n",
              "    .dataframe tbody tr th {\n",
              "        vertical-align: top;\n",
              "    }\n",
              "\n",
              "    .dataframe thead th {\n",
              "        text-align: right;\n",
              "    }\n",
              "</style>\n",
              "<table border=\"1\" class=\"dataframe\">\n",
              "  <thead>\n",
              "    <tr style=\"text-align: right;\">\n",
              "      <th></th>\n",
              "      <th>Data Sebenarnya</th>\n",
              "      <th>Data Prediksi</th>\n",
              "    </tr>\n",
              "  </thead>\n",
              "  <tbody>\n",
              "    <tr>\n",
              "      <th>3841</th>\n",
              "      <td>0</td>\n",
              "      <td>0</td>\n",
              "    </tr>\n",
              "    <tr>\n",
              "      <th>12898</th>\n",
              "      <td>0</td>\n",
              "      <td>0</td>\n",
              "    </tr>\n",
              "    <tr>\n",
              "      <th>15032</th>\n",
              "      <td>0</td>\n",
              "      <td>0</td>\n",
              "    </tr>\n",
              "    <tr>\n",
              "      <th>36781</th>\n",
              "      <td>0</td>\n",
              "      <td>0</td>\n",
              "    </tr>\n",
              "    <tr>\n",
              "      <th>9201</th>\n",
              "      <td>0</td>\n",
              "      <td>0</td>\n",
              "    </tr>\n",
              "    <tr>\n",
              "      <th>...</th>\n",
              "      <td>...</td>\n",
              "      <td>...</td>\n",
              "    </tr>\n",
              "    <tr>\n",
              "      <th>56</th>\n",
              "      <td>0</td>\n",
              "      <td>0</td>\n",
              "    </tr>\n",
              "    <tr>\n",
              "      <th>11647</th>\n",
              "      <td>0</td>\n",
              "      <td>0</td>\n",
              "    </tr>\n",
              "    <tr>\n",
              "      <th>25221</th>\n",
              "      <td>1</td>\n",
              "      <td>1</td>\n",
              "    </tr>\n",
              "    <tr>\n",
              "      <th>31701</th>\n",
              "      <td>0</td>\n",
              "      <td>0</td>\n",
              "    </tr>\n",
              "    <tr>\n",
              "      <th>31289</th>\n",
              "      <td>0</td>\n",
              "      <td>0</td>\n",
              "    </tr>\n",
              "  </tbody>\n",
              "</table>\n",
              "<p>10000 rows × 2 columns</p>\n",
              "</div>\n",
              "      <button class=\"colab-df-convert\" onclick=\"convertToInteractive('df-3f93a9af-6909-46bd-a7cb-2ba7ebcdcdcb')\"\n",
              "              title=\"Convert this dataframe to an interactive table.\"\n",
              "              style=\"display:none;\">\n",
              "        \n",
              "  <svg xmlns=\"http://www.w3.org/2000/svg\" height=\"24px\"viewBox=\"0 0 24 24\"\n",
              "       width=\"24px\">\n",
              "    <path d=\"M0 0h24v24H0V0z\" fill=\"none\"/>\n",
              "    <path d=\"M18.56 5.44l.94 2.06.94-2.06 2.06-.94-2.06-.94-.94-2.06-.94 2.06-2.06.94zm-11 1L8.5 8.5l.94-2.06 2.06-.94-2.06-.94L8.5 2.5l-.94 2.06-2.06.94zm10 10l.94 2.06.94-2.06 2.06-.94-2.06-.94-.94-2.06-.94 2.06-2.06.94z\"/><path d=\"M17.41 7.96l-1.37-1.37c-.4-.4-.92-.59-1.43-.59-.52 0-1.04.2-1.43.59L10.3 9.45l-7.72 7.72c-.78.78-.78 2.05 0 2.83L4 21.41c.39.39.9.59 1.41.59.51 0 1.02-.2 1.41-.59l7.78-7.78 2.81-2.81c.8-.78.8-2.07 0-2.86zM5.41 20L4 18.59l7.72-7.72 1.47 1.35L5.41 20z\"/>\n",
              "  </svg>\n",
              "      </button>\n",
              "      \n",
              "  <style>\n",
              "    .colab-df-container {\n",
              "      display:flex;\n",
              "      flex-wrap:wrap;\n",
              "      gap: 12px;\n",
              "    }\n",
              "\n",
              "    .colab-df-convert {\n",
              "      background-color: #E8F0FE;\n",
              "      border: none;\n",
              "      border-radius: 50%;\n",
              "      cursor: pointer;\n",
              "      display: none;\n",
              "      fill: #1967D2;\n",
              "      height: 32px;\n",
              "      padding: 0 0 0 0;\n",
              "      width: 32px;\n",
              "    }\n",
              "\n",
              "    .colab-df-convert:hover {\n",
              "      background-color: #E2EBFA;\n",
              "      box-shadow: 0px 1px 2px rgba(60, 64, 67, 0.3), 0px 1px 3px 1px rgba(60, 64, 67, 0.15);\n",
              "      fill: #174EA6;\n",
              "    }\n",
              "\n",
              "    [theme=dark] .colab-df-convert {\n",
              "      background-color: #3B4455;\n",
              "      fill: #D2E3FC;\n",
              "    }\n",
              "\n",
              "    [theme=dark] .colab-df-convert:hover {\n",
              "      background-color: #434B5C;\n",
              "      box-shadow: 0px 1px 3px 1px rgba(0, 0, 0, 0.15);\n",
              "      filter: drop-shadow(0px 1px 2px rgba(0, 0, 0, 0.3));\n",
              "      fill: #FFFFFF;\n",
              "    }\n",
              "  </style>\n",
              "\n",
              "      <script>\n",
              "        const buttonEl =\n",
              "          document.querySelector('#df-3f93a9af-6909-46bd-a7cb-2ba7ebcdcdcb button.colab-df-convert');\n",
              "        buttonEl.style.display =\n",
              "          google.colab.kernel.accessAllowed ? 'block' : 'none';\n",
              "\n",
              "        async function convertToInteractive(key) {\n",
              "          const element = document.querySelector('#df-3f93a9af-6909-46bd-a7cb-2ba7ebcdcdcb');\n",
              "          const dataTable =\n",
              "            await google.colab.kernel.invokeFunction('convertToInteractive',\n",
              "                                                     [key], {});\n",
              "          if (!dataTable) return;\n",
              "\n",
              "          const docLinkHtml = 'Like what you see? Visit the ' +\n",
              "            '<a target=\"_blank\" href=https://colab.research.google.com/notebooks/data_table.ipynb>data table notebook</a>'\n",
              "            + ' to learn more about interactive tables.';\n",
              "          element.innerHTML = '';\n",
              "          dataTable['output_type'] = 'display_data';\n",
              "          await google.colab.output.renderOutput(dataTable, element);\n",
              "          const docLink = document.createElement('div');\n",
              "          docLink.innerHTML = docLinkHtml;\n",
              "          element.appendChild(docLink);\n",
              "        }\n",
              "      </script>\n",
              "    </div>\n",
              "  </div>\n",
              "  "
            ]
          },
          "metadata": {},
          "execution_count": 42
        }
      ]
    },
    {
      "cell_type": "markdown",
      "source": [
        "**Prediksi dengan Data Test yang Disediakan**"
      ],
      "metadata": {
        "id": "AxEcn_VT8YGp"
      }
    },
    {
      "cell_type": "code",
      "source": [
        "test = pd.read_csv('/content/drive/MyDrive/LAKSMI/test.csv')\n",
        "test.head()"
      ],
      "metadata": {
        "colab": {
          "base_uri": "https://localhost:8080/",
          "height": 270
        },
        "id": "3-mfBnrk8VR6",
        "outputId": "5e91a95e-44c2-49a4-973a-0093f8216fb7"
      },
      "execution_count": 43,
      "outputs": [
        {
          "output_type": "execute_result",
          "data": {
            "text/plain": [
              "         X1        X2        X3        X4        X5        X6        X7  \\\n",
              "0 -0.028219  0.549561 -2.418207 -1.044998  0.407799  0.619205  0.106923   \n",
              "1  0.094844  0.792163 -2.752377  1.203003 -1.375144  0.515847 -1.664628   \n",
              "2 -0.484681  0.109923  0.694203 -0.155574 -1.231342  0.396700  0.652140   \n",
              "3 -0.596665  0.825206  0.255655  0.160876 -1.804463  1.741996 -0.747668   \n",
              "4 -0.682088  2.139841 -0.592823  2.540552  0.699323 -0.390922 -2.359481   \n",
              "\n",
              "         X8        X9       X10       X11       X12       X13       X14  \\\n",
              "0 -1.270405 -0.313204  1.842582  1.009887  0.822982 -0.906015 -2.040488   \n",
              "1 -1.614125 -1.618791  1.926683 -0.149003  0.336739  0.580149 -1.735681   \n",
              "2  0.796323  0.478648 -0.214443  1.170610  0.105685  2.057264 -0.561242   \n",
              "3  1.027326 -1.443739 -0.395399 -1.250914  0.194622 -2.495038  0.324393   \n",
              "4 -0.562410 -0.182688  0.555894 -1.567071 -1.652555  0.197548 -0.670142   \n",
              "\n",
              "        X15       X16       X17       X18       X19       X20  \n",
              "0 -0.651876  0.221558  2.059341  0.107250 -0.030640  1.333016  \n",
              "1 -2.340054 -1.605809  1.046785 -0.647790  1.490847 -2.286397  \n",
              "2 -2.034570 -1.365867 -0.096811 -0.977088  1.341149 -0.489354  \n",
              "3  2.124874 -2.035139  0.369559 -0.357417 -0.070363  0.267091  \n",
              "4 -0.494038  0.063157 -0.733466  0.739299  1.020933  0.130093  "
            ],
            "text/html": [
              "\n",
              "  <div id=\"df-58864f5c-d7f3-45f8-ac57-86f30f81eaa2\">\n",
              "    <div class=\"colab-df-container\">\n",
              "      <div>\n",
              "<style scoped>\n",
              "    .dataframe tbody tr th:only-of-type {\n",
              "        vertical-align: middle;\n",
              "    }\n",
              "\n",
              "    .dataframe tbody tr th {\n",
              "        vertical-align: top;\n",
              "    }\n",
              "\n",
              "    .dataframe thead th {\n",
              "        text-align: right;\n",
              "    }\n",
              "</style>\n",
              "<table border=\"1\" class=\"dataframe\">\n",
              "  <thead>\n",
              "    <tr style=\"text-align: right;\">\n",
              "      <th></th>\n",
              "      <th>X1</th>\n",
              "      <th>X2</th>\n",
              "      <th>X3</th>\n",
              "      <th>X4</th>\n",
              "      <th>X5</th>\n",
              "      <th>X6</th>\n",
              "      <th>X7</th>\n",
              "      <th>X8</th>\n",
              "      <th>X9</th>\n",
              "      <th>X10</th>\n",
              "      <th>X11</th>\n",
              "      <th>X12</th>\n",
              "      <th>X13</th>\n",
              "      <th>X14</th>\n",
              "      <th>X15</th>\n",
              "      <th>X16</th>\n",
              "      <th>X17</th>\n",
              "      <th>X18</th>\n",
              "      <th>X19</th>\n",
              "      <th>X20</th>\n",
              "    </tr>\n",
              "  </thead>\n",
              "  <tbody>\n",
              "    <tr>\n",
              "      <th>0</th>\n",
              "      <td>-0.028219</td>\n",
              "      <td>0.549561</td>\n",
              "      <td>-2.418207</td>\n",
              "      <td>-1.044998</td>\n",
              "      <td>0.407799</td>\n",
              "      <td>0.619205</td>\n",
              "      <td>0.106923</td>\n",
              "      <td>-1.270405</td>\n",
              "      <td>-0.313204</td>\n",
              "      <td>1.842582</td>\n",
              "      <td>1.009887</td>\n",
              "      <td>0.822982</td>\n",
              "      <td>-0.906015</td>\n",
              "      <td>-2.040488</td>\n",
              "      <td>-0.651876</td>\n",
              "      <td>0.221558</td>\n",
              "      <td>2.059341</td>\n",
              "      <td>0.107250</td>\n",
              "      <td>-0.030640</td>\n",
              "      <td>1.333016</td>\n",
              "    </tr>\n",
              "    <tr>\n",
              "      <th>1</th>\n",
              "      <td>0.094844</td>\n",
              "      <td>0.792163</td>\n",
              "      <td>-2.752377</td>\n",
              "      <td>1.203003</td>\n",
              "      <td>-1.375144</td>\n",
              "      <td>0.515847</td>\n",
              "      <td>-1.664628</td>\n",
              "      <td>-1.614125</td>\n",
              "      <td>-1.618791</td>\n",
              "      <td>1.926683</td>\n",
              "      <td>-0.149003</td>\n",
              "      <td>0.336739</td>\n",
              "      <td>0.580149</td>\n",
              "      <td>-1.735681</td>\n",
              "      <td>-2.340054</td>\n",
              "      <td>-1.605809</td>\n",
              "      <td>1.046785</td>\n",
              "      <td>-0.647790</td>\n",
              "      <td>1.490847</td>\n",
              "      <td>-2.286397</td>\n",
              "    </tr>\n",
              "    <tr>\n",
              "      <th>2</th>\n",
              "      <td>-0.484681</td>\n",
              "      <td>0.109923</td>\n",
              "      <td>0.694203</td>\n",
              "      <td>-0.155574</td>\n",
              "      <td>-1.231342</td>\n",
              "      <td>0.396700</td>\n",
              "      <td>0.652140</td>\n",
              "      <td>0.796323</td>\n",
              "      <td>0.478648</td>\n",
              "      <td>-0.214443</td>\n",
              "      <td>1.170610</td>\n",
              "      <td>0.105685</td>\n",
              "      <td>2.057264</td>\n",
              "      <td>-0.561242</td>\n",
              "      <td>-2.034570</td>\n",
              "      <td>-1.365867</td>\n",
              "      <td>-0.096811</td>\n",
              "      <td>-0.977088</td>\n",
              "      <td>1.341149</td>\n",
              "      <td>-0.489354</td>\n",
              "    </tr>\n",
              "    <tr>\n",
              "      <th>3</th>\n",
              "      <td>-0.596665</td>\n",
              "      <td>0.825206</td>\n",
              "      <td>0.255655</td>\n",
              "      <td>0.160876</td>\n",
              "      <td>-1.804463</td>\n",
              "      <td>1.741996</td>\n",
              "      <td>-0.747668</td>\n",
              "      <td>1.027326</td>\n",
              "      <td>-1.443739</td>\n",
              "      <td>-0.395399</td>\n",
              "      <td>-1.250914</td>\n",
              "      <td>0.194622</td>\n",
              "      <td>-2.495038</td>\n",
              "      <td>0.324393</td>\n",
              "      <td>2.124874</td>\n",
              "      <td>-2.035139</td>\n",
              "      <td>0.369559</td>\n",
              "      <td>-0.357417</td>\n",
              "      <td>-0.070363</td>\n",
              "      <td>0.267091</td>\n",
              "    </tr>\n",
              "    <tr>\n",
              "      <th>4</th>\n",
              "      <td>-0.682088</td>\n",
              "      <td>2.139841</td>\n",
              "      <td>-0.592823</td>\n",
              "      <td>2.540552</td>\n",
              "      <td>0.699323</td>\n",
              "      <td>-0.390922</td>\n",
              "      <td>-2.359481</td>\n",
              "      <td>-0.562410</td>\n",
              "      <td>-0.182688</td>\n",
              "      <td>0.555894</td>\n",
              "      <td>-1.567071</td>\n",
              "      <td>-1.652555</td>\n",
              "      <td>0.197548</td>\n",
              "      <td>-0.670142</td>\n",
              "      <td>-0.494038</td>\n",
              "      <td>0.063157</td>\n",
              "      <td>-0.733466</td>\n",
              "      <td>0.739299</td>\n",
              "      <td>1.020933</td>\n",
              "      <td>0.130093</td>\n",
              "    </tr>\n",
              "  </tbody>\n",
              "</table>\n",
              "</div>\n",
              "      <button class=\"colab-df-convert\" onclick=\"convertToInteractive('df-58864f5c-d7f3-45f8-ac57-86f30f81eaa2')\"\n",
              "              title=\"Convert this dataframe to an interactive table.\"\n",
              "              style=\"display:none;\">\n",
              "        \n",
              "  <svg xmlns=\"http://www.w3.org/2000/svg\" height=\"24px\"viewBox=\"0 0 24 24\"\n",
              "       width=\"24px\">\n",
              "    <path d=\"M0 0h24v24H0V0z\" fill=\"none\"/>\n",
              "    <path d=\"M18.56 5.44l.94 2.06.94-2.06 2.06-.94-2.06-.94-.94-2.06-.94 2.06-2.06.94zm-11 1L8.5 8.5l.94-2.06 2.06-.94-2.06-.94L8.5 2.5l-.94 2.06-2.06.94zm10 10l.94 2.06.94-2.06 2.06-.94-2.06-.94-.94-2.06-.94 2.06-2.06.94z\"/><path d=\"M17.41 7.96l-1.37-1.37c-.4-.4-.92-.59-1.43-.59-.52 0-1.04.2-1.43.59L10.3 9.45l-7.72 7.72c-.78.78-.78 2.05 0 2.83L4 21.41c.39.39.9.59 1.41.59.51 0 1.02-.2 1.41-.59l7.78-7.78 2.81-2.81c.8-.78.8-2.07 0-2.86zM5.41 20L4 18.59l7.72-7.72 1.47 1.35L5.41 20z\"/>\n",
              "  </svg>\n",
              "      </button>\n",
              "      \n",
              "  <style>\n",
              "    .colab-df-container {\n",
              "      display:flex;\n",
              "      flex-wrap:wrap;\n",
              "      gap: 12px;\n",
              "    }\n",
              "\n",
              "    .colab-df-convert {\n",
              "      background-color: #E8F0FE;\n",
              "      border: none;\n",
              "      border-radius: 50%;\n",
              "      cursor: pointer;\n",
              "      display: none;\n",
              "      fill: #1967D2;\n",
              "      height: 32px;\n",
              "      padding: 0 0 0 0;\n",
              "      width: 32px;\n",
              "    }\n",
              "\n",
              "    .colab-df-convert:hover {\n",
              "      background-color: #E2EBFA;\n",
              "      box-shadow: 0px 1px 2px rgba(60, 64, 67, 0.3), 0px 1px 3px 1px rgba(60, 64, 67, 0.15);\n",
              "      fill: #174EA6;\n",
              "    }\n",
              "\n",
              "    [theme=dark] .colab-df-convert {\n",
              "      background-color: #3B4455;\n",
              "      fill: #D2E3FC;\n",
              "    }\n",
              "\n",
              "    [theme=dark] .colab-df-convert:hover {\n",
              "      background-color: #434B5C;\n",
              "      box-shadow: 0px 1px 3px 1px rgba(0, 0, 0, 0.15);\n",
              "      filter: drop-shadow(0px 1px 2px rgba(0, 0, 0, 0.3));\n",
              "      fill: #FFFFFF;\n",
              "    }\n",
              "  </style>\n",
              "\n",
              "      <script>\n",
              "        const buttonEl =\n",
              "          document.querySelector('#df-58864f5c-d7f3-45f8-ac57-86f30f81eaa2 button.colab-df-convert');\n",
              "        buttonEl.style.display =\n",
              "          google.colab.kernel.accessAllowed ? 'block' : 'none';\n",
              "\n",
              "        async function convertToInteractive(key) {\n",
              "          const element = document.querySelector('#df-58864f5c-d7f3-45f8-ac57-86f30f81eaa2');\n",
              "          const dataTable =\n",
              "            await google.colab.kernel.invokeFunction('convertToInteractive',\n",
              "                                                     [key], {});\n",
              "          if (!dataTable) return;\n",
              "\n",
              "          const docLinkHtml = 'Like what you see? Visit the ' +\n",
              "            '<a target=\"_blank\" href=https://colab.research.google.com/notebooks/data_table.ipynb>data table notebook</a>'\n",
              "            + ' to learn more about interactive tables.';\n",
              "          element.innerHTML = '';\n",
              "          dataTable['output_type'] = 'display_data';\n",
              "          await google.colab.output.renderOutput(dataTable, element);\n",
              "          const docLink = document.createElement('div');\n",
              "          docLink.innerHTML = docLinkHtml;\n",
              "          element.appendChild(docLink);\n",
              "        }\n",
              "      </script>\n",
              "    </div>\n",
              "  </div>\n",
              "  "
            ]
          },
          "metadata": {},
          "execution_count": 43
        }
      ]
    },
    {
      "cell_type": "code",
      "source": [
        "#Prediksi dengan data test baru\n",
        "prediksi = clf.predict(test)\n",
        "\n",
        "hasil = pd.DataFrame({'Prediski': prediksi})\n",
        "hasil"
      ],
      "metadata": {
        "colab": {
          "base_uri": "https://localhost:8080/",
          "height": 423
        },
        "id": "fZvHSeb48n8T",
        "outputId": "330a7120-3d0f-4dc2-ab0e-bdb5ffb2d1ef"
      },
      "execution_count": 45,
      "outputs": [
        {
          "output_type": "execute_result",
          "data": {
            "text/plain": [
              "      Prediski\n",
              "0            0\n",
              "1            0\n",
              "2            1\n",
              "3            0\n",
              "4            0\n",
              "...        ...\n",
              "9995         0\n",
              "9996         1\n",
              "9997         0\n",
              "9998         0\n",
              "9999         0\n",
              "\n",
              "[10000 rows x 1 columns]"
            ],
            "text/html": [
              "\n",
              "  <div id=\"df-be03024c-afc7-44a3-88fc-409845d400bc\">\n",
              "    <div class=\"colab-df-container\">\n",
              "      <div>\n",
              "<style scoped>\n",
              "    .dataframe tbody tr th:only-of-type {\n",
              "        vertical-align: middle;\n",
              "    }\n",
              "\n",
              "    .dataframe tbody tr th {\n",
              "        vertical-align: top;\n",
              "    }\n",
              "\n",
              "    .dataframe thead th {\n",
              "        text-align: right;\n",
              "    }\n",
              "</style>\n",
              "<table border=\"1\" class=\"dataframe\">\n",
              "  <thead>\n",
              "    <tr style=\"text-align: right;\">\n",
              "      <th></th>\n",
              "      <th>Prediski</th>\n",
              "    </tr>\n",
              "  </thead>\n",
              "  <tbody>\n",
              "    <tr>\n",
              "      <th>0</th>\n",
              "      <td>0</td>\n",
              "    </tr>\n",
              "    <tr>\n",
              "      <th>1</th>\n",
              "      <td>0</td>\n",
              "    </tr>\n",
              "    <tr>\n",
              "      <th>2</th>\n",
              "      <td>1</td>\n",
              "    </tr>\n",
              "    <tr>\n",
              "      <th>3</th>\n",
              "      <td>0</td>\n",
              "    </tr>\n",
              "    <tr>\n",
              "      <th>4</th>\n",
              "      <td>0</td>\n",
              "    </tr>\n",
              "    <tr>\n",
              "      <th>...</th>\n",
              "      <td>...</td>\n",
              "    </tr>\n",
              "    <tr>\n",
              "      <th>9995</th>\n",
              "      <td>0</td>\n",
              "    </tr>\n",
              "    <tr>\n",
              "      <th>9996</th>\n",
              "      <td>1</td>\n",
              "    </tr>\n",
              "    <tr>\n",
              "      <th>9997</th>\n",
              "      <td>0</td>\n",
              "    </tr>\n",
              "    <tr>\n",
              "      <th>9998</th>\n",
              "      <td>0</td>\n",
              "    </tr>\n",
              "    <tr>\n",
              "      <th>9999</th>\n",
              "      <td>0</td>\n",
              "    </tr>\n",
              "  </tbody>\n",
              "</table>\n",
              "<p>10000 rows × 1 columns</p>\n",
              "</div>\n",
              "      <button class=\"colab-df-convert\" onclick=\"convertToInteractive('df-be03024c-afc7-44a3-88fc-409845d400bc')\"\n",
              "              title=\"Convert this dataframe to an interactive table.\"\n",
              "              style=\"display:none;\">\n",
              "        \n",
              "  <svg xmlns=\"http://www.w3.org/2000/svg\" height=\"24px\"viewBox=\"0 0 24 24\"\n",
              "       width=\"24px\">\n",
              "    <path d=\"M0 0h24v24H0V0z\" fill=\"none\"/>\n",
              "    <path d=\"M18.56 5.44l.94 2.06.94-2.06 2.06-.94-2.06-.94-.94-2.06-.94 2.06-2.06.94zm-11 1L8.5 8.5l.94-2.06 2.06-.94-2.06-.94L8.5 2.5l-.94 2.06-2.06.94zm10 10l.94 2.06.94-2.06 2.06-.94-2.06-.94-.94-2.06-.94 2.06-2.06.94z\"/><path d=\"M17.41 7.96l-1.37-1.37c-.4-.4-.92-.59-1.43-.59-.52 0-1.04.2-1.43.59L10.3 9.45l-7.72 7.72c-.78.78-.78 2.05 0 2.83L4 21.41c.39.39.9.59 1.41.59.51 0 1.02-.2 1.41-.59l7.78-7.78 2.81-2.81c.8-.78.8-2.07 0-2.86zM5.41 20L4 18.59l7.72-7.72 1.47 1.35L5.41 20z\"/>\n",
              "  </svg>\n",
              "      </button>\n",
              "      \n",
              "  <style>\n",
              "    .colab-df-container {\n",
              "      display:flex;\n",
              "      flex-wrap:wrap;\n",
              "      gap: 12px;\n",
              "    }\n",
              "\n",
              "    .colab-df-convert {\n",
              "      background-color: #E8F0FE;\n",
              "      border: none;\n",
              "      border-radius: 50%;\n",
              "      cursor: pointer;\n",
              "      display: none;\n",
              "      fill: #1967D2;\n",
              "      height: 32px;\n",
              "      padding: 0 0 0 0;\n",
              "      width: 32px;\n",
              "    }\n",
              "\n",
              "    .colab-df-convert:hover {\n",
              "      background-color: #E2EBFA;\n",
              "      box-shadow: 0px 1px 2px rgba(60, 64, 67, 0.3), 0px 1px 3px 1px rgba(60, 64, 67, 0.15);\n",
              "      fill: #174EA6;\n",
              "    }\n",
              "\n",
              "    [theme=dark] .colab-df-convert {\n",
              "      background-color: #3B4455;\n",
              "      fill: #D2E3FC;\n",
              "    }\n",
              "\n",
              "    [theme=dark] .colab-df-convert:hover {\n",
              "      background-color: #434B5C;\n",
              "      box-shadow: 0px 1px 3px 1px rgba(0, 0, 0, 0.15);\n",
              "      filter: drop-shadow(0px 1px 2px rgba(0, 0, 0, 0.3));\n",
              "      fill: #FFFFFF;\n",
              "    }\n",
              "  </style>\n",
              "\n",
              "      <script>\n",
              "        const buttonEl =\n",
              "          document.querySelector('#df-be03024c-afc7-44a3-88fc-409845d400bc button.colab-df-convert');\n",
              "        buttonEl.style.display =\n",
              "          google.colab.kernel.accessAllowed ? 'block' : 'none';\n",
              "\n",
              "        async function convertToInteractive(key) {\n",
              "          const element = document.querySelector('#df-be03024c-afc7-44a3-88fc-409845d400bc');\n",
              "          const dataTable =\n",
              "            await google.colab.kernel.invokeFunction('convertToInteractive',\n",
              "                                                     [key], {});\n",
              "          if (!dataTable) return;\n",
              "\n",
              "          const docLinkHtml = 'Like what you see? Visit the ' +\n",
              "            '<a target=\"_blank\" href=https://colab.research.google.com/notebooks/data_table.ipynb>data table notebook</a>'\n",
              "            + ' to learn more about interactive tables.';\n",
              "          element.innerHTML = '';\n",
              "          dataTable['output_type'] = 'display_data';\n",
              "          await google.colab.output.renderOutput(dataTable, element);\n",
              "          const docLink = document.createElement('div');\n",
              "          docLink.innerHTML = docLinkHtml;\n",
              "          element.appendChild(docLink);\n",
              "        }\n",
              "      </script>\n",
              "    </div>\n",
              "  </div>\n",
              "  "
            ]
          },
          "metadata": {},
          "execution_count": 45
        }
      ]
    },
    {
      "cell_type": "code",
      "source": [
        "#Menyimpan Hasil\n",
        "hasil = hasil.rename(columns = {'prediksi' : 'y'})\n",
        "hasil"
      ],
      "metadata": {
        "colab": {
          "base_uri": "https://localhost:8080/",
          "height": 423
        },
        "id": "TXSCx1qc85md",
        "outputId": "2fe4fd3e-2244-4a4d-9166-2dbc92e20fab"
      },
      "execution_count": 46,
      "outputs": [
        {
          "output_type": "execute_result",
          "data": {
            "text/plain": [
              "      Prediski\n",
              "0            0\n",
              "1            0\n",
              "2            1\n",
              "3            0\n",
              "4            0\n",
              "...        ...\n",
              "9995         0\n",
              "9996         1\n",
              "9997         0\n",
              "9998         0\n",
              "9999         0\n",
              "\n",
              "[10000 rows x 1 columns]"
            ],
            "text/html": [
              "\n",
              "  <div id=\"df-ee44ee34-3e9f-4a81-92aa-01310327e9c5\">\n",
              "    <div class=\"colab-df-container\">\n",
              "      <div>\n",
              "<style scoped>\n",
              "    .dataframe tbody tr th:only-of-type {\n",
              "        vertical-align: middle;\n",
              "    }\n",
              "\n",
              "    .dataframe tbody tr th {\n",
              "        vertical-align: top;\n",
              "    }\n",
              "\n",
              "    .dataframe thead th {\n",
              "        text-align: right;\n",
              "    }\n",
              "</style>\n",
              "<table border=\"1\" class=\"dataframe\">\n",
              "  <thead>\n",
              "    <tr style=\"text-align: right;\">\n",
              "      <th></th>\n",
              "      <th>Prediski</th>\n",
              "    </tr>\n",
              "  </thead>\n",
              "  <tbody>\n",
              "    <tr>\n",
              "      <th>0</th>\n",
              "      <td>0</td>\n",
              "    </tr>\n",
              "    <tr>\n",
              "      <th>1</th>\n",
              "      <td>0</td>\n",
              "    </tr>\n",
              "    <tr>\n",
              "      <th>2</th>\n",
              "      <td>1</td>\n",
              "    </tr>\n",
              "    <tr>\n",
              "      <th>3</th>\n",
              "      <td>0</td>\n",
              "    </tr>\n",
              "    <tr>\n",
              "      <th>4</th>\n",
              "      <td>0</td>\n",
              "    </tr>\n",
              "    <tr>\n",
              "      <th>...</th>\n",
              "      <td>...</td>\n",
              "    </tr>\n",
              "    <tr>\n",
              "      <th>9995</th>\n",
              "      <td>0</td>\n",
              "    </tr>\n",
              "    <tr>\n",
              "      <th>9996</th>\n",
              "      <td>1</td>\n",
              "    </tr>\n",
              "    <tr>\n",
              "      <th>9997</th>\n",
              "      <td>0</td>\n",
              "    </tr>\n",
              "    <tr>\n",
              "      <th>9998</th>\n",
              "      <td>0</td>\n",
              "    </tr>\n",
              "    <tr>\n",
              "      <th>9999</th>\n",
              "      <td>0</td>\n",
              "    </tr>\n",
              "  </tbody>\n",
              "</table>\n",
              "<p>10000 rows × 1 columns</p>\n",
              "</div>\n",
              "      <button class=\"colab-df-convert\" onclick=\"convertToInteractive('df-ee44ee34-3e9f-4a81-92aa-01310327e9c5')\"\n",
              "              title=\"Convert this dataframe to an interactive table.\"\n",
              "              style=\"display:none;\">\n",
              "        \n",
              "  <svg xmlns=\"http://www.w3.org/2000/svg\" height=\"24px\"viewBox=\"0 0 24 24\"\n",
              "       width=\"24px\">\n",
              "    <path d=\"M0 0h24v24H0V0z\" fill=\"none\"/>\n",
              "    <path d=\"M18.56 5.44l.94 2.06.94-2.06 2.06-.94-2.06-.94-.94-2.06-.94 2.06-2.06.94zm-11 1L8.5 8.5l.94-2.06 2.06-.94-2.06-.94L8.5 2.5l-.94 2.06-2.06.94zm10 10l.94 2.06.94-2.06 2.06-.94-2.06-.94-.94-2.06-.94 2.06-2.06.94z\"/><path d=\"M17.41 7.96l-1.37-1.37c-.4-.4-.92-.59-1.43-.59-.52 0-1.04.2-1.43.59L10.3 9.45l-7.72 7.72c-.78.78-.78 2.05 0 2.83L4 21.41c.39.39.9.59 1.41.59.51 0 1.02-.2 1.41-.59l7.78-7.78 2.81-2.81c.8-.78.8-2.07 0-2.86zM5.41 20L4 18.59l7.72-7.72 1.47 1.35L5.41 20z\"/>\n",
              "  </svg>\n",
              "      </button>\n",
              "      \n",
              "  <style>\n",
              "    .colab-df-container {\n",
              "      display:flex;\n",
              "      flex-wrap:wrap;\n",
              "      gap: 12px;\n",
              "    }\n",
              "\n",
              "    .colab-df-convert {\n",
              "      background-color: #E8F0FE;\n",
              "      border: none;\n",
              "      border-radius: 50%;\n",
              "      cursor: pointer;\n",
              "      display: none;\n",
              "      fill: #1967D2;\n",
              "      height: 32px;\n",
              "      padding: 0 0 0 0;\n",
              "      width: 32px;\n",
              "    }\n",
              "\n",
              "    .colab-df-convert:hover {\n",
              "      background-color: #E2EBFA;\n",
              "      box-shadow: 0px 1px 2px rgba(60, 64, 67, 0.3), 0px 1px 3px 1px rgba(60, 64, 67, 0.15);\n",
              "      fill: #174EA6;\n",
              "    }\n",
              "\n",
              "    [theme=dark] .colab-df-convert {\n",
              "      background-color: #3B4455;\n",
              "      fill: #D2E3FC;\n",
              "    }\n",
              "\n",
              "    [theme=dark] .colab-df-convert:hover {\n",
              "      background-color: #434B5C;\n",
              "      box-shadow: 0px 1px 3px 1px rgba(0, 0, 0, 0.15);\n",
              "      filter: drop-shadow(0px 1px 2px rgba(0, 0, 0, 0.3));\n",
              "      fill: #FFFFFF;\n",
              "    }\n",
              "  </style>\n",
              "\n",
              "      <script>\n",
              "        const buttonEl =\n",
              "          document.querySelector('#df-ee44ee34-3e9f-4a81-92aa-01310327e9c5 button.colab-df-convert');\n",
              "        buttonEl.style.display =\n",
              "          google.colab.kernel.accessAllowed ? 'block' : 'none';\n",
              "\n",
              "        async function convertToInteractive(key) {\n",
              "          const element = document.querySelector('#df-ee44ee34-3e9f-4a81-92aa-01310327e9c5');\n",
              "          const dataTable =\n",
              "            await google.colab.kernel.invokeFunction('convertToInteractive',\n",
              "                                                     [key], {});\n",
              "          if (!dataTable) return;\n",
              "\n",
              "          const docLinkHtml = 'Like what you see? Visit the ' +\n",
              "            '<a target=\"_blank\" href=https://colab.research.google.com/notebooks/data_table.ipynb>data table notebook</a>'\n",
              "            + ' to learn more about interactive tables.';\n",
              "          element.innerHTML = '';\n",
              "          dataTable['output_type'] = 'display_data';\n",
              "          await google.colab.output.renderOutput(dataTable, element);\n",
              "          const docLink = document.createElement('div');\n",
              "          docLink.innerHTML = docLinkHtml;\n",
              "          element.appendChild(docLink);\n",
              "        }\n",
              "      </script>\n",
              "    </div>\n",
              "  </div>\n",
              "  "
            ]
          },
          "metadata": {},
          "execution_count": 46
        }
      ]
    },
    {
      "cell_type": "code",
      "source": [
        "hasil.to_csv('21110023.csv', index = False)"
      ],
      "metadata": {
        "id": "X9kRbHgV9S0T"
      },
      "execution_count": 47,
      "outputs": []
    },
    {
      "cell_type": "code",
      "source": [],
      "metadata": {
        "id": "zePMtrVp9fHa"
      },
      "execution_count": null,
      "outputs": []
    }
  ]
}